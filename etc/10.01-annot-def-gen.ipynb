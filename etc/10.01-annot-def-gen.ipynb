{
 "cells": [
  {
   "cell_type": "code",
   "execution_count": 1,
   "id": "b77aa04d-2c2a-4061-97ca-e94deddbcd1a",
   "metadata": {},
   "outputs": [],
   "source": [
    "%load_ext autoreload\n",
    "%autoreload 2"
   ]
  },
  {
   "cell_type": "code",
   "execution_count": 2,
   "id": "e363f62b-e557-45b3-8f3b-444daba19468",
   "metadata": {},
   "outputs": [],
   "source": [
    "import sys\n",
    "if \"../src\" not in sys.path:\n",
    "    sys.path.append(\"../src\")"
   ]
  },
  {
   "cell_type": "code",
   "execution_count": 3,
   "id": "28050858-440e-4771-a5ed-c0b48f0a02f5",
   "metadata": {},
   "outputs": [],
   "source": [
    "from vec4gloss import check_hashes\n",
    "from pathlib import Path\n",
    "import pandas as pd"
   ]
  },
  {
   "cell_type": "markdown",
   "id": "65a8d116-91cb-4d4a-97f1-3ffc776ca549",
   "metadata": {},
   "source": [
    "## Data dependencies"
   ]
  },
  {
   "cell_type": "markdown",
   "id": "f9912c9d-937b-41d7-b0ff-9e33c05cf755",
   "metadata": {},
   "source": [
    "```\n",
    "(data) => ..\\data\\def_frame_annotations.xlsx 784d67\n",
    "```"
   ]
  },
  {
   "cell_type": "code",
   "execution_count": 4,
   "id": "390bc584-f26b-444b-af42-a37211e524cd",
   "metadata": {},
   "outputs": [
    {
     "name": "stdout",
     "output_type": "stream",
     "text": [
      "..\\data\\def_frame_annotations.xlsx 784d67\n"
     ]
    }
   ],
   "source": [
    "_ = check_hashes(\"../data/def_frame_annotations.xlsx\")"
   ]
  },
  {
   "cell_type": "markdown",
   "id": "7646ad9e-0599-425b-a660-1378ed399ac8",
   "metadata": {},
   "source": [
    "## Extract annot sense ids"
   ]
  },
  {
   "cell_type": "code",
   "execution_count": 5,
   "id": "8b6deee1-dc63-4f21-8282-4485ca9ef98b",
   "metadata": {},
   "outputs": [],
   "source": [
    "data = pd.read_excel(\"../data/def_frame_annotations.xlsx\", sheet_name='annotation')"
   ]
  },
  {
   "cell_type": "code",
   "execution_count": 6,
   "id": "ce087bf9-3a0f-4a84-9b60-4b0501f70629",
   "metadata": {},
   "outputs": [],
   "source": [
    "annot_sense_ids = data.sense_id.astype(\"int32\").apply(lambda x:str(x).rjust(8, \"0\")).tolist()"
   ]
  },
  {
   "cell_type": "code",
   "execution_count": 7,
   "id": "39e9a81c-b0df-442a-b907-665be92ff414",
   "metadata": {},
   "outputs": [
    {
     "data": {
      "text/plain": [
       "2591"
      ]
     },
     "execution_count": 7,
     "metadata": {},
     "output_type": "execute_result"
    }
   ],
   "source": [
    "Path(\"../data/def_frame_annot_sense_ids.txt\").write_text(\"\\n\".join(annot_sense_ids))"
   ]
  },
  {
   "cell_type": "markdown",
   "id": "aaabfe3b-0cde-4ed6-a712-74fb69888193",
   "metadata": {},
   "source": [
    "## Output Hashes"
   ]
  },
  {
   "cell_type": "markdown",
   "id": "e1bb1010-bfe1-421a-9aeb-2269306287f5",
   "metadata": {},
   "source": [
    "```\n",
    "..\\data\\def_frame_annot_sense_ids.txt 49fc44\n",
    "```"
   ]
  },
  {
   "cell_type": "code",
   "execution_count": 8,
   "id": "8c17a3ac-d64b-4127-8c7e-7a372fd8bf78",
   "metadata": {},
   "outputs": [
    {
     "name": "stdout",
     "output_type": "stream",
     "text": [
      "..\\data\\def_frame_annot_sense_ids.txt 49fc44\n"
     ]
    }
   ],
   "source": [
    "_ = check_hashes(\"../data/def_frame_annot_sense_ids.txt\")"
   ]
  },
  {
   "cell_type": "code",
   "execution_count": null,
   "id": "068eaee4-b7c4-430f-95a5-c329b3c01f6b",
   "metadata": {},
   "outputs": [],
   "source": []
  }
 ],
 "metadata": {
  "kernelspec": {
   "display_name": "Python 3 (ipykernel)",
   "language": "python",
   "name": "python3"
  },
  "language_info": {
   "codemirror_mode": {
    "name": "ipython",
    "version": 3
   },
   "file_extension": ".py",
   "mimetype": "text/x-python",
   "name": "python",
   "nbconvert_exporter": "python",
   "pygments_lexer": "ipython3",
   "version": "3.10.2"
  }
 },
 "nbformat": 4,
 "nbformat_minor": 5
}
