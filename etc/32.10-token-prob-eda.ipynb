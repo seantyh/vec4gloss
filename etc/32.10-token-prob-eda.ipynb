{
 "cells": [
  {
   "cell_type": "markdown",
   "id": "2fdbc0e3-af53-4963-9c26-ed3b4ff2f77d",
   "metadata": {},
   "source": [
    "# Community EDA"
   ]
  },
  {
   "cell_type": "code",
   "execution_count": 1,
   "id": "3cc1ed3d-fdce-4214-81f4-39e8dd6d5ed0",
   "metadata": {},
   "outputs": [],
   "source": [
    "%load_ext autoreload\n",
    "%autoreload 2\n",
    "import sys\n",
    "if \"../src\" not in sys.path:\n",
    "    sys.path.append(\"../src\")"
   ]
  },
  {
   "cell_type": "code",
   "execution_count": 2,
   "id": "80054f97-ee91-440c-8cd0-bbcc2104ff7a",
   "metadata": {},
   "outputs": [],
   "source": [
    "import re\n",
    "import pickle\n",
    "import json\n",
    "import random\n",
    "from itertools import islice\n",
    "from pathlib import Path\n",
    "from dataclasses import dataclass\n",
    "from typing import List, Tuple, Union, Dict\n",
    "\n",
    "import numpy as np\n",
    "from tqdm.auto import tqdm\n",
    "\n",
    "import vec4gloss\n",
    "from vec4gloss import check_hashes    \n",
    "from vec4gloss import (\n",
    "    DepWinOutput, AnnotDepInfo,\n",
    "    AnnotFrameInfo, NounFrameInfo\n",
    ")"
   ]
  },
  {
   "cell_type": "markdown",
   "id": "4b9ed9c1-1ad1-4d6d-92c4-5954ce25706a",
   "metadata": {},
   "source": [
    "## Data dependencies"
   ]
  },
  {
   "cell_type": "markdown",
   "id": "d03d1af6-738a-43e2-9f51-5b62617f03f8",
   "metadata": {},
   "source": [
    "```\n",
    "30.23 => ..\\data\\annot_frameinfo_list.pkl f25b87\n",
    "30.26 => ..\\data\\nouns_vec4gloss_frameinfo_list.pkl 9ad739\n",
    "```"
   ]
  },
  {
   "cell_type": "code",
   "execution_count": 3,
   "id": "828add04-4519-4f24-bd17-d3af20888ded",
   "metadata": {},
   "outputs": [
    {
     "name": "stdout",
     "output_type": "stream",
     "text": [
      "..\\data\\annot_frameinfo_list.pkl f25b87\n",
      "..\\data\\nouns_vec4gloss_frameinfo_list.pkl 9ad739\n"
     ]
    }
   ],
   "source": [
    "annot_info_path = \"../data/annot_frameinfo_list.pkl\"\n",
    "noun_info_path = \"../data/nouns_vec4gloss_frameinfo_list.pkl\"\n",
    "_ = check_hashes([annot_info_path, noun_info_path])"
   ]
  },
  {
   "cell_type": "markdown",
   "id": "5d80b1e4-1d5d-44bb-a833-3fcc84effb9b",
   "metadata": {},
   "source": [
    "## Load resources"
   ]
  },
  {
   "cell_type": "code",
   "execution_count": 4,
   "id": "9e5052c1-1dfe-42ac-bdbd-0f293a9da0a8",
   "metadata": {},
   "outputs": [],
   "source": [
    "annot_infos = pickle.loads(Path(annot_info_path).read_bytes())\n",
    "noun_infos = pickle.loads(Path(noun_info_path).read_bytes())"
   ]
  },
  {
   "cell_type": "code",
   "execution_count": 5,
   "id": "1f0b5b9d-1cdf-4133-a1f6-82280d018d6f",
   "metadata": {},
   "outputs": [
    {
     "data": {
      "text/plain": [
       "(244, 20)"
      ]
     },
     "execution_count": 5,
     "metadata": {},
     "output_type": "execute_result"
    }
   ],
   "source": [
    "len(annot_infos), len(noun_infos)"
   ]
  },
  {
   "cell_type": "code",
   "execution_count": 6,
   "id": "f3930268-6aff-4af9-8909-7edc815c4acd",
   "metadata": {},
   "outputs": [
    {
     "data": {
      "text/plain": [
       "(AnnotFrameInfo(annot_frame=AnnotFrame(sense_id=5071201, POS='D', head_word='實地', definition='表親身體驗後述事件。', event_role='patient ', schemas=[Scheme(type='--', start=0, end=1), Scheme(type='mod', start=1, end=3), Scheme(type='action', start=3, end=5), Scheme(type='event', start=5, end=9)]), dep_info=[<AnnotDepInfo (2) 1.00: ( 3- 3) [ 0.00/1.00] 　表 / >, <AnnotDepInfo (3) 0.00: ( 3- 4) [ 0.56/0.00] 　親 / 表>, <AnnotDepInfo (4) 0.91: ( 3- 5) [ 2.32/0.39] 　身 / 表親>, <AnnotDepInfo (5) 0.02: ( 3- 4) [ 1.32/0.01] 　體 / 表>, <AnnotDepInfo (6) 1.00: ( 3- 5) [24604.15/0.00] 　驗 / 表親>, <AnnotDepInfo (7) 0.00: ( 3- 8) [43.86/0.00] 　後 / 表親身體驗>, <AnnotDepInfo (8) 0.02: ( 3- 4) [ 3.26/0.01] 　述 / 表>, <AnnotDepInfo (9) 0.38: ( 7-10) [39.18/0.01] 事件 / 驗後述>]),\n",
       " NounFrameInfo(noun_entry={'cwnid': '09167302', 'src': '昨天他派宦官已經暗示過張延賞，今天將由張延賞來挑主<樑>力促此事，但韓卻看破他的企圖，一上來便釜底抽薪，打亂了他地部署。', 'tgt': 'Na。比喻在特定事件中最重要的角色。', 'pos': 'N', 'target': '樑', 'fillers': ['學院', '室友', '弟兄'], 'example': '昨天他派宦官已經暗示過張延賞，今天將由張延賞來挑主<樑>力促此事，但韓卻看破他的企圖，一上來便釜底抽薪，打亂了他地部署。', 'from': 'vec4gloss', 'definition': '比喻在特定事件中最重要的角色。', 'item_id': 'N-06'}, dep_info=[<AnnotDepInfo (2) 1.00: ( 3- 3) [ 0.00/1.00] 　比 / >, <AnnotDepInfo (3) 1.00: ( 3- 4) [ 1.00/1.00] 　喻 / 比>, <AnnotDepInfo (4) 0.29: ( 3- 5) [ 1.64/0.18] 　在 / 比喻>, <AnnotDepInfo (5) 0.90: ( 3- 5) [ 1.13/0.80] 特定 / 比喻>, <AnnotDepInfo (6) 0.77: ( 4- 7) [12.52/0.06] 事件 / 喻在特定>, <AnnotDepInfo (7) 0.99: ( 3- 7) [11.05/0.09] 　中 / 比喻在特定>, <AnnotDepInfo (8) 0.84: ( 3- 8) [11898.36/0.00] 最重要的 / 比喻在特定事件>, <AnnotDepInfo (9) 0.99: ( 3- 9) [4268.21/0.00] 角色 / 比喻在特定事件中>]))"
      ]
     },
     "execution_count": 6,
     "metadata": {},
     "output_type": "execute_result"
    }
   ],
   "source": [
    "annot_infos[1], noun_infos[1]"
   ]
  },
  {
   "cell_type": "code",
   "execution_count": 7,
   "id": "b77af669-550f-4aa3-8f65-552c24ea7c4b",
   "metadata": {},
   "outputs": [],
   "source": [
    "annot_x = annot_infos[1]"
   ]
  },
  {
   "cell_type": "code",
   "execution_count": 8,
   "id": "d555f04b-cbc8-44b2-8521-b47435afc29b",
   "metadata": {},
   "outputs": [
    {
     "data": {
      "text/plain": [
       "[<AnnotDepInfo (2) 1.00: ( 3- 3) [ 0.00/1.00] 　表 / >,\n",
       " <AnnotDepInfo (3) 0.00: ( 3- 4) [ 0.56/0.00] 　親 / 表>,\n",
       " <AnnotDepInfo (4) 0.91: ( 3- 5) [ 2.32/0.39] 　身 / 表親>,\n",
       " <AnnotDepInfo (5) 0.02: ( 3- 4) [ 1.32/0.01] 　體 / 表>,\n",
       " <AnnotDepInfo (6) 1.00: ( 3- 5) [24604.15/0.00] 　驗 / 表親>,\n",
       " <AnnotDepInfo (7) 0.00: ( 3- 8) [43.86/0.00] 　後 / 表親身體驗>,\n",
       " <AnnotDepInfo (8) 0.02: ( 3- 4) [ 3.26/0.01] 　述 / 表>,\n",
       " <AnnotDepInfo (9) 0.38: ( 7-10) [39.18/0.01] 事件 / 驗後述>]"
      ]
     },
     "execution_count": 8,
     "metadata": {},
     "output_type": "execute_result"
    }
   ],
   "source": [
    "annot_x.dep_info"
   ]
  },
  {
   "cell_type": "code",
   "execution_count": 9,
   "id": "bd736400-1e07-4f2c-ae8f-55716bf6f1c7",
   "metadata": {},
   "outputs": [
    {
     "data": {
      "text/plain": [
       "(0.38073739409446716, 0.11672204732894897, 0.009717438369989395)"
      ]
     },
     "execution_count": 9,
     "metadata": {},
     "output_type": "execute_result"
    }
   ],
   "source": [
    "tok_idx = 7\n",
    "(annot_x.dep_info[tok_idx].full_token_prob(), \n",
    "annot_x.dep_info[tok_idx].fullmasked_token_prob(),\n",
    "annot_x.dep_info[tok_idx].nodep_token_prob())"
   ]
  },
  {
   "cell_type": "markdown",
   "id": "6a2d0839-cdd5-4ed6-960d-485c0a34b960",
   "metadata": {},
   "source": [
    "## Two parameters\n",
    "* mu: a semantic parameters, what happens if all previous tokens are masked out\n",
    "* lambda: a syntactic dependency parameters, what happen if the dependet tokens are masked out. This is the worst score possible in a given window."
   ]
  },
  {
   "cell_type": "code",
   "execution_count": 10,
   "id": "f9d0baaa-800d-4307-9ee6-54c5ba440957",
   "metadata": {},
   "outputs": [],
   "source": [
    "class TokenParam:\n",
    "    def __init__(self, token_dep_info: AnnotDepInfo):\n",
    "        self.dep_info = token_dep_info\n",
    "        self.full_prob = token_dep_info.full_token_prob()\n",
    "        self.masked_prob = token_dep_info.fullmasked_token_prob()\n",
    "        self.nodep_prob = token_dep_info.nodep_token_prob()\n",
    "    \n",
    "    def __repr__(self):\n",
    "        return \"<TokenLambda {:}: μ={:.1f}, λ={:.1f}>\".format(\n",
    "            self.token(),\n",
    "            self.get_mu(),\n",
    "            self.get_lambda()\n",
    "        )\n",
    "    \n",
    "    def token(self):\n",
    "        return self.dep_info.dep_wins[0].token_text\n",
    "    \n",
    "    def get_mu(self):\n",
    "        return -np.log(self.masked_prob / self.full_prob)\n",
    "    \n",
    "    def get_lambda(self):\n",
    "        return -np.log(self.nodep_prob / self.full_prob)\n",
    "    \n",
    "    def get_token_prob(self):\n",
    "        return self.full_prob"
   ]
  },
  {
   "cell_type": "code",
   "execution_count": 11,
   "id": "729dd53c-952b-49a9-b83c-e1f024599137",
   "metadata": {},
   "outputs": [
    {
     "data": {
      "text/plain": [
       "<AnnotDepInfo (9) 0.38: ( 7-10) [39.18/0.01] 事件 / 驗後述>"
      ]
     },
     "execution_count": 11,
     "metadata": {},
     "output_type": "execute_result"
    }
   ],
   "source": [
    "annot_x.dep_info[7]"
   ]
  },
  {
   "cell_type": "code",
   "execution_count": 12,
   "id": "e6f84a8f-cd6c-472c-91d1-cde1adaa97b5",
   "metadata": {},
   "outputs": [
    {
     "data": {
      "text/plain": [
       "<TokenLambda 事件: μ=1.2, λ=3.7>"
      ]
     },
     "execution_count": 12,
     "metadata": {},
     "output_type": "execute_result"
    }
   ],
   "source": [
    "TokenParam(annot_x.dep_info[7])"
   ]
  },
  {
   "cell_type": "code",
   "execution_count": 13,
   "id": "b971c59d-1f0a-4cf3-a6f9-47838a71e103",
   "metadata": {},
   "outputs": [],
   "source": [
    "TokenStr = str\n",
    "ParamBufDict = Dict[str, List[float]]"
   ]
  },
  {
   "cell_type": "code",
   "execution_count": 14,
   "id": "aee2d542-2aac-4fa1-901e-d362f4d5ef5f",
   "metadata": {},
   "outputs": [],
   "source": [
    "def compute_token_params(\n",
    "        frame_infos:Union[List[AnnotFrameInfo], List[NounFrameInfo]]\n",
    "        ) -> Dict[TokenStr, ParamBufDict]:\n",
    "    params = {}\n",
    "    for frame_x in frame_infos:\n",
    "        for token_info in frame_x.dep_info:\n",
    "            token_param = TokenParam(token_info)\n",
    "            token = token_param.token()\n",
    "            p_prob = token_param.get_token_prob()\n",
    "            p_mu = token_param.get_mu()\n",
    "            p_lambda = token_param.get_lambda()\n",
    "            buf = params.setdefault(token, {\"mu\": [], \"lambda\": [], \"prob\": []})\n",
    "            buf[\"prob\"].append(p_prob)\n",
    "            buf[\"mu\"].append(p_mu)\n",
    "            buf[\"lambda\"].append(p_lambda)\n",
    "            \n",
    "    return params"
   ]
  },
  {
   "cell_type": "code",
   "execution_count": 15,
   "id": "831c792b-7699-42e0-8706-b1de4ee71fb5",
   "metadata": {},
   "outputs": [],
   "source": [
    "def compute_param_stats(\n",
    "        params: Dict[TokenStr, ParamBufDict]):\n",
    "    stats = []\n",
    "    for tok, params in params.items():\n",
    "        probs = params[\"prob\"]\n",
    "        mus = params[\"mu\"]\n",
    "        lambdas = params[\"lambda\"]\n",
    "        if len(mus) < 2: continue\n",
    "        stats.append((\n",
    "            tok, np.mean(probs), np.mean(mus), np.mean(lambdas),\n",
    "            np.std(probs, ddof=1),\n",
    "            np.std(mus, ddof=1), \n",
    "            np.std(lambdas, ddof=1)))\n",
    "    return stats"
   ]
  },
  {
   "cell_type": "code",
   "execution_count": 16,
   "id": "d423fdb4-ece2-47a7-b0dd-66ef281bbb80",
   "metadata": {},
   "outputs": [],
   "source": [
    "\n",
    "adv_token_params = compute_token_params(annot_infos)\n",
    "noun_token_params = compute_token_params(noun_infos)\n",
    "adv_token_stat = compute_param_stats(adv_token_params)\n",
    "noun_token_stat = compute_param_stats(noun_token_params)"
   ]
  },
  {
   "cell_type": "markdown",
   "id": "6f84cc2d-3c6e-4254-8f0f-213cc9873931",
   "metadata": {
    "tags": []
   },
   "source": [
    "## What's the relations between mu and lambda ?? "
   ]
  },
  {
   "cell_type": "code",
   "execution_count": 17,
   "id": "1ef335a0-f031-4bab-ba0a-8b09827f66ec",
   "metadata": {},
   "outputs": [],
   "source": [
    "import pandas as pd\n",
    "cols = \"tok,prob_avg,mu_avg,lambda_avg,prob_sd,mu_sd,lambda_sd\"\n",
    "adv_stat_df = pd.DataFrame.from_records(adv_token_stat, \n",
    "                                        columns=cols.split(\",\"))\n",
    "noun_stat_df = pd.DataFrame.from_records(noun_token_stat, \n",
    "                                        columns=cols.split(\",\"))"
   ]
  },
  {
   "cell_type": "code",
   "execution_count": 18,
   "id": "bd88ead2-5f73-4e94-bece-e77bb78919e5",
   "metadata": {},
   "outputs": [
    {
     "data": {
      "text/plain": [
       "<AxesSubplot:xlabel='mu_avg', ylabel='lambda_avg'>"
      ]
     },
     "execution_count": 18,
     "metadata": {},
     "output_type": "execute_result"
    },
    {
     "data": {
      "image/png": "[encoded data removed]",
      "text/plain": [
       "<Figure size 432x288 with 1 Axes>"
      ]
     },
     "metadata": {
      "needs_background": "light"
     },
     "output_type": "display_data"
    }
   ],
   "source": [
    "adv_stat_df.plot.scatter(\"mu_avg\", \"lambda_avg\")"
   ]
  },
  {
   "cell_type": "code",
   "execution_count": 20,
   "id": "cf91322a-bd80-44d1-8bb7-865c4ed368cc",
   "metadata": {},
   "outputs": [
    {
     "data": {
      "text/plain": [
       "<AxesSubplot:xlabel='mu_avg', ylabel='lambda_avg'>"
      ]
     },
     "execution_count": 20,
     "metadata": {},
     "output_type": "execute_result"
    },
    {
     "data": {
      "image/png": "[encoded data removed]",
      "text/plain": [
       "<Figure size 432x288 with 2 Axes>"
      ]
     },
     "metadata": {
      "needs_background": "light"
     },
     "output_type": "display_data"
    }
   ],
   "source": [
    "noun_stat_df.plot.scatter(\"mu_avg\", \"lambda_avg\", c=\"prob_avg\")"
   ]
  },
  {
   "cell_type": "code",
   "execution_count": 21,
   "id": "a59dd682-8dc8-47b2-91b6-44d46173b870",
   "metadata": {},
   "outputs": [
    {
     "data": {
      "text/html": [
       "<div>\n",
       "<style scoped>\n",
       "    .dataframe tbody tr th:only-of-type {\n",
       "        vertical-align: middle;\n",
       "    }\n",
       "\n",
       "    .dataframe tbody tr th {\n",
       "        vertical-align: top;\n",
       "    }\n",
       "\n",
       "    .dataframe thead th {\n",
       "        text-align: right;\n",
       "    }\n",
       "</style>\n",
       "<table border=\"1\" class=\"dataframe\">\n",
       "  <thead>\n",
       "    <tr style=\"text-align: right;\">\n",
       "      <th></th>\n",
       "      <th>tok</th>\n",
       "      <th>prob_avg</th>\n",
       "      <th>mu_avg</th>\n",
       "      <th>lambda_avg</th>\n",
       "      <th>prob_sd</th>\n",
       "      <th>mu_sd</th>\n",
       "      <th>lambda_sd</th>\n",
       "    </tr>\n",
       "  </thead>\n",
       "  <tbody>\n",
       "    <tr>\n",
       "      <th>139</th>\n",
       "      <td>之前</td>\n",
       "      <td>0.983682</td>\n",
       "      <td>11.594708</td>\n",
       "      <td>17.038592</td>\n",
       "      <td>2.293412e-02</td>\n",
       "      <td>5.013798</td>\n",
       "      <td>0.673042</td>\n",
       "    </tr>\n",
       "    <tr>\n",
       "      <th>122</th>\n",
       "      <td>性質</td>\n",
       "      <td>0.999999</td>\n",
       "      <td>15.358076</td>\n",
       "      <td>15.358076</td>\n",
       "      <td>6.743496e-07</td>\n",
       "      <td>0.582032</td>\n",
       "      <td>0.582032</td>\n",
       "    </tr>\n",
       "    <tr>\n",
       "      <th>36</th>\n",
       "      <td>之中</td>\n",
       "      <td>0.996450</td>\n",
       "      <td>10.925147</td>\n",
       "      <td>14.673599</td>\n",
       "      <td>5.020111e-03</td>\n",
       "      <td>3.913743</td>\n",
       "      <td>6.522220</td>\n",
       "    </tr>\n",
       "    <tr>\n",
       "      <th>75</th>\n",
       "      <td>下</td>\n",
       "      <td>0.961075</td>\n",
       "      <td>7.059066</td>\n",
       "      <td>10.634715</td>\n",
       "      <td>5.661921e-02</td>\n",
       "      <td>1.970033</td>\n",
       "      <td>1.307805</td>\n",
       "    </tr>\n",
       "    <tr>\n",
       "      <th>170</th>\n",
       "      <td>性</td>\n",
       "      <td>0.989164</td>\n",
       "      <td>5.965030</td>\n",
       "      <td>10.103617</td>\n",
       "      <td>1.515687e-02</td>\n",
       "      <td>1.821736</td>\n",
       "      <td>3.743194</td>\n",
       "    </tr>\n",
       "    <tr>\n",
       "      <th>181</th>\n",
       "      <td>象</td>\n",
       "      <td>0.999996</td>\n",
       "      <td>8.319385</td>\n",
       "      <td>9.632700</td>\n",
       "      <td>7.992902e-06</td>\n",
       "      <td>4.080999</td>\n",
       "      <td>3.306563</td>\n",
       "    </tr>\n",
       "    <tr>\n",
       "      <th>189</th>\n",
       "      <td>願</td>\n",
       "      <td>0.962614</td>\n",
       "      <td>5.987500</td>\n",
       "      <td>9.314638</td>\n",
       "      <td>1.352497e-02</td>\n",
       "      <td>4.211090</td>\n",
       "      <td>0.494195</td>\n",
       "    </tr>\n",
       "    <tr>\n",
       "      <th>234</th>\n",
       "      <td>利</td>\n",
       "      <td>0.999980</td>\n",
       "      <td>4.658043</td>\n",
       "      <td>8.139091</td>\n",
       "      <td>1.879749e-05</td>\n",
       "      <td>1.903403</td>\n",
       "      <td>0.312083</td>\n",
       "    </tr>\n",
       "    <tr>\n",
       "      <th>26</th>\n",
       "      <td>早</td>\n",
       "      <td>0.973277</td>\n",
       "      <td>6.480709</td>\n",
       "      <td>8.033191</td>\n",
       "      <td>4.459030e-02</td>\n",
       "      <td>5.994828</td>\n",
       "      <td>5.604632</td>\n",
       "    </tr>\n",
       "    <tr>\n",
       "      <th>187</th>\n",
       "      <td>會</td>\n",
       "      <td>0.980649</td>\n",
       "      <td>6.010746</td>\n",
       "      <td>7.168697</td>\n",
       "      <td>2.733067e-02</td>\n",
       "      <td>2.737159</td>\n",
       "      <td>3.593694</td>\n",
       "    </tr>\n",
       "  </tbody>\n",
       "</table>\n",
       "</div>"
      ],
      "text/plain": [
       "    tok  prob_avg     mu_avg  lambda_avg       prob_sd     mu_sd  lambda_sd\n",
       "139  之前  0.983682  11.594708   17.038592  2.293412e-02  5.013798   0.673042\n",
       "122  性質  0.999999  15.358076   15.358076  6.743496e-07  0.582032   0.582032\n",
       "36   之中  0.996450  10.925147   14.673599  5.020111e-03  3.913743   6.522220\n",
       "75    下  0.961075   7.059066   10.634715  5.661921e-02  1.970033   1.307805\n",
       "170   性  0.989164   5.965030   10.103617  1.515687e-02  1.821736   3.743194\n",
       "181   象  0.999996   8.319385    9.632700  7.992902e-06  4.080999   3.306563\n",
       "189   願  0.962614   5.987500    9.314638  1.352497e-02  4.211090   0.494195\n",
       "234   利  0.999980   4.658043    8.139091  1.879749e-05  1.903403   0.312083\n",
       "26    早  0.973277   6.480709    8.033191  4.459030e-02  5.994828   5.604632\n",
       "187   會  0.980649   6.010746    7.168697  2.733067e-02  2.737159   3.593694"
      ]
     },
     "execution_count": 21,
     "metadata": {},
     "output_type": "execute_result"
    }
   ],
   "source": [
    "adv_stat_df[adv_stat_df.prob_avg>0.9].sort_values(\"lambda_avg\", ascending=False).iloc[:10]"
   ]
  },
  {
   "cell_type": "code",
   "execution_count": 22,
   "id": "914e38b4-4191-4e08-a83a-43482a6f341f",
   "metadata": {},
   "outputs": [
    {
     "data": {
      "text/html": [
       "<div>\n",
       "<style scoped>\n",
       "    .dataframe tbody tr th:only-of-type {\n",
       "        vertical-align: middle;\n",
       "    }\n",
       "\n",
       "    .dataframe tbody tr th {\n",
       "        vertical-align: top;\n",
       "    }\n",
       "\n",
       "    .dataframe thead th {\n",
       "        text-align: right;\n",
       "    }\n",
       "</style>\n",
       "<table border=\"1\" class=\"dataframe\">\n",
       "  <thead>\n",
       "    <tr style=\"text-align: right;\">\n",
       "      <th></th>\n",
       "      <th>tok</th>\n",
       "      <th>prob_avg</th>\n",
       "      <th>mu_avg</th>\n",
       "      <th>lambda_avg</th>\n",
       "      <th>prob_sd</th>\n",
       "      <th>mu_sd</th>\n",
       "      <th>lambda_sd</th>\n",
       "    </tr>\n",
       "  </thead>\n",
       "  <tbody>\n",
       "    <tr>\n",
       "      <th>18</th>\n",
       "      <td>成的</td>\n",
       "      <td>0.995363</td>\n",
       "      <td>1.686324</td>\n",
       "      <td>7.319915</td>\n",
       "      <td>0.006524</td>\n",
       "      <td>1.281319</td>\n",
       "      <td>3.001861</td>\n",
       "    </tr>\n",
       "    <tr>\n",
       "      <th>10</th>\n",
       "      <td>或</td>\n",
       "      <td>0.918979</td>\n",
       "      <td>3.683529</td>\n",
       "      <td>7.015944</td>\n",
       "      <td>0.089840</td>\n",
       "      <td>1.207723</td>\n",
       "      <td>4.277750</td>\n",
       "    </tr>\n",
       "    <tr>\n",
       "      <th>28</th>\n",
       "      <td>參</td>\n",
       "      <td>0.999664</td>\n",
       "      <td>6.300191</td>\n",
       "      <td>6.300191</td>\n",
       "      <td>0.000302</td>\n",
       "      <td>2.180331</td>\n",
       "      <td>2.180331</td>\n",
       "    </tr>\n",
       "    <tr>\n",
       "      <th>6</th>\n",
       "      <td>而</td>\n",
       "      <td>0.996813</td>\n",
       "      <td>4.493993</td>\n",
       "      <td>6.208979</td>\n",
       "      <td>0.002308</td>\n",
       "      <td>1.455160</td>\n",
       "      <td>1.931671</td>\n",
       "    </tr>\n",
       "    <tr>\n",
       "      <th>9</th>\n",
       "      <td>象</td>\n",
       "      <td>0.999995</td>\n",
       "      <td>4.596065</td>\n",
       "      <td>6.161366</td>\n",
       "      <td>0.000008</td>\n",
       "      <td>3.754348</td>\n",
       "      <td>2.330785</td>\n",
       "    </tr>\n",
       "    <tr>\n",
       "      <th>19</th>\n",
       "      <td>狀</td>\n",
       "      <td>0.996519</td>\n",
       "      <td>3.208919</td>\n",
       "      <td>6.148512</td>\n",
       "      <td>0.005394</td>\n",
       "      <td>2.933798</td>\n",
       "      <td>3.552246</td>\n",
       "    </tr>\n",
       "    <tr>\n",
       "      <th>20</th>\n",
       "      <td>界</td>\n",
       "      <td>0.998915</td>\n",
       "      <td>5.328576</td>\n",
       "      <td>5.692723</td>\n",
       "      <td>0.001511</td>\n",
       "      <td>7.465117</td>\n",
       "      <td>7.537744</td>\n",
       "    </tr>\n",
       "    <tr>\n",
       "      <th>16</th>\n",
       "      <td>為</td>\n",
       "      <td>0.998021</td>\n",
       "      <td>3.772430</td>\n",
       "      <td>5.278449</td>\n",
       "      <td>0.002997</td>\n",
       "      <td>3.911105</td>\n",
       "      <td>4.424743</td>\n",
       "    </tr>\n",
       "    <tr>\n",
       "      <th>15</th>\n",
       "      <td>位</td>\n",
       "      <td>0.999959</td>\n",
       "      <td>0.322887</td>\n",
       "      <td>4.042622</td>\n",
       "      <td>0.000071</td>\n",
       "      <td>0.411260</td>\n",
       "      <td>3.288765</td>\n",
       "    </tr>\n",
       "    <tr>\n",
       "      <th>8</th>\n",
       "      <td>對</td>\n",
       "      <td>0.933636</td>\n",
       "      <td>3.350592</td>\n",
       "      <td>3.994975</td>\n",
       "      <td>0.139007</td>\n",
       "      <td>4.629182</td>\n",
       "      <td>5.583200</td>\n",
       "    </tr>\n",
       "  </tbody>\n",
       "</table>\n",
       "</div>"
      ],
      "text/plain": [
       "   tok  prob_avg    mu_avg  lambda_avg   prob_sd     mu_sd  lambda_sd\n",
       "18  成的  0.995363  1.686324    7.319915  0.006524  1.281319   3.001861\n",
       "10   或  0.918979  3.683529    7.015944  0.089840  1.207723   4.277750\n",
       "28   參  0.999664  6.300191    6.300191  0.000302  2.180331   2.180331\n",
       "6    而  0.996813  4.493993    6.208979  0.002308  1.455160   1.931671\n",
       "9    象  0.999995  4.596065    6.161366  0.000008  3.754348   2.330785\n",
       "19   狀  0.996519  3.208919    6.148512  0.005394  2.933798   3.552246\n",
       "20   界  0.998915  5.328576    5.692723  0.001511  7.465117   7.537744\n",
       "16   為  0.998021  3.772430    5.278449  0.002997  3.911105   4.424743\n",
       "15   位  0.999959  0.322887    4.042622  0.000071  0.411260   3.288765\n",
       "8    對  0.933636  3.350592    3.994975  0.139007  4.629182   5.583200"
      ]
     },
     "execution_count": 22,
     "metadata": {},
     "output_type": "execute_result"
    }
   ],
   "source": [
    "noun_stat_df[noun_stat_df.prob_avg>0.9].sort_values(\"lambda_avg\", ascending=False).iloc[:10]"
   ]
  },
  {
   "cell_type": "code",
   "execution_count": 23,
   "id": "267ca882-5a50-46f5-bca0-66b1e6f06b42",
   "metadata": {},
   "outputs": [
    {
     "data": {
      "text/html": [
       "<div>\n",
       "<style scoped>\n",
       "    .dataframe tbody tr th:only-of-type {\n",
       "        vertical-align: middle;\n",
       "    }\n",
       "\n",
       "    .dataframe tbody tr th {\n",
       "        vertical-align: top;\n",
       "    }\n",
       "\n",
       "    .dataframe thead th {\n",
       "        text-align: right;\n",
       "    }\n",
       "</style>\n",
       "<table border=\"1\" class=\"dataframe\">\n",
       "  <thead>\n",
       "    <tr style=\"text-align: right;\">\n",
       "      <th></th>\n",
       "      <th>tok</th>\n",
       "      <th>prob_avg</th>\n",
       "      <th>mu_avg</th>\n",
       "      <th>lambda_avg</th>\n",
       "      <th>prob_sd</th>\n",
       "      <th>mu_sd</th>\n",
       "      <th>lambda_sd</th>\n",
       "    </tr>\n",
       "  </thead>\n",
       "  <tbody>\n",
       "    <tr>\n",
       "      <th>28</th>\n",
       "      <td>參</td>\n",
       "      <td>0.999664</td>\n",
       "      <td>6.300191</td>\n",
       "      <td>6.300191</td>\n",
       "      <td>0.000302</td>\n",
       "      <td>2.180331</td>\n",
       "      <td>2.180331</td>\n",
       "    </tr>\n",
       "    <tr>\n",
       "      <th>20</th>\n",
       "      <td>界</td>\n",
       "      <td>0.998915</td>\n",
       "      <td>5.328576</td>\n",
       "      <td>5.692723</td>\n",
       "      <td>0.001511</td>\n",
       "      <td>7.465117</td>\n",
       "      <td>7.537744</td>\n",
       "    </tr>\n",
       "    <tr>\n",
       "      <th>9</th>\n",
       "      <td>象</td>\n",
       "      <td>0.999995</td>\n",
       "      <td>4.596065</td>\n",
       "      <td>6.161366</td>\n",
       "      <td>0.000008</td>\n",
       "      <td>3.754348</td>\n",
       "      <td>2.330785</td>\n",
       "    </tr>\n",
       "    <tr>\n",
       "      <th>6</th>\n",
       "      <td>而</td>\n",
       "      <td>0.996813</td>\n",
       "      <td>4.493993</td>\n",
       "      <td>6.208979</td>\n",
       "      <td>0.002308</td>\n",
       "      <td>1.455160</td>\n",
       "      <td>1.931671</td>\n",
       "    </tr>\n",
       "    <tr>\n",
       "      <th>16</th>\n",
       "      <td>為</td>\n",
       "      <td>0.998021</td>\n",
       "      <td>3.772430</td>\n",
       "      <td>5.278449</td>\n",
       "      <td>0.002997</td>\n",
       "      <td>3.911105</td>\n",
       "      <td>4.424743</td>\n",
       "    </tr>\n",
       "    <tr>\n",
       "      <th>10</th>\n",
       "      <td>或</td>\n",
       "      <td>0.918979</td>\n",
       "      <td>3.683529</td>\n",
       "      <td>7.015944</td>\n",
       "      <td>0.089840</td>\n",
       "      <td>1.207723</td>\n",
       "      <td>4.277750</td>\n",
       "    </tr>\n",
       "    <tr>\n",
       "      <th>8</th>\n",
       "      <td>對</td>\n",
       "      <td>0.933636</td>\n",
       "      <td>3.350592</td>\n",
       "      <td>3.994975</td>\n",
       "      <td>0.139007</td>\n",
       "      <td>4.629182</td>\n",
       "      <td>5.583200</td>\n",
       "    </tr>\n",
       "    <tr>\n",
       "      <th>19</th>\n",
       "      <td>狀</td>\n",
       "      <td>0.996519</td>\n",
       "      <td>3.208919</td>\n",
       "      <td>6.148512</td>\n",
       "      <td>0.005394</td>\n",
       "      <td>2.933798</td>\n",
       "      <td>3.552246</td>\n",
       "    </tr>\n",
       "    <tr>\n",
       "      <th>14</th>\n",
       "      <td>單</td>\n",
       "      <td>0.969567</td>\n",
       "      <td>2.288510</td>\n",
       "      <td>2.440198</td>\n",
       "      <td>0.052648</td>\n",
       "      <td>3.809423</td>\n",
       "      <td>3.690595</td>\n",
       "    </tr>\n",
       "    <tr>\n",
       "      <th>18</th>\n",
       "      <td>成的</td>\n",
       "      <td>0.995363</td>\n",
       "      <td>1.686324</td>\n",
       "      <td>7.319915</td>\n",
       "      <td>0.006524</td>\n",
       "      <td>1.281319</td>\n",
       "      <td>3.001861</td>\n",
       "    </tr>\n",
       "  </tbody>\n",
       "</table>\n",
       "</div>"
      ],
      "text/plain": [
       "   tok  prob_avg    mu_avg  lambda_avg   prob_sd     mu_sd  lambda_sd\n",
       "28   參  0.999664  6.300191    6.300191  0.000302  2.180331   2.180331\n",
       "20   界  0.998915  5.328576    5.692723  0.001511  7.465117   7.537744\n",
       "9    象  0.999995  4.596065    6.161366  0.000008  3.754348   2.330785\n",
       "6    而  0.996813  4.493993    6.208979  0.002308  1.455160   1.931671\n",
       "16   為  0.998021  3.772430    5.278449  0.002997  3.911105   4.424743\n",
       "10   或  0.918979  3.683529    7.015944  0.089840  1.207723   4.277750\n",
       "8    對  0.933636  3.350592    3.994975  0.139007  4.629182   5.583200\n",
       "19   狀  0.996519  3.208919    6.148512  0.005394  2.933798   3.552246\n",
       "14   單  0.969567  2.288510    2.440198  0.052648  3.809423   3.690595\n",
       "18  成的  0.995363  1.686324    7.319915  0.006524  1.281319   3.001861"
      ]
     },
     "execution_count": 23,
     "metadata": {},
     "output_type": "execute_result"
    }
   ],
   "source": [
    "noun_stat_df[noun_stat_df.prob_avg>0.9].sort_values(\"mu_avg\", ascending=False).iloc[:10]"
   ]
  },
  {
   "cell_type": "markdown",
   "id": "654d6799-c086-473f-b0b0-2933f8f9f828",
   "metadata": {},
   "source": [
    "### Observations\n",
    "* The two parameters are highly correlated, as they should be. The full masked probability is generally lower than the dependent mask probability.\n",
    "* If so, maybe just use one parameter, mu, to indicate the overall influence of the preceding decoding context.\n",
    "* A by-type statistics looks smearing the pattern, how about a token-based view?"
   ]
  },
  {
   "cell_type": "markdown",
   "id": "be242f55-a2d1-4adf-857c-347b65742a60",
   "metadata": {},
   "source": [
    "## How about Flatten it\n",
    "* A by-token view"
   ]
  },
  {
   "cell_type": "code",
   "execution_count": 24,
   "id": "aa6722d5-877a-40d7-89b1-c8510e8040fd",
   "metadata": {},
   "outputs": [],
   "source": [
    "def compute_token_params_flatten(\n",
    "        frame_infos:Union[List[AnnotFrameInfo], List[NounFrameInfo]]\n",
    "        ) -> List[Tuple[TokenStr, int, float, float, float]]:\n",
    "    params = []\n",
    "    for frame_x in frame_infos:\n",
    "        for token_info in frame_x.dep_info:\n",
    "            token_param = TokenParam(token_info)\n",
    "            token = token_param.token()\n",
    "            tok_idx = token_info.tgt_idx\n",
    "            p_prob = token_param.get_token_prob()\n",
    "            p_mu = token_param.get_mu()\n",
    "            p_lambda = token_param.get_lambda()\n",
    "            params.append((token, tok_idx, p_prob, p_mu, p_lambda))            \n",
    "            \n",
    "    return params"
   ]
  },
  {
   "cell_type": "code",
   "execution_count": 25,
   "id": "a0b90b06-569e-49b2-861f-cc38ae2b0edd",
   "metadata": {},
   "outputs": [],
   "source": [
    "adv_token_flattens = compute_token_params_flatten(annot_infos)\n",
    "noun_token_flattens = compute_token_params_flatten(noun_infos)"
   ]
  },
  {
   "cell_type": "code",
   "execution_count": 26,
   "id": "63ac5e59-99aa-489f-b2ad-fde8be1c4d7b",
   "metadata": {},
   "outputs": [],
   "source": [
    "flatten_cols = \"tok,pos,prob,mu,lambda\"\n",
    "adv_flatten_df = pd.DataFrame.from_records(adv_token_flattens, \n",
    "                                        columns=flatten_cols.split(\",\"))\n",
    "noun_flatten_df = pd.DataFrame.from_records(noun_token_flattens, \n",
    "                                        columns=flatten_cols.split(\",\"))"
   ]
  },
  {
   "cell_type": "code",
   "execution_count": 27,
   "id": "5912aa1c-0f68-480c-befd-399f12f921b8",
   "metadata": {},
   "outputs": [
    {
     "data": {
      "text/plain": [
       "[('表', 2, 0.9950998425483704, -0.0, -0.0),\n",
       " ('勉強', 3, 0.00010534111061133444, -1.041025204900679, -1.041025204900679),\n",
       " ('去', 4, 0.00044650971540249884, 1.6028850238532915, 1.6028850238532915),\n",
       " ('做', 5, 0.9974549412727356, 3.8372316346569146, 3.8372316346569146),\n",
       " ('後', 6, 0.11566287279129028, -0.7465949857885057, 1.2765092651874652),\n",
       " ('述', 7, 0.9999997615814209, 0.0014887803673614768, 0.0014887803673614768),\n",
       " ('事件', 8, 0.20455294847488403, -0.22757873631886424, 4.943336905077286),\n",
       " ('表', 2, 0.9982571005821228, -0.0, -0.0),\n",
       " ('親', 3, 0.0003395258099772036, -0.5762332369047684, -0.5762332369047684),\n",
       " ('身', 4, 0.9070897102355957, 0.8435071834364626, 0.8435071834364626)]"
      ]
     },
     "execution_count": 27,
     "metadata": {},
     "output_type": "execute_result"
    }
   ],
   "source": [
    "adv_token_flattens[:10]"
   ]
  },
  {
   "cell_type": "markdown",
   "id": "187f5c43-7bde-4170-abe0-4eace326338c",
   "metadata": {},
   "source": [
    "### Is there a position effect?\n",
    "* The leading position will tend to have lower mus?\n",
    "* There are position effects, but only observed before the fifth position in the sequences."
   ]
  },
  {
   "cell_type": "code",
   "execution_count": 28,
   "id": "b336fd3a-00b2-4284-adc6-21a69f10dfbb",
   "metadata": {},
   "outputs": [
    {
     "data": {
      "text/plain": [
       "<AxesSubplot:xlabel='pos', ylabel='mu'>"
      ]
     },
     "execution_count": 28,
     "metadata": {},
     "output_type": "execute_result"
    },
    {
     "data": {
      "image/png": "[encoded data removed]",
      "text/plain": [
       "<Figure size 432x288 with 1 Axes>"
      ]
     },
     "metadata": {
      "needs_background": "light"
     },
     "output_type": "display_data"
    }
   ],
   "source": [
    "import matplotlib.pyplot as plt\n",
    "adv_flatten_df.plot.scatter(\"pos\", \"mu\", s=1)"
   ]
  },
  {
   "cell_type": "code",
   "execution_count": 29,
   "id": "7b0e2af6-4250-440c-b324-73fe0a1d0f69",
   "metadata": {},
   "outputs": [
    {
     "data": {
      "text/plain": [
       "<AxesSubplot:xlabel='pos', ylabel='mu'>"
      ]
     },
     "execution_count": 29,
     "metadata": {},
     "output_type": "execute_result"
    },
    {
     "data": {
      "image/png": "[encoded data removed]",
      "text/plain": [
       "<Figure size 432x288 with 1 Axes>"
      ]
     },
     "metadata": {
      "needs_background": "light"
     },
     "output_type": "display_data"
    }
   ],
   "source": [
    "adv_flatten_df[adv_flatten_df.pos>5].plot.scatter(\"pos\", \"mu\", s=1)"
   ]
  },
  {
   "cell_type": "code",
   "execution_count": 30,
   "id": "d085914c-437f-49d3-8cc3-cc95fb9a09d3",
   "metadata": {},
   "outputs": [
    {
     "data": {
      "text/plain": [
       "<AxesSubplot:xlabel='pos', ylabel='mu'>"
      ]
     },
     "execution_count": 30,
     "metadata": {},
     "output_type": "execute_result"
    },
    {
     "data": {
      "image/png": "[encoded data removed]",
      "text/plain": [
       "<Figure size 432x288 with 1 Axes>"
      ]
     },
     "metadata": {
      "needs_background": "light"
     },
     "output_type": "display_data"
    }
   ],
   "source": [
    "noun_flatten_df[noun_flatten_df.pos>5].plot.scatter(\"pos\", \"mu\", s=1)"
   ]
  },
  {
   "cell_type": "code",
   "execution_count": null,
   "id": "a79d7847-6dca-46f6-a929-1432ccc56344",
   "metadata": {},
   "outputs": [],
   "source": []
  }
 ],
 "metadata": {
  "kernelspec": {
   "display_name": "Python 3 (ipykernel)",
   "language": "python",
   "name": "python3"
  },
  "language_info": {
   "codemirror_mode": {
    "name": "ipython",
    "version": 3
   },
   "file_extension": ".py",
   "mimetype": "text/x-python",
   "name": "python",
   "nbconvert_exporter": "python",
   "pygments_lexer": "ipython3",
   "version": "3.10.2"
  }
 },
 "nbformat": 4,
 "nbformat_minor": 5
}
