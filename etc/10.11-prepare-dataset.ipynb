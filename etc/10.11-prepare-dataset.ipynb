{
 "cells": [
  {
   "cell_type": "code",
   "execution_count": 8,
   "id": "c1c49472-3d68-44aa-9939-a23c24fe35dd",
   "metadata": {},
   "outputs": [],
   "source": [
    "import numpy as np\n",
    "from tqdm.auto import tqdm\n",
    "from CwnGraph import CwnBase, CwnImage\n",
    "from sklearn.model_selection import train_test_split\n",
    "from datasets import Dataset, DatasetDict, DatasetInfo\n",
    "from datasets import Value, Sequence, Features\n",
    "from datasets import concatenate_datasets"
   ]
  },
  {
   "cell_type": "code",
   "execution_count": 9,
   "id": "1a8b57ae-d1b8-414a-87f7-ce7c7002801b",
   "metadata": {},
   "outputs": [],
   "source": [
    "rng = np.random.RandomState(12052)"
   ]
  },
  {
   "cell_type": "code",
   "execution_count": 10,
   "id": "7e12a543-c17c-4886-86ce-0c34e0dd176d",
   "metadata": {},
   "outputs": [
    {
     "data": {
      "application/vnd.jupyter.widget-view+json": {
       "model_id": "82ec9f17ba574f06b3649e6ff1867155",
       "version_major": 2,
       "version_minor": 0
      },
      "text/plain": [
       "  0%|          | 0/29415 [00:00<?, ?it/s]"
      ]
     },
     "metadata": {},
     "output_type": "display_data"
    },
    {
     "data": {
      "text/plain": [
       "(29306, 93208)"
      ]
     },
     "execution_count": 10,
     "metadata": {},
     "output_type": "execute_result"
    }
   ],
   "source": [
    "cwn = CwnImage.latest()\n",
    "senses = []\n",
    "for sense_x in tqdm(cwn.get_all_senses()):\n",
    "    all_exs = sense_x.all_examples()\n",
    "    if all_exs and all(x for x in all_exs):\n",
    "        senses.append(sense_x)\n",
    "len(senses), sum(len(set(sense_x.all_examples())) for sense_x in senses)"
   ]
  },
  {
   "cell_type": "code",
   "execution_count": 11,
   "id": "20383809-06b6-41a5-a682-05a63a399887",
   "metadata": {},
   "outputs": [],
   "source": [
    "def make_example(sense_x):\n",
    "    return dict(\n",
    "        cwnid=sense_x.id,\n",
    "        word=sense_x.head_word,\n",
    "        pos=sense_x.pos,\n",
    "        definition=sense_x.definition,\n",
    "        examples=sense_x.all_examples(),\n",
    "    )"
   ]
  },
  {
   "cell_type": "code",
   "execution_count": 12,
   "id": "21ff9673-2255-4411-bede-ff4383c924df",
   "metadata": {},
   "outputs": [
    {
     "data": {
      "application/vnd.jupyter.widget-view+json": {
       "model_id": "4a8fdcd50e1b4a77988482ed158cabb3",
       "version_major": 2,
       "version_minor": 0
      },
      "text/plain": [
       "Casting the dataset:   0%|          | 0/3 [00:00<?, ?ba/s]"
      ]
     },
     "metadata": {},
     "output_type": "display_data"
    }
   ],
   "source": [
    "sense_data = [make_example(x) for x in senses]\n",
    "sense_cols = {fld: [sense_x[fld] for sense_x in sense_data] for fld in sense_data[0].keys()}\n",
    "sense_ds = Dataset.from_dict(sense_cols)\n",
    "\n",
    "sense_ds = sense_ds.cast(\n",
    "    Features({\n",
    "          \"cwnid\": Value(dtype='string'),\n",
    "          \"word\": Value(dtype='string'),\n",
    "          \"pos\": Value(dtype='string'),\n",
    "          \"definition\": Value(dtype='string'),\n",
    "          \"examples\": Sequence(feature=Value(dtype='string'))\n",
    "         }))"
   ]
  },
  {
   "cell_type": "code",
   "execution_count": 13,
   "id": "fb0244bf-977c-4aaa-ba17-dcf3a2f1b61e",
   "metadata": {},
   "outputs": [
    {
     "data": {
      "text/plain": [
       "Dataset({\n",
       "    features: ['cwnid', 'word', 'pos', 'definition', 'examples'],\n",
       "    num_rows: 29306\n",
       "})"
      ]
     },
     "execution_count": 13,
     "metadata": {},
     "output_type": "execute_result"
    }
   ],
   "source": [
    "sense_ds"
   ]
  },
  {
   "cell_type": "markdown",
   "id": "19078e11-6ec0-41b2-a599-a560cf335eb2",
   "metadata": {},
   "source": [
    "## Definition Corruption"
   ]
  },
  {
   "cell_type": "code",
   "execution_count": 14,
   "id": "92a6e79d-e25f-4202-9944-ee600250028f",
   "metadata": {},
   "outputs": [],
   "source": [
    "def corrupt_sentence(instance, win=3):\n",
    "    cwnid = instance[\"cwnid\"]\n",
    "    text = instance[\"definition\"]\n",
    "    if len(text) <= win+1:\n",
    "        return {\n",
    "            \"cwnid\": cwnid,\n",
    "            \"src\": text, \n",
    "            \"tgt\": text\n",
    "        }\n",
    "    cor_x = rng.randint(len(text)-win)\n",
    "    \n",
    "    cor_len = np.clip(rng.poisson(2), 1, 4)\n",
    "    cor_sites = [(cor_x, cor_len)]\n",
    "    if len(text) > 20:\n",
    "        cor_x = ((cor_x+cor_len) + rng.randint(len(text)-cor_len)) % len(text)\n",
    "        cor_len = np.clip(rng.poisson(2), 1, 4)        \n",
    "        cor_sites.append((cor_x, cor_len))\n",
    "    cor_sites = sorted(cor_sites, key=lambda x: x[0])\n",
    "    \n",
    "    cor_text = \"\"    \n",
    "    target_text = \"\"\n",
    "    cur_pos = 0\n",
    "    cor_idx = 0    \n",
    "    for cor_x, cor_len in cor_sites:\n",
    "        if cur_pos <= cor_x:            \n",
    "            sentinel = f\"<extra_id_{cor_idx:02d}>\"\n",
    "            cor_text += text[cur_pos:cor_x] + sentinel\n",
    "            target_text += sentinel + text[cor_x:cor_x+cor_len]\n",
    "            cor_idx += 1\n",
    "        cur_pos = cor_x + cor_len\n",
    "    cor_text += text[cur_pos:]\n",
    "    target_text += f\"<extra_id_{cor_idx:02d}>\"\n",
    "    return {\n",
    "        \"cwnid\": cwnid,\n",
    "        \"src\": cor_text, \n",
    "        \"tgt\": target_text}\n",
    "    "
   ]
  },
  {
   "cell_type": "code",
   "execution_count": 15,
   "id": "011a568a-f37c-4c82-9458-56dca9865fda",
   "metadata": {},
   "outputs": [
    {
     "data": {
      "application/vnd.jupyter.widget-view+json": {
       "model_id": "8399d44043b3410c8653a8cde075cdf0",
       "version_major": 2,
       "version_minor": 0
      },
      "text/plain": [
       "  0%|          | 0/29306 [00:00<?, ?ex/s]"
      ]
     },
     "metadata": {},
     "output_type": "display_data"
    }
   ],
   "source": [
    "ds_corrupt = sense_ds.map(corrupt_sentence, remove_columns=[\"word\", \"pos\", \"examples\", \"definition\"])"
   ]
  },
  {
   "cell_type": "code",
   "execution_count": 16,
   "id": "6f8cb885-f51c-49c5-a68d-24331be02bca",
   "metadata": {},
   "outputs": [],
   "source": [
    "ds_corrupt_split = ds_corrupt.train_test_split(test_size=0.1)"
   ]
  },
  {
   "cell_type": "markdown",
   "id": "1b8a42cd-8930-4430-8834-adad29bb1fc5",
   "metadata": {},
   "source": [
    "## Definition Generation"
   ]
  },
  {
   "cell_type": "code",
   "execution_count": 17,
   "id": "eb7a74cb-59bc-413b-9a41-0b03b4a0a3d3",
   "metadata": {},
   "outputs": [],
   "source": [
    "def defgen_mapper(instance):\n",
    "    cwnid = instance[\"cwnid\"]\n",
    "    word = instance[\"word\"]\n",
    "    pos = instance[\"pos\"]\n",
    "    definition = instance[\"definition\"]\n",
    "    examples = set(instance[\"examples\"])\n",
    "    word_prefix = f\"{word}。\"\n",
    "    pos_prefix = f\"{pos}。\"\n",
    "    return {\n",
    "        \"cwnid\": [cwnid] * len(examples),            \n",
    "        \"src\": [word_prefix+ex for ex in examples],\n",
    "        \"tgt\": [pos_prefix+definition]*len(examples)\n",
    "    }\n",
    "\n",
    "def flatten_list(instances):    \n",
    "    return {k: sum(instances[k], [])\n",
    "            for k in instances.keys()}"
   ]
  },
  {
   "cell_type": "code",
   "execution_count": 18,
   "id": "905533d6-c284-4f95-a4af-ce026e7851ce",
   "metadata": {},
   "outputs": [
    {
     "data": {
      "application/vnd.jupyter.widget-view+json": {
       "model_id": "3475c9315aef422cbd6d862de179936e",
       "version_major": 2,
       "version_minor": 0
      },
      "text/plain": [
       "  0%|          | 0/29306 [00:00<?, ?ex/s]"
      ]
     },
     "metadata": {},
     "output_type": "display_data"
    },
    {
     "data": {
      "application/vnd.jupyter.widget-view+json": {
       "model_id": "fa6e3a49e62642d490a33050e2e50330",
       "version_major": 2,
       "version_minor": 0
      },
      "text/plain": [
       "  0%|          | 0/30 [00:00<?, ?ba/s]"
      ]
     },
     "metadata": {},
     "output_type": "display_data"
    }
   ],
   "source": [
    "ds_defgen = sense_ds.map(defgen_mapper, remove_columns=[\"word\", \"pos\", \"examples\", \"definition\"])\\\n",
    "                    .map(flatten_list, batched=True)"
   ]
  },
  {
   "cell_type": "code",
   "execution_count": 20,
   "id": "d90951d7-16ac-4eb9-82f2-edbf35b5e359",
   "metadata": {},
   "outputs": [
    {
     "data": {
      "text/plain": [
       "{'cwnid': '03001702',\n",
       " 'src': '抱。不要整天躲宿舍<抱>電腦，有時間應該出去曬曬太陽。',\n",
       " 'tgt': 'VC。花費大量時間於特定事物上。'}"
      ]
     },
     "execution_count": 20,
     "metadata": {},
     "output_type": "execute_result"
    }
   ],
   "source": [
    "ds_defgen[121]"
   ]
  },
  {
   "cell_type": "code",
   "execution_count": 21,
   "id": "6bdc0378-c4dc-4c1c-99d5-bc3e7a229846",
   "metadata": {},
   "outputs": [],
   "source": [
    "from itertools import groupby\n",
    "def stratify_split(cwnids):\n",
    "    train_idxs = []\n",
    "    test_idxs = []\n",
    "    for grp, grp_idx in groupby(np.arange(len(cwnids)), key=lambda x: cwnids[x]):\n",
    "        grp_idx = list(grp_idx)        \n",
    "        if len(grp_idx) > 2:\n",
    "            test_idxs.extend(grp_idx[-1:])\n",
    "            train_idxs.extend(grp_idx[:-1])\n",
    "        else:\n",
    "            train_idxs.extend(grp_idx)\n",
    "    return train_idxs, test_idxs"
   ]
  },
  {
   "cell_type": "code",
   "execution_count": 22,
   "id": "9ab681e6-9c62-4358-9c8a-428679acd837",
   "metadata": {},
   "outputs": [],
   "source": [
    "defgen_train_idxs, defgen_test_idxs = stratify_split(ds_defgen[\"cwnid\"])"
   ]
  },
  {
   "cell_type": "code",
   "execution_count": 23,
   "id": "6d6f55b5-27fd-4910-be82-ce363eb5abf6",
   "metadata": {},
   "outputs": [],
   "source": [
    "ds_defgen_train = ds_defgen.select(defgen_train_idxs)\n",
    "ds_defgen_test = ds_defgen.select(defgen_test_idxs)"
   ]
  },
  {
   "cell_type": "code",
   "execution_count": 24,
   "id": "c8b3d842-b127-4874-bfec-0352bf2d8e1b",
   "metadata": {},
   "outputs": [],
   "source": [
    "info = DatasetInfo(\"CWN seq2seq data with denoising and definition generation\")\n",
    "cwn_seq2seq_ds = DatasetDict({\n",
    "    \"train\": concatenate_datasets([ds_defgen_train, ds_corrupt_split[\"train\"]], info=info),\n",
    "    \"test\":  concatenate_datasets([ds_defgen_test, ds_corrupt_split[\"test\"]], info=info)})"
   ]
  },
  {
   "cell_type": "code",
   "execution_count": 25,
   "id": "32c2fe75-4ecf-4a3a-a458-27b9de6c6e05",
   "metadata": {},
   "outputs": [
    {
     "data": {
      "text/plain": [
       "{'cwnid': ['03000101',\n",
       "  '03000101',\n",
       "  '03000102',\n",
       "  '03000102',\n",
       "  '03000201',\n",
       "  '03000201',\n",
       "  '03000202',\n",
       "  '03000202',\n",
       "  '03000203',\n",
       "  '03000203'],\n",
       " 'src': ['啊唷。<啊唷>，這麼多蟑螂和老鼠屎！髒透了！',\n",
       "  '啊唷。門砰的一聲，阿姨跳了起來，喊一聲「<啊唷>」。',\n",
       "  '啊唷。只聽老爺「<啊唷>」一聲，說是一條腿跌斷了。',\n",
       "  '啊唷。在用剪刀剪去死肉時，老人叫著「<啊唷>」、「<啊唷>」。',\n",
       "  '唉唷。哈、哈、哈，<唉唷>，這也是，這也是有意思的說法。',\n",
       "  '唉唷。<唉唷>，你的東西掉下去了啦！',\n",
       "  '唉唷。<唉唷>，我的頭好痛。',\n",
       "  '唉唷。<唉唷>，你踩到我的腳了。',\n",
       "  '唉唷。<唉唷>！什麼情什麼愛,說來說去還不都是為了自己。',\n",
       "  '唉唷。<唉唷>，好啦！你不要老是學那個電視上啦！'],\n",
       " 'tgt': ['I。表驚訝的語氣。',\n",
       "  'I。表驚訝的語氣。',\n",
       "  'I。表痛苦、呼痛的聲音。',\n",
       "  'I。表痛苦、呼痛的聲音。',\n",
       "  'I。表驚訝的語氣。',\n",
       "  'I。表驚訝的語氣。',\n",
       "  'I。表痛苦、呼痛的聲音。',\n",
       "  'I。表痛苦、呼痛的聲音。',\n",
       "  'I。表示不耐煩的語氣。',\n",
       "  'I。表示不耐煩的語氣。']}"
      ]
     },
     "execution_count": 25,
     "metadata": {},
     "output_type": "execute_result"
    }
   ],
   "source": [
    "cwn_seq2seq_ds[\"train\"][:10]"
   ]
  },
  {
   "cell_type": "code",
   "execution_count": 26,
   "id": "74e02d1c-0641-4f8d-a3c4-3f25caf5afbb",
   "metadata": {},
   "outputs": [
    {
     "data": {
      "application/vnd.jupyter.widget-view+json": {
       "model_id": "91939fc4d12448e88c8fe78d259763c1",
       "version_major": 2,
       "version_minor": 0
      },
      "text/plain": [
       "Flattening the indices:   0%|          | 0/95 [00:00<?, ?ba/s]"
      ]
     },
     "metadata": {},
     "output_type": "display_data"
    },
    {
     "data": {
      "application/vnd.jupyter.widget-view+json": {
       "model_id": "0f54b00057e64acca3a9fc7ff23dd035",
       "version_major": 2,
       "version_minor": 0
      },
      "text/plain": [
       "Flattening the indices:   0%|          | 0/28 [00:00<?, ?ba/s]"
      ]
     },
     "metadata": {},
     "output_type": "display_data"
    }
   ],
   "source": [
    "cwn_seq2seq_ds.save_to_disk(\"../data/cwn_seq2seq_charlie_ds\")"
   ]
  },
  {
   "cell_type": "markdown",
   "id": "46d8857d-937d-4bbe-86cf-bfeaaa281b8b",
   "metadata": {},
   "source": [
    "## Collator"
   ]
  },
  {
   "cell_type": "code",
   "execution_count": 39,
   "id": "26c1633d-9641-4a7a-b671-ca7986a25b36",
   "metadata": {},
   "outputs": [],
   "source": [
    "from transformers import MT5TokenizerFast\n",
    "tokenizer = MT5TokenizerFast.from_pretrained(\"google/mt5-base\")"
   ]
  },
  {
   "cell_type": "code",
   "execution_count": 40,
   "id": "90660fab-8c12-46a1-b635-c72d2860b11c",
   "metadata": {},
   "outputs": [
    {
     "data": {
      "text/plain": [
       "{'input_ids': [259, 309, 2116, 1], 'attention_mask': [1, 1, 1, 1]}"
      ]
     },
     "execution_count": 40,
     "metadata": {},
     "output_type": "execute_result"
    }
   ],
   "source": [
    "tokenizer(\"!23\")"
   ]
  },
  {
   "cell_type": "code",
   "execution_count": 58,
   "id": "688fe1b6-496e-4209-b320-bf0bdcc7aaf0",
   "metadata": {},
   "outputs": [],
   "source": [
    "def CwnSeq2Seq_collator_fn(batch):\n",
    "    src_batch = tokenizer(batch[\"src\"], padding=\"longest\", return_tensors=\"pt\")\n",
    "    tgt_batch = tokenizer(batch[\"tgt\"], padding=\"longest\", return_tensors=\"pt\")        \n",
    "    tgt_mask = tgt_batch[\"attention_mask\"]\n",
    "    tgt_batch[\"input_ids\"][~tgt_mask.bool()] = -100\n",
    "    return {\n",
    "        **src_batch, \"labels\": tgt_batch[\"input_ids\"]\n",
    "    }"
   ]
  },
  {
   "cell_type": "code",
   "execution_count": 59,
   "id": "18a244d4-71f2-408c-84bd-99b2255f0f86",
   "metadata": {},
   "outputs": [
    {
     "data": {
      "text/plain": [
       "{'cwnid': ['03000101', '03000101'],\n",
       " 'src': ['啊唷，I。<啊唷>，這麼多蟑螂和老鼠屎！髒透了！', '啊唷，I。門砰的一聲，阿姨跳了起來，喊一聲「<啊唷>」。'],\n",
       " 'tgt': ['表驚訝的語氣。', '表驚訝的語氣。']}"
      ]
     },
     "execution_count": 59,
     "metadata": {},
     "output_type": "execute_result"
    }
   ],
   "source": [
    "cwn_seq2seq_ds[\"train\"][:2]"
   ]
  },
  {
   "cell_type": "code",
   "execution_count": 60,
   "id": "efca6ba7-0f31-4ace-a4bf-8c2290052c5f",
   "metadata": {},
   "outputs": [
    {
     "data": {
      "text/plain": [
       "{'input_ids': tensor([[   259,  33332, 239895,    261,    566,    306,   2709,  33332, 239895,\n",
       "             669,    261,  31752, 120775,   3139, 242812, 241213,   1107,   5991,\n",
       "           94738, 239113,    309, 242228,  39378,   1322,    309,      1,      0,\n",
       "               0,      0,      0,      0],\n",
       "         [   259,  33332, 239895,    261,    566,    306,  27304, 241982,  96543,\n",
       "          137266,    261,  15101, 194762,  52195,   1322, 210707,    261, 116100,\n",
       "            1374, 137266,    939,   2709,  33332, 239895,    669,  54172,      1,\n",
       "               0,      0,      0,      0],\n",
       "         [   259,  33332, 239895,    261,    566,    306,   8779, 165023,   5991,\n",
       "          222111,    939,   2709,  33332, 239895,    669,    879,   1374, 137266,\n",
       "             261,  43454, 136363, 124894,  87917,  63687, 164686,   1322,    306,\n",
       "               1,      0,      0,      0],\n",
       "         [   259,  33332, 239895,    261,    566,    306,   1083,   2151, 132582,\n",
       "           36990, 132582,   6072,  11170,  14828,   4291,    261,  74794,  27333,\n",
       "           17355,    939,   2709,  33332, 239895,    669, 113622,   2709,  33332,\n",
       "          239895,    669,  54172,      1],\n",
       "         [   259, 241109, 239895,    261,    566,    306,  36661,    292,  36661,\n",
       "             292,  36661,    261,   2709, 241109, 239895,    669,    261,  31752,\n",
       "           25516,    261,  31752,  25516,   1637, 108059,    493,  43454,   4066,\n",
       "             306,      1,      0,      0]]),\n",
       " 'attention_mask': tensor([[1, 1, 1, 1, 1, 1, 1, 1, 1, 1, 1, 1, 1, 1, 1, 1, 1, 1, 1, 1, 1, 1, 1, 1,\n",
       "          1, 1, 0, 0, 0, 0, 0],\n",
       "         [1, 1, 1, 1, 1, 1, 1, 1, 1, 1, 1, 1, 1, 1, 1, 1, 1, 1, 1, 1, 1, 1, 1, 1,\n",
       "          1, 1, 1, 0, 0, 0, 0],\n",
       "         [1, 1, 1, 1, 1, 1, 1, 1, 1, 1, 1, 1, 1, 1, 1, 1, 1, 1, 1, 1, 1, 1, 1, 1,\n",
       "          1, 1, 1, 1, 0, 0, 0],\n",
       "         [1, 1, 1, 1, 1, 1, 1, 1, 1, 1, 1, 1, 1, 1, 1, 1, 1, 1, 1, 1, 1, 1, 1, 1,\n",
       "          1, 1, 1, 1, 1, 1, 1],\n",
       "         [1, 1, 1, 1, 1, 1, 1, 1, 1, 1, 1, 1, 1, 1, 1, 1, 1, 1, 1, 1, 1, 1, 1, 1,\n",
       "          1, 1, 1, 1, 1, 0, 0]]),\n",
       " 'labels': tensor([[   259,   7130, 111934, 243703,    493,  19868,  62746,    306,      1,\n",
       "            -100,   -100,   -100],\n",
       "         [   259,   7130, 111934, 243703,    493,  19868,  62746,    306,      1,\n",
       "            -100,   -100,   -100],\n",
       "         [   259,   7130,  26553,  27722,    292,  40188,  26553,    493, 137266,\n",
       "            7647,    306,      1],\n",
       "         [   259,   7130,  26553,  27722,    292,  40188,  26553,    493, 137266,\n",
       "            7647,    306,      1],\n",
       "         [   259,   7130, 111934, 243703,    493,  19868,  62746,    306,      1,\n",
       "            -100,   -100,   -100]])}"
      ]
     },
     "execution_count": 60,
     "metadata": {},
     "output_type": "execute_result"
    }
   ],
   "source": [
    "CwnSeq2Seq_collator_fn(cwn_seq2seq_ds[\"train\"][:5])"
   ]
  },
  {
   "cell_type": "code",
   "execution_count": null,
   "id": "c4a5c254-b710-4833-adbb-e56ad02f4182",
   "metadata": {},
   "outputs": [],
   "source": []
  }
 ],
 "metadata": {
  "kernelspec": {
   "display_name": "Python 3 (ipykernel)",
   "language": "python",
   "name": "python3"
  },
  "language_info": {
   "codemirror_mode": {
    "name": "ipython",
    "version": 3
   },
   "file_extension": ".py",
   "mimetype": "text/x-python",
   "name": "python",
   "nbconvert_exporter": "python",
   "pygments_lexer": "ipython3",
   "version": "3.10.2"
  }
 },
 "nbformat": 4,
 "nbformat_minor": 5
}
