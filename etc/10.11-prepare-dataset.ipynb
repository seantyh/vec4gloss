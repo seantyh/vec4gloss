{
 "cells": [
  {
   "cell_type": "markdown",
   "id": "c1e421b4-81c3-4674-a0a5-e1840be9948e",
   "metadata": {},
   "source": [
    "# Prepare Dataset"
   ]
  },
  {
   "cell_type": "code",
   "execution_count": 1,
   "id": "14cd300c-e164-4d00-a40f-a8fd8c540b08",
   "metadata": {},
   "outputs": [],
   "source": [
    "%load_ext autoreload\n",
    "%autoreload 2\n",
    "import sys\n",
    "if \"../src\" not in sys.path:\n",
    "    sys.path.append(\"../src\")"
   ]
  },
  {
   "cell_type": "code",
   "execution_count": 2,
   "id": "f28bfd00-be54-4609-a200-bf834f3c8d3e",
   "metadata": {},
   "outputs": [],
   "source": [
    "from vec4gloss import check_hashes\n",
    "from pathlib import Path\n",
    "import pandas as pd\n",
    "import numpy as np\n",
    "from tqdm.auto import tqdm\n",
    "from CwnGraph import CwnBase, CwnImage\n",
    "from sklearn.model_selection import train_test_split\n",
    "from datasets import Dataset, DatasetDict, DatasetInfo\n",
    "from datasets import Value, Sequence, Features\n",
    "from datasets import concatenate_datasets"
   ]
  },
  {
   "cell_type": "markdown",
   "id": "67973fc3-02f0-463f-9088-b90599df0aa9",
   "metadata": {},
   "source": [
    "## Data Dependencies"
   ]
  },
  {
   "cell_type": "markdown",
   "id": "660a0ae2-8425-46a3-90ab-14a16a119fe0",
   "metadata": {},
   "source": [
    "```\n",
    "..\\data\\def_frame_annot_sense_ids.txt 49fc44\n",
    "```"
   ]
  },
  {
   "cell_type": "code",
   "execution_count": 3,
   "id": "5c1ba5c0-021a-440c-afc9-5d55b497a5de",
   "metadata": {},
   "outputs": [
    {
     "name": "stdout",
     "output_type": "stream",
     "text": [
      "..\\data\\def_frame_annot_sense_ids.txt 49fc44\n"
     ]
    }
   ],
   "source": [
    "_ = check_hashes(\"../data/def_frame_annot_sense_ids.txt\")"
   ]
  },
  {
   "cell_type": "code",
   "execution_count": 4,
   "id": "65b5d483-3cc5-4080-b20d-f9695d041b23",
   "metadata": {},
   "outputs": [
    {
     "data": {
      "text/plain": [
       "288"
      ]
     },
     "execution_count": 4,
     "metadata": {},
     "output_type": "execute_result"
    }
   ],
   "source": [
    "excl_sense_ids = set(Path(\"../data/def_frame_annot_sense_ids.txt\").read_text().split())\n",
    "len(excl_sense_ids)"
   ]
  },
  {
   "cell_type": "code",
   "execution_count": 5,
   "id": "75ac4420-a1f5-4e4b-bc03-e73d44f8b4f3",
   "metadata": {},
   "outputs": [
    {
     "data": {
      "text/plain": [
       "['06626204', '04044603', '03044201']"
      ]
     },
     "execution_count": 5,
     "metadata": {},
     "output_type": "execute_result"
    }
   ],
   "source": [
    "from itertools import islice\n",
    "list(islice(excl_sense_ids, 3))"
   ]
  },
  {
   "cell_type": "markdown",
   "id": "f947cc7a-6126-4d20-ab6b-d5a2d587453c",
   "metadata": {},
   "source": [
    "## Generate denoising dataset"
   ]
  },
  {
   "cell_type": "code",
   "execution_count": 6,
   "id": "1a8b57ae-d1b8-414a-87f7-ce7c7002801b",
   "metadata": {},
   "outputs": [],
   "source": [
    "rng = np.random.RandomState(12052)"
   ]
  },
  {
   "cell_type": "code",
   "execution_count": 7,
   "id": "66379afd-6765-4fde-b643-c41f09f51959",
   "metadata": {},
   "outputs": [],
   "source": [
    "CWN_VER = \"v.2022.06.17\""
   ]
  },
  {
   "cell_type": "code",
   "execution_count": 8,
   "id": "7e12a543-c17c-4886-86ce-0c34e0dd176d",
   "metadata": {},
   "outputs": [
    {
     "data": {
      "application/vnd.jupyter.widget-view+json": {
       "model_id": "5cdf909d760248d8b7b99199998b53a1",
       "version_major": 2,
       "version_minor": 0
      },
      "text/plain": [
       "  0%|          | 0/29433 [00:00<?, ?it/s]"
      ]
     },
     "metadata": {},
     "output_type": "display_data"
    },
    {
     "data": {
      "text/plain": [
       "(29015, 92154)"
      ]
     },
     "execution_count": 8,
     "metadata": {},
     "output_type": "execute_result"
    }
   ],
   "source": [
    "cwn = CwnImage.load(CWN_VER)\n",
    "senses = []\n",
    "for sense_x in tqdm(cwn.get_all_senses()):\n",
    "    if sense_x.id in excl_sense_ids:\n",
    "        continue\n",
    "        \n",
    "    all_exs = sense_x.all_examples()\n",
    "    # skip those problematic examples (e.g. a list of characters)\n",
    "    if len(all_exs) > 10: continue\n",
    "    if all_exs and all(x for x in all_exs):\n",
    "        senses.append(sense_x)\n",
    "len(senses), sum(len(set(sense_x.all_examples())) for sense_x in senses)"
   ]
  },
  {
   "cell_type": "code",
   "execution_count": 9,
   "id": "20383809-06b6-41a5-a682-05a63a399887",
   "metadata": {},
   "outputs": [],
   "source": [
    "def make_example(sense_x):\n",
    "    return dict(\n",
    "        cwnid=sense_x.id,\n",
    "        word=sense_x.head_word,\n",
    "        pos=sense_x.pos,\n",
    "        definition=sense_x.definition,\n",
    "        examples=sense_x.all_examples(),\n",
    "    )"
   ]
  },
  {
   "cell_type": "code",
   "execution_count": 10,
   "id": "21ff9673-2255-4411-bede-ff4383c924df",
   "metadata": {},
   "outputs": [
    {
     "data": {
      "application/vnd.jupyter.widget-view+json": {
       "model_id": "a42941d1bb7a47d39c32b456ea4904db",
       "version_major": 2,
       "version_minor": 0
      },
      "text/plain": [
       "Casting the dataset:   0%|          | 0/3 [00:00<?, ?ba/s]"
      ]
     },
     "metadata": {},
     "output_type": "display_data"
    }
   ],
   "source": [
    "sense_data = [make_example(x) for x in senses]\n",
    "sense_cols = {fld: [sense_x[fld] for sense_x in sense_data] for fld in sense_data[0].keys()}\n",
    "sense_ds = Dataset.from_dict(sense_cols)\n",
    "\n",
    "sense_ds = sense_ds.cast(\n",
    "    Features({\n",
    "          \"cwnid\": Value(dtype='string'),\n",
    "          \"word\": Value(dtype='string'),\n",
    "          \"pos\": Value(dtype='string'),\n",
    "          \"definition\": Value(dtype='string'),\n",
    "          \"examples\": Sequence(feature=Value(dtype='string'))\n",
    "         }))"
   ]
  },
  {
   "cell_type": "code",
   "execution_count": 11,
   "id": "fb0244bf-977c-4aaa-ba17-dcf3a2f1b61e",
   "metadata": {},
   "outputs": [
    {
     "data": {
      "text/plain": [
       "{'cwnid': '03000101',\n",
       " 'word': '啊唷',\n",
       " 'pos': 'I',\n",
       " 'definition': '表驚訝的語氣。',\n",
       " 'examples': ['<啊唷>，你把我嚇了一跳！',\n",
       "  '<啊唷>，這麼多蟑螂和老鼠屎！髒透了！',\n",
       "  '門砰的一聲，阿姨跳了起來，喊一聲「<啊唷>」。']}"
      ]
     },
     "execution_count": 11,
     "metadata": {},
     "output_type": "execute_result"
    }
   ],
   "source": [
    "sense_ds[0]"
   ]
  },
  {
   "cell_type": "markdown",
   "id": "19078e11-6ec0-41b2-a599-a560cf335eb2",
   "metadata": {},
   "source": [
    "## Definition Corruption"
   ]
  },
  {
   "cell_type": "code",
   "execution_count": 12,
   "id": "92a6e79d-e25f-4202-9944-ee600250028f",
   "metadata": {},
   "outputs": [],
   "source": [
    "def corrupt_sentence(instance, win=3):\n",
    "    cwnid = instance[\"cwnid\"]\n",
    "    text = instance[\"definition\"]\n",
    "    if len(text) <= win+1:\n",
    "        return {\n",
    "            \"cwnid\": cwnid,\n",
    "            \"src\": text, \n",
    "            \"tgt\": text\n",
    "        }\n",
    "    cor_x = rng.randint(len(text)-win)\n",
    "    \n",
    "    # select corruption site (two sites if longer than 20)\n",
    "    cor_len = np.clip(rng.poisson(2), 1, 4)\n",
    "    cor_sites = [(cor_x, cor_len)]\n",
    "    if len(text) > 20:\n",
    "        cor_x = ((cor_x+cor_len) + rng.randint(len(text)-cor_len)) % len(text)\n",
    "        cor_len = np.clip(rng.poisson(2), 1, 4)        \n",
    "        cor_sites.append((cor_x, cor_len))\n",
    "    cor_sites = sorted(cor_sites, key=lambda x: x[0])\n",
    "    \n",
    "    # generate denoising pairs\n",
    "    cor_text = \"\"    \n",
    "    target_text = \"\"\n",
    "    cur_pos = 0\n",
    "    cor_idx = 0    \n",
    "    for cor_x, cor_len in cor_sites:\n",
    "        if cur_pos <= cor_x:            \n",
    "            sentinel = f\" <extra_id_{cor_idx:02d}>\"\n",
    "            cor_text += text[cur_pos:cor_x] + sentinel\n",
    "            target_text += sentinel + text[cor_x:cor_x+cor_len]\n",
    "            cor_idx += 1\n",
    "        cur_pos = cor_x + cor_len\n",
    "    cor_text += text[cur_pos:]\n",
    "    target_text += f\" <extra_id_{cor_idx:02d}>\"\n",
    "    return {\n",
    "        \"cwnid\": cwnid,\n",
    "        \"src\": cor_text.strip(), \n",
    "        \"tgt\": target_text.strip()}\n",
    "    "
   ]
  },
  {
   "cell_type": "code",
   "execution_count": 13,
   "id": "473d8779-1a51-4ed3-a0de-e79f2c97b45d",
   "metadata": {},
   "outputs": [
    {
     "data": {
      "text/plain": [
       "{'cwnid': '03000202',\n",
       " 'src': '表痛 <extra_id_00>痛的聲音。',\n",
       " 'tgt': '<extra_id_00>苦、呼 <extra_id_01>'}"
      ]
     },
     "execution_count": 13,
     "metadata": {},
     "output_type": "execute_result"
    }
   ],
   "source": [
    "corrupt_sentence(sense_ds[3])"
   ]
  },
  {
   "cell_type": "code",
   "execution_count": 14,
   "id": "011a568a-f37c-4c82-9458-56dca9865fda",
   "metadata": {},
   "outputs": [
    {
     "data": {
      "application/vnd.jupyter.widget-view+json": {
       "model_id": "75323b6c54e34be3ac1dc959e2a7785f",
       "version_major": 2,
       "version_minor": 0
      },
      "text/plain": [
       "  0%|          | 0/29015 [00:00<?, ?ex/s]"
      ]
     },
     "metadata": {},
     "output_type": "display_data"
    }
   ],
   "source": [
    "ds_corrupt = sense_ds.map(corrupt_sentence, remove_columns=[\"word\", \"pos\", \"examples\", \"definition\"])"
   ]
  },
  {
   "cell_type": "code",
   "execution_count": 15,
   "id": "6f8cb885-f51c-49c5-a68d-24331be02bca",
   "metadata": {},
   "outputs": [],
   "source": [
    "ds_corrupt_split = ds_corrupt.train_test_split(test_size=0.1, generator=np.random.RandomState(3152))"
   ]
  },
  {
   "cell_type": "code",
   "execution_count": 16,
   "id": "453b3343-6213-40f6-89bb-bc98f7dc3525",
   "metadata": {},
   "outputs": [
    {
     "data": {
      "text/plain": [
       "{'train': 26113, 'test': 2902}"
      ]
     },
     "execution_count": 16,
     "metadata": {},
     "output_type": "execute_result"
    }
   ],
   "source": [
    "{k: len(v) for k, v in ds_corrupt_split.items()}"
   ]
  },
  {
   "cell_type": "code",
   "execution_count": 17,
   "id": "fdc64165-7253-4be5-a3e5-9a79e3a36934",
   "metadata": {},
   "outputs": [
    {
     "data": {
      "application/vnd.jupyter.widget-view+json": {
       "model_id": "5dd14f1a0a8a4c54b83b10bc7fd01c97",
       "version_major": 2,
       "version_minor": 0
      },
      "text/plain": [
       "Flattening the indices:   0%|          | 0/27 [00:00<?, ?ba/s]"
      ]
     },
     "metadata": {},
     "output_type": "display_data"
    },
    {
     "data": {
      "application/vnd.jupyter.widget-view+json": {
       "model_id": "cdc3c5f7b0ca471d89578539a3e88bda",
       "version_major": 2,
       "version_minor": 0
      },
      "text/plain": [
       "Flattening the indices:   0%|          | 0/3 [00:00<?, ?ba/s]"
      ]
     },
     "metadata": {},
     "output_type": "display_data"
    }
   ],
   "source": [
    "ds_corrupt_dir = \"../data/denoising_dataset_cwn\"\n",
    "ds_corrupt_split.save_to_disk(ds_corrupt_dir)\n",
    "info = DatasetInfo(f\"vec4gloss denoising dataset based on CWN {CWN_VER}\", builder_name=\"vec4gloss/etc/10.11\")\n",
    "info.write_to_directory(ds_corrupt_dir)"
   ]
  },
  {
   "cell_type": "markdown",
   "id": "1b8a42cd-8930-4430-8834-adad29bb1fc5",
   "metadata": {},
   "source": [
    "## Definition Generation"
   ]
  },
  {
   "cell_type": "code",
   "execution_count": 18,
   "id": "eb7a74cb-59bc-413b-9a41-0b03b4a0a3d3",
   "metadata": {},
   "outputs": [],
   "source": [
    "def defgen_mapper(instance):    \n",
    "    cwnid = instance[\"cwnid\"]\n",
    "    word = instance[\"word\"]\n",
    "    pos = instance[\"pos\"]\n",
    "    definition = instance[\"definition\"]\n",
    "    examples = sorted(set(instance[\"examples\"]))\n",
    "    pos_prefix = f\"{pos}。\"\n",
    "    return {\n",
    "        \"cwnid\": [cwnid] * len(examples),            \n",
    "        \"src\": [ex for ex in examples],\n",
    "        \"tgt\": [pos_prefix+definition]*len(examples)\n",
    "    }\n",
    "\n",
    "def flatten_list(instances):    \n",
    "    return {k: sum(instances[k], [])\n",
    "            for k in instances.keys()}"
   ]
  },
  {
   "cell_type": "code",
   "execution_count": 19,
   "id": "905533d6-c284-4f95-a4af-ce026e7851ce",
   "metadata": {},
   "outputs": [
    {
     "data": {
      "application/vnd.jupyter.widget-view+json": {
       "model_id": "082f3bba47df451e9dc67cdacbd89d94",
       "version_major": 2,
       "version_minor": 0
      },
      "text/plain": [
       "  0%|          | 0/29015 [00:00<?, ?ex/s]"
      ]
     },
     "metadata": {},
     "output_type": "display_data"
    },
    {
     "data": {
      "application/vnd.jupyter.widget-view+json": {
       "model_id": "30a38526d79c4988aed5b4f8864b21cb",
       "version_major": 2,
       "version_minor": 0
      },
      "text/plain": [
       "  0%|          | 0/30 [00:00<?, ?ba/s]"
      ]
     },
     "metadata": {},
     "output_type": "display_data"
    }
   ],
   "source": [
    "ds_defgen = sense_ds.map(defgen_mapper, remove_columns=[\"word\", \"pos\", \"examples\", \"definition\"])\\\n",
    "                    .map(flatten_list, batched=True)"
   ]
  },
  {
   "cell_type": "code",
   "execution_count": 20,
   "id": "5bc7da0b-1021-4997-a268-6f2fd9f917c7",
   "metadata": {},
   "outputs": [
    {
     "name": "stdout",
     "output_type": "stream",
     "text": [
      "before filtering:  92154\n"
     ]
    },
    {
     "data": {
      "application/vnd.jupyter.widget-view+json": {
       "model_id": "c570afada51e43b3887f565ae53a7dc3",
       "version_major": 2,
       "version_minor": 0
      },
      "text/plain": [
       "  0%|          | 0/93 [00:00<?, ?ba/s]"
      ]
     },
     "metadata": {},
     "output_type": "display_data"
    },
    {
     "name": "stdout",
     "output_type": "stream",
     "text": [
      "after filtering:  85511\n"
     ]
    }
   ],
   "source": [
    "print(\"before filtering: \", len(ds_defgen))\n",
    "ds_defgen = ds_defgen.filter(lambda x: x[\"src\"].count(\"<\")==x[\"src\"].count(\">\")==1)\n",
    "print(\"after filtering: \", len(ds_defgen))"
   ]
  },
  {
   "cell_type": "code",
   "execution_count": 21,
   "id": "d90951d7-16ac-4eb9-82f2-edbf35b5e359",
   "metadata": {},
   "outputs": [
    {
     "data": {
      "text/plain": [
       "{'cwnid': '03001801',\n",
       " 'src': '我到客廳看到了蟑螂，順手拿起身旁的<報紙>，捲起，就往蟑螂身上打下去。',\n",
       " 'tgt': 'Na。定期出版、報導新聞、提供各式訊息的出版品。'}"
      ]
     },
     "execution_count": 21,
     "metadata": {},
     "output_type": "execute_result"
    }
   ],
   "source": [
    "ds_defgen[121]"
   ]
  },
  {
   "cell_type": "code",
   "execution_count": 22,
   "id": "6d6f55b5-27fd-4910-be82-ce363eb5abf6",
   "metadata": {},
   "outputs": [],
   "source": [
    "ds_defgen_split = ds_defgen.train_test_split(test_size=0.1, generator=np.random.RandomState(3152))\n",
    "info = DatasetInfo(f\"vec4gloss definition generation dataset based on CWN {CWN_VER}\", builder_name=\"vec4gloss/etc/10.11\")"
   ]
  },
  {
   "cell_type": "code",
   "execution_count": 23,
   "id": "73ba3aae-80f6-4d2d-919f-f415e38f4e5e",
   "metadata": {},
   "outputs": [
    {
     "data": {
      "text/plain": [
       "{'train': 76959, 'test': 8552}"
      ]
     },
     "execution_count": 23,
     "metadata": {},
     "output_type": "execute_result"
    }
   ],
   "source": [
    "{k: len(v) for k, v in ds_defgen_split.items()}"
   ]
  },
  {
   "cell_type": "code",
   "execution_count": 24,
   "id": "74e02d1c-0641-4f8d-a3c4-3f25caf5afbb",
   "metadata": {},
   "outputs": [
    {
     "data": {
      "application/vnd.jupyter.widget-view+json": {
       "model_id": "75934bf45f1e4cecac76708bc4e87500",
       "version_major": 2,
       "version_minor": 0
      },
      "text/plain": [
       "Flattening the indices:   0%|          | 0/77 [00:00<?, ?ba/s]"
      ]
     },
     "metadata": {},
     "output_type": "display_data"
    },
    {
     "data": {
      "application/vnd.jupyter.widget-view+json": {
       "model_id": "a9710c60a2494fabbb1407778a5c66e5",
       "version_major": 2,
       "version_minor": 0
      },
      "text/plain": [
       "Flattening the indices:   0%|          | 0/9 [00:00<?, ?ba/s]"
      ]
     },
     "metadata": {},
     "output_type": "display_data"
    }
   ],
   "source": [
    "ds_defgen_dir = \"../data/defgen_dataset_cwn\"\n",
    "ds_defgen_split.save_to_disk(ds_defgen_dir)\n",
    "info.write_to_directory(ds_defgen_dir)"
   ]
  },
  {
   "cell_type": "markdown",
   "id": "aace212c-5927-47e4-8ed1-02fdcb1e9a69",
   "metadata": {},
   "source": [
    "## Output Hash"
   ]
  },
  {
   "cell_type": "markdown",
   "id": "c2648cae-c36a-47d8-8914-a629a8ad5bcb",
   "metadata": {},
   "source": [
    "```\n",
    "..\\data\\denoising_dataset_cwn\\train\\dataset.arrow a7ef3e\n",
    "..\\data\\defgen_dataset_cwn\\train\\dataset.arrow ea55fd\n",
    "```"
   ]
  },
  {
   "cell_type": "code",
   "execution_count": 25,
   "id": "1c839ec0-567d-48a9-9484-7a88c9a796aa",
   "metadata": {},
   "outputs": [
    {
     "name": "stdout",
     "output_type": "stream",
     "text": [
      "..\\data\\denoising_dataset_cwn\\train\\dataset.arrow a7ef3e\n",
      "..\\data\\defgen_dataset_cwn\\train\\dataset.arrow ea55fd\n"
     ]
    }
   ],
   "source": [
    "_ = check_hashes([\n",
    "    \"../data/denoising_dataset_cwn/train/dataset.arrow\",\n",
    "    \"../data/defgen_dataset_cwn/train/dataset.arrow\",\n",
    "])"
   ]
  },
  {
   "cell_type": "code",
   "execution_count": null,
   "id": "b6c2edc7-e1ec-4497-be44-73c8fa7de0c1",
   "metadata": {},
   "outputs": [],
   "source": []
  }
 ],
 "metadata": {
  "kernelspec": {
   "display_name": "Python 3 (ipykernel)",
   "language": "python",
   "name": "python3"
  },
  "language_info": {
   "codemirror_mode": {
    "name": "ipython",
    "version": 3
   },
   "file_extension": ".py",
   "mimetype": "text/x-python",
   "name": "python",
   "nbconvert_exporter": "python",
   "pygments_lexer": "ipython3",
   "version": "3.10.2"
  }
 },
 "nbformat": 4,
 "nbformat_minor": 5
}
