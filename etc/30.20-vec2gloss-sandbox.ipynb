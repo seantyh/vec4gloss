{
 "cells": [
  {
   "cell_type": "markdown",
   "id": "c44f67d8-2f95-46c5-a584-3f3d01595f11",
   "metadata": {},
   "source": [
    "# Vec4Gloss Sandbox"
   ]
  },
  {
   "cell_type": "code",
   "execution_count": 1,
   "id": "661bf2ca-b8a7-47a8-8965-8ad5702defa1",
   "metadata": {},
   "outputs": [],
   "source": [
    "%load_ext autoreload\n",
    "%autoreload 2\n",
    "import sys\n",
    "if \"../src\" not in sys.path:\n",
    "    sys.path.append(\"../src\")\n",
    "if \"../../pyASBC/src\" not in sys.path:\n",
    "    sys.path.append(\"../../pyASBC/src\")"
   ]
  },
  {
   "cell_type": "code",
   "execution_count": 2,
   "id": "af613c3b-6d89-43e7-8c93-6024ade42d85",
   "metadata": {},
   "outputs": [],
   "source": [
    "import re\n",
    "import pickle\n",
    "import random\n",
    "from datetime import datetime\n",
    "from pathlib import Path\n",
    "from itertools import islice, chain, groupby\n",
    "\n",
    "import numpy as np\n",
    "import torch\n",
    "from tqdm.auto import tqdm\n",
    "\n",
    "from transformers import MT5TokenizerFast\n",
    "from transformers import DataCollatorForSeq2Seq\n",
    "import datasets\n",
    "\n",
    "from CwnGraph import CwnImage\n",
    "import vec4gloss\n",
    "from vec4gloss import check_hashes\n",
    "from vec4gloss import Vec4GlossModel\n",
    "from pyASBC import Asbc5Corpus"
   ]
  },
  {
   "cell_type": "markdown",
   "id": "ad996d0b-4182-48d4-bbb8-33147a6cca9a",
   "metadata": {},
   "source": [
    "## Data dependencies"
   ]
  },
  {
   "cell_type": "markdown",
   "id": "df370cdb-8678-4308-b6ec-b837eb231873",
   "metadata": {},
   "source": [
    "Note: the `defgen_dataset_cwn\\train` is only used in checking data hash, the 'test' split is used in the notebook itself.\n",
    "```\n",
    "10.11 -> ..\\data\\defgen_dataset_cwn\\train\\dataset.arrow 65a56d\n",
    "20.21 -> ..\\data\\models\\vec4gloss-defgen-220629-1250\\pytorch_model.bin 9f894f\n",
    "(external) -> ..\\data\\asbc5_words_pos.pkl 70badc\n",
    "```"
   ]
  },
  {
   "cell_type": "code",
   "execution_count": 3,
   "id": "5a101b0d-1e45-4ecf-a818-b02e407f1223",
   "metadata": {},
   "outputs": [
    {
     "name": "stdout",
     "output_type": "stream",
     "text": [
      "..\\data\\models\\vec4gloss-defgen-220629-1250\\pytorch_model.bin 9f894f\n"
     ]
    }
   ],
   "source": [
    "vec4gloss_model_dir = \"../data/models/vec4gloss-defgen-220629-1250\"\n",
    "_ = check_hashes([    \n",
    "    vec4gloss_model_dir + \"/pytorch_model.bin\",    \n",
    "])"
   ]
  },
  {
   "cell_type": "markdown",
   "id": "a5bfa651-97f8-49ef-a61e-84ed69f74b3b",
   "metadata": {},
   "source": [
    "## Loading resources"
   ]
  },
  {
   "cell_type": "code",
   "execution_count": 4,
   "id": "45d266e3-eaac-40df-94a6-11f5add4ef73",
   "metadata": {},
   "outputs": [
    {
     "name": "stdout",
     "output_type": "stream",
     "text": [
      "Using cpu\n"
     ]
    }
   ],
   "source": [
    "if torch.cuda.is_available() and \"GeForce\" not in torch.cuda.get_device_name():\n",
    "    device = \"cuda\"\n",
    "else:\n",
    "    device = \"cpu\"\n",
    "print(\"Using\", device)"
   ]
  },
  {
   "cell_type": "code",
   "execution_count": 5,
   "id": "4f42cd71-0c3f-430a-b1d9-f2a148455950",
   "metadata": {},
   "outputs": [],
   "source": [
    "ds_defgen = datasets.load_from_disk(\"../data/defgen_dataset_cwn\")\n",
    "model = Vec4GlossModel.from_pretrained(vec4gloss_model_dir).to(device)\n",
    "tokenizer = MT5TokenizerFast.from_pretrained(vec4gloss_model_dir)\n",
    "gen = vec4gloss.gen_func(tokenizer, model)"
   ]
  },
  {
   "cell_type": "code",
   "execution_count": 7,
   "id": "55960220-8cd3-4a1b-903a-45631a53b74e",
   "metadata": {},
   "outputs": [],
   "source": [
    "CWN_VER = \"v.2022.06\"\n",
    "cwn = CwnImage.load(CWN_VER)"
   ]
  },
  {
   "cell_type": "code",
   "execution_count": 54,
   "id": "d2c5eb7b-9705-455d-a19f-52cb30f94c7f",
   "metadata": {},
   "outputs": [
    {
     "data": {
      "text/plain": [
       "'VC。進行會議。'"
      ]
     },
     "execution_count": 54,
     "metadata": {},
     "output_type": "execute_result"
    }
   ],
   "source": [
    "gen(\"我<開>了一個會。\")"
   ]
  },
  {
   "cell_type": "code",
   "execution_count": 43,
   "id": "ab8503d2-60e5-49d6-8596-4c290398a5e6",
   "metadata": {},
   "outputs": [
    {
     "data": {
      "text/plain": [
       "'VC。比喻提出要求。'"
      ]
     },
     "execution_count": 43,
     "metadata": {},
     "output_type": "execute_result"
    }
   ],
   "source": [
    "gen(\"他還沒<開>口。\")"
   ]
  },
  {
   "cell_type": "code",
   "execution_count": 45,
   "id": "b5261a29-ad20-41c6-a235-4bcac6f4f4b5",
   "metadata": {},
   "outputs": [
    {
     "data": {
      "text/plain": [
       "'Dfa。表事情尚未完成。'"
      ]
     },
     "execution_count": 45,
     "metadata": {},
     "output_type": "execute_result"
    }
   ],
   "source": [
    "gen(\"他<還>沒開口。\")"
   ]
  },
  {
   "cell_type": "code",
   "execution_count": 52,
   "id": "e8ca46b4-ad31-4f70-a2a6-293a43266efe",
   "metadata": {},
   "outputs": [
    {
     "data": {
      "text/plain": [
       "'VJ。顯現出後述事物或特質。'"
      ]
     },
     "execution_count": 52,
     "metadata": {},
     "output_type": "execute_result"
    }
   ],
   "source": [
    "gen(\"這<彰顯>出重要的價值。\")"
   ]
  },
  {
   "cell_type": "code",
   "execution_count": 53,
   "id": "e3947ea3-4389-4365-9b3e-1344971014ba",
   "metadata": {},
   "outputs": [
    {
     "data": {
      "text/plain": [
       "[]"
      ]
     },
     "execution_count": 53,
     "metadata": {},
     "output_type": "execute_result"
    }
   ],
   "source": [
    "cwn.find_lemma(\"彰顯\")"
   ]
  },
  {
   "cell_type": "code",
   "execution_count": null,
   "id": "6bbcb5a1-38cd-4dd0-aafe-1169eacc2113",
   "metadata": {},
   "outputs": [],
   "source": []
  }
 ],
 "metadata": {
  "kernelspec": {
   "display_name": "Python 3 (ipykernel)",
   "language": "python",
   "name": "python3"
  },
  "language_info": {
   "codemirror_mode": {
    "name": "ipython",
    "version": 3
   },
   "file_extension": ".py",
   "mimetype": "text/x-python",
   "name": "python",
   "nbconvert_exporter": "python",
   "pygments_lexer": "ipython3",
   "version": "3.10.2"
  }
 },
 "nbformat": 4,
 "nbformat_minor": 5
}
