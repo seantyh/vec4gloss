{
 "cells": [
  {
   "cell_type": "code",
   "execution_count": 1,
   "id": "c94931d1-f1ca-4d27-9c77-f5104577de9a",
   "metadata": {},
   "outputs": [],
   "source": [
    "%load_ext autoreload\n",
    "%autoreload 2\n",
    "import sys\n",
    "if \"../src\" not in sys.path:\n",
    "    sys.path.append(\"../src\")"
   ]
  },
  {
   "cell_type": "code",
   "execution_count": 2,
   "id": "cd343b44-d7ab-4d1c-8071-6fb03ed81d38",
   "metadata": {},
   "outputs": [],
   "source": [
    "import re\n",
    "import pickle\n",
    "import json\n",
    "from pathlib import Path\n",
    "from typing import List, Tuple, Dict\n",
    "\n",
    "import numpy as np\n",
    "import torch\n",
    "import pandas as pd\n",
    "from tqdm.auto import tqdm\n",
    "\n",
    "import datasets\n",
    "from transformers import MT5TokenizerFast\n",
    "\n",
    "from CwnGraph import CwnImage\n",
    "import vec4gloss\n",
    "from vec4gloss import check_hashes\n",
    "from vec4gloss import Vec4GlossModel\n",
    "\n",
    "from torchmetrics.functional.text.rouge import rouge_score\n",
    "from torchmetrics.functional import bleu_score\n",
    "from nltk.translate.meteor_score import single_meteor_score"
   ]
  },
  {
   "cell_type": "markdown",
   "id": "da301f82-a352-4be1-a8ca-7fb9f0851794",
   "metadata": {},
   "source": [
    "## Data dependencies\n",
    "Note: the `defgen_dataset_cwn\\train` is only used in checking data hash, the 'test' split is used in the notebook itself.\n",
    "```\n",
    "10.11 => ../data/defgen_dataset_cwn/train/dataset.arrow 65a56d\n",
    "20.21../data/models\\vec4gloss-defgen-220629-1250\\pytorch_model.bin 9f894f\n",
    "```"
   ]
  },
  {
   "cell_type": "code",
   "execution_count": 3,
   "id": "e8985c75-0f0b-4838-a48d-8ff3f3b8b5cc",
   "metadata": {},
   "outputs": [
    {
     "name": "stdout",
     "output_type": "stream",
     "text": [
      "../data/defgen_dataset_cwn/train/dataset.arrow 65a56d\n",
      "../data/models/vec4gloss-defgen-220629-1250/pytorch_model.bin 9f894f\n"
     ]
    }
   ],
   "source": [
    "vec4gloss_model_dir = \"../data/models/vec4gloss-defgen-220629-1250\"\n",
    "\n",
    "_ = check_hashes([    \n",
    "    \"../data/defgen_dataset_cwn/train/dataset.arrow\",    \n",
    "    vec4gloss_model_dir + \"/pytorch_model.bin\",\n",
    "])"
   ]
  },
  {
   "cell_type": "markdown",
   "id": "bd36dd2f-f973-4433-bcec-aaaef4186ea3",
   "metadata": {},
   "source": [
    "## Loading resources"
   ]
  },
  {
   "cell_type": "code",
   "execution_count": 4,
   "id": "d8f09064-ce86-462e-9be9-3e7519d57e23",
   "metadata": {},
   "outputs": [],
   "source": [
    "cwn = CwnImage.load(\"v.2022.06.21\")"
   ]
  },
  {
   "cell_type": "code",
   "execution_count": 5,
   "id": "1e7f513b-92b9-40d2-8a17-e34a9370c69c",
   "metadata": {},
   "outputs": [
    {
     "name": "stdout",
     "output_type": "stream",
     "text": [
      "Using cuda\n"
     ]
    }
   ],
   "source": [
    "use_cuda = torch.cuda.is_available() and \"GeForce\" not in torch.cuda.get_device_name()\n",
    "device = \"cuda\" if use_cuda else \"cpu\"    \n",
    "print(\"Using\", device)\n",
    "\n",
    "ds_defgen = datasets.load_from_disk(\"../data/defgen_dataset_cwn\")\n",
    "model = Vec4GlossModel.from_pretrained(vec4gloss_model_dir).to(device)\n",
    "tokenizer = MT5TokenizerFast.from_pretrained(vec4gloss_model_dir)\n",
    "gen = vec4gloss.gen_func(tokenizer, model)"
   ]
  },
  {
   "cell_type": "markdown",
   "id": "321eafbb-3464-456b-bfe1-779a14936642",
   "metadata": {},
   "source": [
    "## Load evaldataset"
   ]
  },
  {
   "cell_type": "code",
   "execution_count": 6,
   "id": "3de602b2-b3cf-464e-9b99-6249321713dd",
   "metadata": {},
   "outputs": [
    {
     "data": {
      "text/plain": [
       "{'cwnid': '05170501',\n",
       " 'src': '在妳出國前哭著要我等妳回來，我也<答應>過妳一定會等妳。',\n",
       " 'tgt': 'VE。同意他人的要求。'}"
      ]
     },
     "execution_count": 6,
     "metadata": {},
     "output_type": "execute_result"
    }
   ],
   "source": [
    "ds_defgen[\"test\"][0]"
   ]
  },
  {
   "cell_type": "code",
   "execution_count": 7,
   "id": "3f39fbcb-3a7c-4f73-9c67-b7c8a6271f48",
   "metadata": {},
   "outputs": [],
   "source": [
    "def simplify_pos(pos):    \n",
    "    pos = \",\".join(x \n",
    "                   for x in pos.split(\",\")\n",
    "                   if x!=\"nom\")\n",
    "    if pos and pos == \"Nb\":\n",
    "        return \"Nb\" # ignore\n",
    "    elif pos and pos[0] in \"DVN\":\n",
    "        return pos[0]   \n",
    "    else:\n",
    "        return \"O\"    "
   ]
  },
  {
   "cell_type": "markdown",
   "id": "39c0d3da-8915-4cc0-80da-cc770fb62040",
   "metadata": {},
   "source": [
    "## Check POS distributions"
   ]
  },
  {
   "cell_type": "code",
   "execution_count": 8,
   "id": "7dffe205-4363-41be-9b71-604f0afea051",
   "metadata": {},
   "outputs": [
    {
     "data": {
      "application/vnd.jupyter.widget-view+json": {
       "model_id": "c07d558e9e4e41708507d55bd9534676",
       "version_major": 2,
       "version_minor": 0
      },
      "text/plain": [
       "  0%|          | 0/8553 [00:00<?, ?it/s]"
      ]
     },
     "metadata": {},
     "output_type": "display_data"
    }
   ],
   "source": [
    "pos_results = []\n",
    "for item_x in tqdm(ds_defgen[\"test\"]):       \n",
    "    sense_x = cwn.from_sense_id(item_x[\"cwnid\"])    \n",
    "    entry = {\"cwnid\": sense_x.id, \n",
    "             \"word\": sense_x.head_word,\n",
    "             \"pos\": simplify_pos(sense_x.pos)}\n",
    "    pos_results.append(entry)    "
   ]
  },
  {
   "cell_type": "code",
   "execution_count": 9,
   "id": "acc812e7-eadb-423a-b119-76bb3736b6b4",
   "metadata": {},
   "outputs": [
    {
     "data": {
      "text/plain": [
       "Counter({'V': 4376, 'D': 432, 'Nb': 414, 'O': 530, 'N': 2801})"
      ]
     },
     "execution_count": 9,
     "metadata": {},
     "output_type": "execute_result"
    }
   ],
   "source": [
    "from collections import Counter\n",
    "Counter(x[\"pos\"] for x in pos_results)"
   ]
  },
  {
   "cell_type": "markdown",
   "id": "1ae31f76-1c91-421f-8f92-523cd3eade1b",
   "metadata": {},
   "source": [
    "## Calculate scores"
   ]
  },
  {
   "cell_type": "code",
   "execution_count": 10,
   "id": "044ad696-d040-40ee-a6ea-fd685614dbde",
   "metadata": {},
   "outputs": [
    {
     "data": {
      "application/vnd.jupyter.widget-view+json": {
       "model_id": "5a3563ff33234dc4a80830551f34baa6",
       "version_major": 2,
       "version_minor": 0
      },
      "text/plain": [
       "  0%|          | 0/8553 [00:00<?, ?it/s]"
      ]
     },
     "metadata": {},
     "output_type": "display_data"
    }
   ],
   "source": [
    "eval_results = []\n",
    "for item_x in tqdm(ds_defgen[\"test\"]):\n",
    "    try:\n",
    "        gendef = \" \".join(list(gen(item_x[\"src\"])))\n",
    "    except Exception as ex:\n",
    "        print(item_x[\"cwnid\"], str(ex))\n",
    "    refdef = \" \".join(item_x[\"tgt\"])    \n",
    "    score_bleu = bleu_score(gendef, [refdef]).item()\n",
    "    score_rouge = rouge_score(gendef, refdef, rouge_keys=(\"rougeL\"))\n",
    "    score_meteor = single_meteor_score(gendef.split(), refdef.split())    \n",
    "    \n",
    "    sense_x = cwn.from_sense_id(item_x[\"cwnid\"])    \n",
    "    entry = {\"cwnid\": sense_x.id, \n",
    "             \"word\": sense_x.head_word,\n",
    "             \"pos\": simplify_pos(sense_x.pos)}\n",
    "    scores = {k: v.item() for k,v in score_rouge.items()}\n",
    "    scores.update({\"bleu\": score_bleu, \"meteor\": score_meteor})\n",
    "    entry.update(**scores)\n",
    "    eval_results.append(entry)    "
   ]
  },
  {
   "cell_type": "code",
   "execution_count": 18,
   "id": "72e50d2f-c1c0-4c3d-9ced-110ebfc45c3d",
   "metadata": {},
   "outputs": [
    {
     "data": {
      "text/html": [
       "<div>\n",
       "<style scoped>\n",
       "    .dataframe tbody tr th:only-of-type {\n",
       "        vertical-align: middle;\n",
       "    }\n",
       "\n",
       "    .dataframe tbody tr th {\n",
       "        vertical-align: top;\n",
       "    }\n",
       "\n",
       "    .dataframe thead th {\n",
       "        text-align: right;\n",
       "    }\n",
       "</style>\n",
       "<table border=\"1\" class=\"dataframe\">\n",
       "  <thead>\n",
       "    <tr style=\"text-align: right;\">\n",
       "      <th></th>\n",
       "      <th>n_sample</th>\n",
       "      <th>bleu_mean</th>\n",
       "      <th>meteor_mean</th>\n",
       "      <th>rouge_mean</th>\n",
       "      <th>bleu_se</th>\n",
       "      <th>meteor_se</th>\n",
       "      <th>rouge_se</th>\n",
       "    </tr>\n",
       "    <tr>\n",
       "      <th>pos</th>\n",
       "      <th></th>\n",
       "      <th></th>\n",
       "      <th></th>\n",
       "      <th></th>\n",
       "      <th></th>\n",
       "      <th></th>\n",
       "      <th></th>\n",
       "    </tr>\n",
       "  </thead>\n",
       "  <tbody>\n",
       "    <tr>\n",
       "      <th>D</th>\n",
       "      <td>432</td>\n",
       "      <td>0.408252</td>\n",
       "      <td>0.616829</td>\n",
       "      <td>0.815719</td>\n",
       "      <td>0.021168</td>\n",
       "      <td>0.015840</td>\n",
       "      <td>0.018018</td>\n",
       "    </tr>\n",
       "    <tr>\n",
       "      <th>N</th>\n",
       "      <td>2801</td>\n",
       "      <td>0.351040</td>\n",
       "      <td>0.586241</td>\n",
       "      <td>0.914749</td>\n",
       "      <td>0.007475</td>\n",
       "      <td>0.005587</td>\n",
       "      <td>0.004216</td>\n",
       "    </tr>\n",
       "    <tr>\n",
       "      <th>Nb</th>\n",
       "      <td>414</td>\n",
       "      <td>0.632856</td>\n",
       "      <td>0.742545</td>\n",
       "      <td>0.888524</td>\n",
       "      <td>0.021533</td>\n",
       "      <td>0.016441</td>\n",
       "      <td>0.012069</td>\n",
       "    </tr>\n",
       "    <tr>\n",
       "      <th>O</th>\n",
       "      <td>530</td>\n",
       "      <td>0.410067</td>\n",
       "      <td>0.625508</td>\n",
       "      <td>0.757303</td>\n",
       "      <td>0.016867</td>\n",
       "      <td>0.013446</td>\n",
       "      <td>0.017195</td>\n",
       "    </tr>\n",
       "    <tr>\n",
       "      <th>V</th>\n",
       "      <td>4376</td>\n",
       "      <td>0.434996</td>\n",
       "      <td>0.625141</td>\n",
       "      <td>0.874232</td>\n",
       "      <td>0.006130</td>\n",
       "      <td>0.004625</td>\n",
       "      <td>0.003787</td>\n",
       "    </tr>\n",
       "  </tbody>\n",
       "</table>\n",
       "</div>"
      ],
      "text/plain": [
       "     n_sample  bleu_mean  meteor_mean  rouge_mean   bleu_se  meteor_se  \\\n",
       "pos                                                                      \n",
       "D         432   0.408252     0.616829    0.815719  0.021168   0.015840   \n",
       "N        2801   0.351040     0.586241    0.914749  0.007475   0.005587   \n",
       "Nb        414   0.632856     0.742545    0.888524  0.021533   0.016441   \n",
       "O         530   0.410067     0.625508    0.757303  0.016867   0.013446   \n",
       "V        4376   0.434996     0.625141    0.874232  0.006130   0.004625   \n",
       "\n",
       "     rouge_se  \n",
       "pos            \n",
       "D    0.018018  \n",
       "N    0.004216  \n",
       "Nb   0.012069  \n",
       "O    0.017195  \n",
       "V    0.003787  "
      ]
     },
     "execution_count": 18,
     "metadata": {},
     "output_type": "execute_result"
    }
   ],
   "source": [
    "se = lambda x: np.std(x, ddof=1)/np.sqrt(len(x))\n",
    "eval_results_df = pd.DataFrame.from_records(eval_results)\n",
    "eval_results_df.groupby(\"pos\")\\\n",
    "    .agg(\n",
    "        n_sample = (\"cwnid\", len),\n",
    "        bleu_mean=(\"bleu\", \"mean\"),\n",
    "        meteor_mean=(\"meteor\", \"mean\"),\n",
    "        rouge_mean=(\"rougeL_fmeasure\", \"mean\"),\n",
    "        bleu_se=(\"bleu\", se),\n",
    "        meteor_se=(\"meteor\", se),\n",
    "        rouge_se=(\"rougeL_fmeasure\", se)\n",
    "    )"
   ]
  },
  {
   "cell_type": "code",
   "execution_count": 19,
   "id": "7f6c9b65-76ba-4d96-b013-8f80f2b3fb54",
   "metadata": {},
   "outputs": [
    {
     "data": {
      "text/plain": [
       "(8553, 8)"
      ]
     },
     "execution_count": 19,
     "metadata": {},
     "output_type": "execute_result"
    }
   ],
   "source": [
    "eval_results_df.shape"
   ]
  },
  {
   "cell_type": "code",
   "execution_count": 20,
   "id": "d0f66849-226a-4f60-9300-3a977114c1f4",
   "metadata": {},
   "outputs": [],
   "source": [
    "eval_out_path = \"../data/auto_metrics.csv\"\n",
    "eval_results_df.to_csv(eval_out_path, index=False)"
   ]
  },
  {
   "cell_type": "markdown",
   "id": "e30f87c3-54f3-44a9-a40c-f60110fdbabb",
   "metadata": {},
   "source": [
    "## Output Hashes"
   ]
  },
  {
   "cell_type": "markdown",
   "id": "5ab2b574-1ecb-49c2-b505-ba8749fc3b18",
   "metadata": {},
   "source": [
    "```\n",
    "../data/auto_metrics.csv 7930a0\n",
    "```"
   ]
  },
  {
   "cell_type": "code",
   "execution_count": 21,
   "id": "a13390be-41b9-4950-9550-edcf1d9ee857",
   "metadata": {},
   "outputs": [
    {
     "name": "stdout",
     "output_type": "stream",
     "text": [
      "../data/auto_metrics.csv 7930a0\n"
     ]
    }
   ],
   "source": [
    "_ = check_hashes([eval_out_path])"
   ]
  },
  {
   "cell_type": "code",
   "execution_count": null,
   "id": "471b091a-edc1-4cb1-9801-6b99b9c70d56",
   "metadata": {},
   "outputs": [],
   "source": []
  }
 ],
 "metadata": {
  "kernelspec": {
   "display_name": "Python 3 (ipykernel)",
   "language": "python",
   "name": "python3"
  },
  "language_info": {
   "codemirror_mode": {
    "name": "ipython",
    "version": 3
   },
   "file_extension": ".py",
   "mimetype": "text/x-python",
   "name": "python",
   "nbconvert_exporter": "python",
   "pygments_lexer": "ipython3",
   "version": "3.10.2"
  }
 },
 "nbformat": 4,
 "nbformat_minor": 5
}
