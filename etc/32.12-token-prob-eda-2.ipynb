{
 "cells": [
  {
   "cell_type": "markdown",
   "id": "2fdbc0e3-af53-4963-9c26-ed3b4ff2f77d",
   "metadata": {},
   "source": [
    "# Token prob EDA - 2"
   ]
  },
  {
   "cell_type": "code",
   "execution_count": 1,
   "id": "3cc1ed3d-fdce-4214-81f4-39e8dd6d5ed0",
   "metadata": {},
   "outputs": [],
   "source": [
    "%load_ext autoreload\n",
    "%autoreload 2\n",
    "import sys\n",
    "if \"../src\" not in sys.path:\n",
    "    sys.path.append(\"../src\")"
   ]
  },
  {
   "cell_type": "code",
   "execution_count": 22,
   "id": "80054f97-ee91-440c-8cd0-bbcc2104ff7a",
   "metadata": {},
   "outputs": [],
   "source": [
    "import re\n",
    "import pickle\n",
    "import json\n",
    "import random\n",
    "from itertools import islice\n",
    "from pathlib import Path\n",
    "from dataclasses import dataclass\n",
    "from typing import List, Tuple, Union, Dict\n",
    "\n",
    "import numpy as np\n",
    "import pandas as pd\n",
    "import matplotlib.pyplot as plt\n",
    "from tqdm.auto import tqdm\n",
    "\n",
    "import vec4gloss\n",
    "from vec4gloss import check_hashes    \n",
    "from vec4gloss import (\n",
    "    DepWinOutput, AnnotDepInfo,\n",
    "    AnnotFrameInfo, NounFrameInfo\n",
    ")"
   ]
  },
  {
   "cell_type": "markdown",
   "id": "4b9ed9c1-1ad1-4d6d-92c4-5954ce25706a",
   "metadata": {},
   "source": [
    "## Data dependencies"
   ]
  },
  {
   "cell_type": "markdown",
   "id": "d03d1af6-738a-43e2-9f51-5b62617f03f8",
   "metadata": {},
   "source": [
    "```\n",
    "30.23 => ..\\data\\annot_frameinfo_list.pkl f25b87\n",
    "30.26 => ..\\data\\nouns_vec4gloss_frameinfo_list.pkl 9ad739\n",
    "```"
   ]
  },
  {
   "cell_type": "code",
   "execution_count": 3,
   "id": "828add04-4519-4f24-bd17-d3af20888ded",
   "metadata": {},
   "outputs": [
    {
     "name": "stdout",
     "output_type": "stream",
     "text": [
      "..\\data\\annot_frameinfo_list.pkl f25b87\n",
      "..\\data\\nouns_vec4gloss_frameinfo_list.pkl 9ad739\n"
     ]
    }
   ],
   "source": [
    "annot_info_path = \"../data/annot_frameinfo_list.pkl\"\n",
    "noun_info_path = \"../data/nouns_vec4gloss_frameinfo_list.pkl\"\n",
    "_ = check_hashes([annot_info_path, noun_info_path])"
   ]
  },
  {
   "cell_type": "markdown",
   "id": "5d80b1e4-1d5d-44bb-a833-3fcc84effb9b",
   "metadata": {},
   "source": [
    "## Load resources"
   ]
  },
  {
   "cell_type": "code",
   "execution_count": 4,
   "id": "9e5052c1-1dfe-42ac-bdbd-0f293a9da0a8",
   "metadata": {},
   "outputs": [],
   "source": [
    "annot_infos = pickle.loads(Path(annot_info_path).read_bytes())\n",
    "noun_infos = pickle.loads(Path(noun_info_path).read_bytes())"
   ]
  },
  {
   "cell_type": "code",
   "execution_count": 5,
   "id": "1f0b5b9d-1cdf-4133-a1f6-82280d018d6f",
   "metadata": {},
   "outputs": [
    {
     "data": {
      "text/plain": [
       "(244, 20)"
      ]
     },
     "execution_count": 5,
     "metadata": {},
     "output_type": "execute_result"
    }
   ],
   "source": [
    "len(annot_infos), len(noun_infos)"
   ]
  },
  {
   "cell_type": "code",
   "execution_count": 6,
   "id": "f3930268-6aff-4af9-8909-7edc815c4acd",
   "metadata": {},
   "outputs": [
    {
     "data": {
      "text/plain": [
       "(AnnotFrameInfo(annot_frame=AnnotFrame(sense_id=5071201, POS='D', head_word='實地', definition='表親身體驗後述事件。', event_role='patient ', schemas=[Scheme(type='--', start=0, end=1), Scheme(type='mod', start=1, end=3), Scheme(type='action', start=3, end=5), Scheme(type='event', start=5, end=9)]), dep_info=[<AnnotDepInfo (2) 1.00: ( 3- 3) [ 0.00/1.00] 　表 / >, <AnnotDepInfo (3) 0.00: ( 3- 4) [ 0.56/0.00] 　親 / 表>, <AnnotDepInfo (4) 0.91: ( 3- 5) [ 2.32/0.39] 　身 / 表親>, <AnnotDepInfo (5) 0.02: ( 3- 4) [ 1.32/0.01] 　體 / 表>, <AnnotDepInfo (6) 1.00: ( 3- 5) [24604.15/0.00] 　驗 / 表親>, <AnnotDepInfo (7) 0.00: ( 3- 8) [43.86/0.00] 　後 / 表親身體驗>, <AnnotDepInfo (8) 0.02: ( 3- 4) [ 3.26/0.01] 　述 / 表>, <AnnotDepInfo (9) 0.38: ( 7-10) [39.18/0.01] 事件 / 驗後述>]),\n",
       " NounFrameInfo(noun_entry={'cwnid': '09167302', 'src': '昨天他派宦官已經暗示過張延賞，今天將由張延賞來挑主<樑>力促此事，但韓卻看破他的企圖，一上來便釜底抽薪，打亂了他地部署。', 'tgt': 'Na。比喻在特定事件中最重要的角色。', 'pos': 'N', 'target': '樑', 'fillers': ['學院', '室友', '弟兄'], 'example': '昨天他派宦官已經暗示過張延賞，今天將由張延賞來挑主<樑>力促此事，但韓卻看破他的企圖，一上來便釜底抽薪，打亂了他地部署。', 'from': 'vec4gloss', 'definition': '比喻在特定事件中最重要的角色。', 'item_id': 'N-06'}, dep_info=[<AnnotDepInfo (2) 1.00: ( 3- 3) [ 0.00/1.00] 　比 / >, <AnnotDepInfo (3) 1.00: ( 3- 4) [ 1.00/1.00] 　喻 / 比>, <AnnotDepInfo (4) 0.29: ( 3- 5) [ 1.64/0.18] 　在 / 比喻>, <AnnotDepInfo (5) 0.90: ( 3- 5) [ 1.13/0.80] 特定 / 比喻>, <AnnotDepInfo (6) 0.77: ( 4- 7) [12.52/0.06] 事件 / 喻在特定>, <AnnotDepInfo (7) 0.99: ( 3- 7) [11.05/0.09] 　中 / 比喻在特定>, <AnnotDepInfo (8) 0.84: ( 3- 8) [11898.36/0.00] 最重要的 / 比喻在特定事件>, <AnnotDepInfo (9) 0.99: ( 3- 9) [4268.21/0.00] 角色 / 比喻在特定事件中>]))"
      ]
     },
     "execution_count": 6,
     "metadata": {},
     "output_type": "execute_result"
    }
   ],
   "source": [
    "annot_infos[1], noun_infos[1]"
   ]
  },
  {
   "cell_type": "code",
   "execution_count": 61,
   "id": "f9d0baaa-800d-4307-9ee6-54c5ba440957",
   "metadata": {},
   "outputs": [],
   "source": [
    "class TokenParam:\n",
    "    def __init__(self, token_dep_info: AnnotDepInfo):\n",
    "        self.dep_info = token_dep_info\n",
    "        self.full_prob = token_dep_info.full_token_prob()\n",
    "        self.masked_prob = token_dep_info.fullmasked_token_prob()\n",
    "        self.nodep_prob = token_dep_info.nodep_token_prob()\n",
    "    \n",
    "    def __repr__(self):\n",
    "        return \"<TokenLambda {:}: p={:.1f}, μ={:.1f}, λ={:.1f}>\".format(\n",
    "            self.token(),\n",
    "            self.get_token_prob(),\n",
    "            self.get_mu(),\n",
    "            self.get_lambda()\n",
    "        )\n",
    "    \n",
    "    def token(self):\n",
    "        return self.dep_info.dep_wins[0].token_text\n",
    "    \n",
    "    def get_mu(self):\n",
    "        return -np.log(self.masked_prob / self.full_prob)\n",
    "    \n",
    "    def get_lambda(self):\n",
    "        return -np.log(self.nodep_prob / self.full_prob)\n",
    "    \n",
    "    def get_token_prob(self):\n",
    "        return self.full_prob"
   ]
  },
  {
   "cell_type": "markdown",
   "id": "0e0e4ff6-ccb4-4d1e-8ec5-9a9fad62d59d",
   "metadata": {},
   "source": [
    "## Compute token param by each token"
   ]
  },
  {
   "cell_type": "code",
   "execution_count": 18,
   "id": "aa6722d5-877a-40d7-89b1-c8510e8040fd",
   "metadata": {},
   "outputs": [],
   "source": [
    "TokenStr = str\n",
    "def compute_token_params_flatten(\n",
    "        frame_infos:Union[List[AnnotFrameInfo], List[NounFrameInfo]]\n",
    "        ) -> List[Tuple[TokenStr, int, float, float, float]]:\n",
    "    params = []\n",
    "    for frame_x in frame_infos:\n",
    "        for token_info in frame_x.dep_info:\n",
    "            token_param = TokenParam(token_info)\n",
    "            token = token_param.token()\n",
    "            tok_idx = token_info.tgt_idx\n",
    "            p_prob = token_param.get_token_prob()\n",
    "            p_mu = token_param.get_mu()\n",
    "            p_lambda = token_param.get_lambda()\n",
    "            params.append((token, tok_idx, p_prob, p_mu, p_lambda))            \n",
    "            \n",
    "    return params"
   ]
  },
  {
   "cell_type": "code",
   "execution_count": 41,
   "id": "a0b90b06-569e-49b2-861f-cc38ae2b0edd",
   "metadata": {},
   "outputs": [],
   "source": [
    "import random\n",
    "rng = random.Random(34)\n",
    "annot_info_samples = annot_infos[:]\n",
    "rng.shuffle(annot_info_samples)\n",
    "adv_token_flattens = compute_token_params_flatten(annot_info_samples[:20])\n",
    "noun_token_flattens = compute_token_params_flatten(noun_infos)"
   ]
  },
  {
   "cell_type": "code",
   "execution_count": 42,
   "id": "63ac5e59-99aa-489f-b2ad-fde8be1c4d7b",
   "metadata": {},
   "outputs": [],
   "source": [
    "flatten_cols = \"tok,pos,prob,mu,lambda\"\n",
    "adv_flatten_df = pd.DataFrame.from_records(adv_token_flattens, \n",
    "                                        columns=flatten_cols.split(\",\"))\n",
    "noun_flatten_df = pd.DataFrame.from_records(noun_token_flattens, \n",
    "                                        columns=flatten_cols.split(\",\"))"
   ]
  },
  {
   "cell_type": "code",
   "execution_count": 43,
   "id": "5912aa1c-0f68-480c-befd-399f12f921b8",
   "metadata": {},
   "outputs": [
    {
     "data": {
      "text/plain": [
       "[('表', 3, 0.9955127835273743, -0.0, -0.0),\n",
       " ('事件', 4, 0.029469745233654976, 0.5441726936537665, 0.5441726936537665),\n",
       " ('的', 5, 0.024639872834086418, -1.2442957616650057, 0.23836038205645038),\n",
       " ('規模', 6, 4.915602403343655e-05, 4.561587074751502, 5.316292947862595),\n",
       " ('或', 7, 0.7812301516532898, 3.4306012241885013, 3.5815861727293097),\n",
       " ('程度', 8, 0.9963523149490356, 7.891175366070348, 9.824569094855907),\n",
       " ('高', 9, 0.08984841406345367, -1.4972782176589667, 2.619336582856843),\n",
       " ('表', 2, 0.9858243465423584, -0.0, -0.0),\n",
       " ('事件', 3, 0.0067185303196311, 0.06990102680795865, 0.06990102680795865),\n",
       " ('有可能', 4, 0.014280990697443485, 3.750382715974653, 3.750382715974653)]"
      ]
     },
     "execution_count": 43,
     "metadata": {},
     "output_type": "execute_result"
    }
   ],
   "source": [
    "adv_token_flattens[:10]"
   ]
  },
  {
   "cell_type": "code",
   "execution_count": 44,
   "id": "b336fd3a-00b2-4284-adc6-21a69f10dfbb",
   "metadata": {},
   "outputs": [
    {
     "data": {
      "text/plain": [
       "pos       9.666667\n",
       "prob      0.980958\n",
       "mu        3.981328\n",
       "lambda    6.284941\n",
       "dtype: float64"
      ]
     },
     "execution_count": 44,
     "metadata": {},
     "output_type": "execute_result"
    }
   ],
   "source": [
    "adv_flatten_df.query(\"prob>0.9 & pos>5\").mean(numeric_only=True)"
   ]
  },
  {
   "cell_type": "code",
   "execution_count": 45,
   "id": "691346d9-51e6-4d6f-b577-bd6850fe10fc",
   "metadata": {},
   "outputs": [
    {
     "data": {
      "text/plain": [
       "pos       11.470588\n",
       "prob       0.987885\n",
       "mu         3.344628\n",
       "lambda     5.138210\n",
       "dtype: float64"
      ]
     },
     "execution_count": 45,
     "metadata": {},
     "output_type": "execute_result"
    }
   ],
   "source": [
    "noun_flatten_df.query(\"prob>0.9 & pos>5\").mean(numeric_only=True)"
   ]
  },
  {
   "cell_type": "code",
   "execution_count": 46,
   "id": "d085914c-437f-49d3-8cc3-cc95fb9a09d3",
   "metadata": {},
   "outputs": [
    {
     "data": {
      "text/plain": [
       "<AxesSubplot:ylabel='Density'>"
      ]
     },
     "execution_count": 46,
     "metadata": {},
     "output_type": "execute_result"
    },
    {
     "data": {
      "image/png": "[encoded data removed]",
      "text/plain": [
       "<Figure size 432x288 with 1 Axes>"
      ]
     },
     "metadata": {
      "needs_background": "light"
     },
     "output_type": "display_data"
    }
   ],
   "source": [
    "adv_flatten_df.query(\"prob>0.9 & pos>5\").mu.plot.kde()"
   ]
  },
  {
   "cell_type": "code",
   "execution_count": 47,
   "id": "a79d7847-6dca-46f6-a929-1432ccc56344",
   "metadata": {},
   "outputs": [
    {
     "data": {
      "text/plain": [
       "<AxesSubplot:ylabel='Density'>"
      ]
     },
     "execution_count": 47,
     "metadata": {},
     "output_type": "execute_result"
    },
    {
     "data": {
      "image/png": "[encoded data removed]",
      "text/plain": [
       "<Figure size 432x288 with 1 Axes>"
      ]
     },
     "metadata": {
      "needs_background": "light"
     },
     "output_type": "display_data"
    }
   ],
   "source": [
    "noun_flatten_df.query(\"prob>0.9 & pos>5\").mu.plot.kde()"
   ]
  },
  {
   "cell_type": "code",
   "execution_count": 62,
   "id": "95b44a14-534f-4e42-af30-dcf423f64e56",
   "metadata": {},
   "outputs": [],
   "source": [
    "token_params = [TokenParam(x) for x in noun_infos[10].dep_info]"
   ]
  },
  {
   "cell_type": "code",
   "execution_count": 65,
   "id": "b726c57e-9705-4b2f-b1a8-f21d69e48692",
   "metadata": {},
   "outputs": [
    {
     "data": {
      "text/plain": [
       "NounFrameInfo(noun_entry={'cwnid': '10010601', 'src': '<異質性>團隊的重要性，一個團隊的成員如果都是不同特質的人所組成，其產生的團隊績效將最大的。', 'tgt': 'Na。特定對象可與其他同類對象顯現出明顯差異並有區辨性的性質。', 'pos': 'N', 'target': '異質性', 'fillers': ['之內', '反應', '素'], 'example': '<異質性>團隊的重要性，一個團隊的成員如果都是不同特質的人所組成，其產生的團隊績效將最大的。', 'from': 'vec4gloss', 'definition': '形容具有多個性質或性質的。', 'item_id': 'N-15'}, dep_info=[<AnnotDepInfo (2) 0.01: ( 3- 3) [ 0.00/0.01] 特定 / >, <AnnotDepInfo (3) 0.69: ( 3- 4) [ 0.88/0.78] 　對 / 特定>, <AnnotDepInfo (4) 1.00: ( 3- 4) [5195.16/0.00] 　象 / 特定>, <AnnotDepInfo (5) 0.00: ( 3- 5) [3013.39/0.00] 　可 / 特定對>, <AnnotDepInfo (6) 0.02: ( 3- 7) [ 4.78/0.00] 　與 / 特定對象可>, <AnnotDepInfo (7) 0.73: ( 3- 7) [18.80/0.04] 其他 / 特定對象可>, <AnnotDepInfo (8) 0.59: ( 7- 9) [ 4.65/0.13] 　同 / 與其他>, <AnnotDepInfo (9) 1.00: ( 7-10) [ 1.06/0.95] 　類 / 與其他同>, <AnnotDepInfo (10) 1.00: ( 6-11) [83414.00/0.00] 　對 / 可與其他同類>, <AnnotDepInfo (11) 1.00: ( 7-12) [331.03/0.00] 　象 / 與其他同類對>, <AnnotDepInfo (12) 0.00: ( 6- 7) [55.38/0.00] 　顯 / 可>, <AnnotDepInfo (13) 0.74: (11-14) [157.61/0.00] 　現 / 對象顯>, <AnnotDepInfo (14) 0.93: (11-15) [17029.61/0.00] 　出 / 對象顯現>, <AnnotDepInfo (15) 0.00: ( 9-16) [129.84/0.00] 　明 / 同類對象顯現出>, <AnnotDepInfo (16) 1.00: (10-15) [ 4.03/0.25] 　顯 / 類對象顯現>, <AnnotDepInfo (17) 0.83: (13-18) [65839.84/0.00] 　差 / 顯現出明顯>, <AnnotDepInfo (18) 1.00: (12-18) [ 6.27/0.16] 　異 / 象顯現出明顯>, <AnnotDepInfo (19) 0.01: (18-20) [12373.41/0.00] 　並 / 差異>, <AnnotDepInfo (20) 0.10: (14-20) [ 8.97/0.01] 　有 / 現出明顯差異>, <AnnotDepInfo (21) 0.03: (18-22) [148.42/0.00] 　區 / 差異並有>, <AnnotDepInfo (22) 0.06: (16-23) [373.11/0.00] 　辨 / 明顯差異並有區>, <AnnotDepInfo (23) 0.77: (21-24) [17183.74/0.00] 性的 / 有區辨>, <AnnotDepInfo (24) 0.51: (18-23) [ 1.93/0.27] 性質 / 差異並有區>])"
      ]
     },
     "execution_count": 65,
     "metadata": {},
     "output_type": "execute_result"
    }
   ],
   "source": [
    "noun_infos[10]"
   ]
  },
  {
   "cell_type": "code",
   "execution_count": 63,
   "id": "f0fa3f49-d804-472c-bb3f-05ff997268f4",
   "metadata": {},
   "outputs": [
    {
     "data": {
      "text/plain": [
       "[<TokenLambda 特定: p=0.0, μ=-0.0, λ=-0.0>,\n",
       " <TokenLambda 對: p=0.7, μ=-0.1, λ=-0.1>,\n",
       " <TokenLambda 象: p=1.0, μ=8.1, λ=8.6>,\n",
       " <TokenLambda 可: p=0.0, μ=3.8, λ=8.0>,\n",
       " <TokenLambda 與: p=0.0, μ=1.6, λ=1.6>,\n",
       " <TokenLambda 其他: p=0.7, μ=2.7, λ=2.9>,\n",
       " <TokenLambda 同: p=0.6, μ=0.3, λ=1.5>,\n",
       " <TokenLambda 類: p=1.0, μ=0.0, λ=0.1>,\n",
       " <TokenLambda 對: p=1.0, μ=8.1, λ=11.3>,\n",
       " <TokenLambda 象: p=1.0, μ=0.0, λ=5.8>,\n",
       " <TokenLambda 顯: p=0.0, μ=1.1, λ=4.0>,\n",
       " <TokenLambda 現: p=0.7, μ=1.3, λ=5.1>,\n",
       " <TokenLambda 出: p=0.9, μ=7.5, λ=9.7>,\n",
       " <TokenLambda 明: p=0.0, μ=4.9, λ=4.9>,\n",
       " <TokenLambda 顯: p=1.0, μ=0.1, λ=1.4>,\n",
       " <TokenLambda 差: p=0.8, μ=10.7, λ=11.1>,\n",
       " <TokenLambda 異: p=1.0, μ=0.0, λ=1.8>,\n",
       " <TokenLambda 並: p=0.0, μ=7.1, λ=9.4>,\n",
       " <TokenLambda 有: p=0.1, μ=0.5, λ=2.2>,\n",
       " <TokenLambda 區: p=0.0, μ=3.7, λ=5.0>,\n",
       " <TokenLambda 辨: p=0.1, μ=5.9, λ=5.9>,\n",
       " <TokenLambda 性的: p=0.8, μ=7.8, λ=9.8>,\n",
       " <TokenLambda 性質: p=0.5, μ=0.5, λ=0.7>]"
      ]
     },
     "execution_count": 63,
     "metadata": {},
     "output_type": "execute_result"
    }
   ],
   "source": [
    "token_params"
   ]
  },
  {
   "cell_type": "code",
   "execution_count": null,
   "id": "312437e8-ccff-46d0-be87-fb0a7039024f",
   "metadata": {},
   "outputs": [],
   "source": []
  }
 ],
 "metadata": {
  "kernelspec": {
   "display_name": "Python 3 (ipykernel)",
   "language": "python",
   "name": "python3"
  },
  "language_info": {
   "codemirror_mode": {
    "name": "ipython",
    "version": 3
   },
   "file_extension": ".py",
   "mimetype": "text/x-python",
   "name": "python",
   "nbconvert_exporter": "python",
   "pygments_lexer": "ipython3",
   "version": "3.10.2"
  }
 },
 "nbformat": 4,
 "nbformat_minor": 5
}
