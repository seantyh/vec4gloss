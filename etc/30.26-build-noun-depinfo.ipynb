{
 "cells": [
  {
   "cell_type": "markdown",
   "id": "0916b8c2-35e3-4650-8949-97a91ed7ae8e",
   "metadata": {},
   "source": [
    "# Build depdency info of nouns in rating.n10"
   ]
  },
  {
   "cell_type": "code",
   "execution_count": 1,
   "id": "e4706806-a00d-4050-9b2d-af0b789c173b",
   "metadata": {},
   "outputs": [],
   "source": [
    "%load_ext autoreload\n",
    "%autoreload 2\n",
    "import sys\n",
    "if \"../src\" not in sys.path:\n",
    "    sys.path.append(\"../src\")"
   ]
  },
  {
   "cell_type": "code",
   "execution_count": 2,
   "id": "ac3b387c-14bc-42f0-9fad-becd7698459f",
   "metadata": {},
   "outputs": [],
   "source": [
    "import re\n",
    "import pickle\n",
    "import json\n",
    "import random\n",
    "from datetime import datetime\n",
    "from pathlib import Path\n",
    "from dataclasses import dataclass\n",
    "from typing import List, Tuple\n",
    "\n",
    "import numpy as np\n",
    "import torch\n",
    "from tqdm.auto import tqdm\n",
    "\n",
    "from transformers import MT5TokenizerFast\n",
    "\n",
    "from CwnGraph import CwnImage\n",
    "import vec4gloss\n",
    "from vec4gloss import check_hashes\n",
    "from vec4gloss import Vec4GlossModel\n",
    "from vec4gloss import (\n",
    "    AnnotDepInfo,\n",
    "    NounFrameInfo)\n",
    "\n",
    "from vec4gloss import (\n",
    "    DepWinOutput,\n",
    "    compute_mean_vec,\n",
    "    generate_seq_masks,\n",
    "    compute_dependents,\n",
    "    select_highest_lr)        "
   ]
  },
  {
   "cell_type": "markdown",
   "id": "a7e950b7-c21e-407e-9c78-3246ee1465c1",
   "metadata": {},
   "source": [
    "## Data dependencies\n",
    "```\n",
    "30.02 => ..\\data\\rating_materials.n10.raw.pkl 4b7ae3\n",
    "20.21 => ..\\data\\models\\vec4gloss-defgen-220629-1250\\pytorch_model.bin 9f894f\n",
    "```"
   ]
  },
  {
   "cell_type": "code",
   "execution_count": 3,
   "id": "988179fd-ce73-4741-b434-b93c5bf9dc0f",
   "metadata": {},
   "outputs": [
    {
     "name": "stdout",
     "output_type": "stream",
     "text": [
      "..\\data\\rating_materials.n10.raw.pkl 4b7ae3\n",
      "..\\data\\models\\vec4gloss-defgen-220629-1250\\pytorch_model.bin 9f894f\n"
     ]
    }
   ],
   "source": [
    "vec4gloss_model_dir = \"../data/models/vec4gloss-defgen-220629-1250\"\n",
    "_ = check_hashes([\n",
    "    \"../data/rating_materials.n10.raw.pkl\",\n",
    "    vec4gloss_model_dir + \"/pytorch_model.bin\",\n",
    "])"
   ]
  },
  {
   "cell_type": "markdown",
   "id": "361e2c7f-2493-464b-80a8-11eef946e23a",
   "metadata": {},
   "source": [
    "## Loading resources"
   ]
  },
  {
   "cell_type": "code",
   "execution_count": 4,
   "id": "cab82139-ddb9-4e57-99ef-06d879707307",
   "metadata": {},
   "outputs": [],
   "source": [
    "n10_data = pickle.loads(Path(\"../data/rating_materials.n10.raw.pkl\").read_bytes())"
   ]
  },
  {
   "cell_type": "code",
   "execution_count": 5,
   "id": "c5f7a7a9-ae41-4b68-9ffa-9a472349c4fa",
   "metadata": {},
   "outputs": [],
   "source": [
    "nouns = {k: v for k, v in n10_data.items()\n",
    "         if k.startswith(\"N\") and \n",
    "            v[\"from\"] == \"vec4gloss\"}"
   ]
  },
  {
   "cell_type": "code",
   "execution_count": 6,
   "id": "7eddac9b-f517-492d-ab28-0653fb1f21d3",
   "metadata": {},
   "outputs": [
    {
     "data": {
      "text/plain": [
       "20"
      ]
     },
     "execution_count": 6,
     "metadata": {},
     "output_type": "execute_result"
    }
   ],
   "source": [
    "len(nouns)"
   ]
  },
  {
   "cell_type": "code",
   "execution_count": 7,
   "id": "a714b6ee-7e87-4aaf-a2d8-d1ea17a47b51",
   "metadata": {},
   "outputs": [
    {
     "data": {
      "text/plain": [
       "[('N-05',\n",
       "  {'cwnid': '09267502',\n",
       "   'src': '打造<昆>菜品牌的同時，還應努力提高我市蔬菜產品的市場競爭力和占有率。',\n",
       "   'tgt': 'Na。昆明的文化。',\n",
       "   'pos': 'N',\n",
       "   'target': '昆',\n",
       "   'fillers': ['文', '文字', '水'],\n",
       "   'example': '打造<昆>菜品牌的同時，還應努力提高我市蔬菜產品的市場競爭力和占有率。',\n",
       "   'from': 'vec4gloss',\n",
       "   'definition': '昆蟲的文化。',\n",
       "   'item_id': 'N-05'}),\n",
       " ('N-06',\n",
       "  {'cwnid': '09167302',\n",
       "   'src': '昨天他派宦官已經暗示過張延賞，今天將由張延賞來挑主<樑>力促此事，但韓卻看破他的企圖，一上來便釜底抽薪，打亂了他地部署。',\n",
       "   'tgt': 'Na。比喻在特定事件中最重要的角色。',\n",
       "   'pos': 'N',\n",
       "   'target': '樑',\n",
       "   'fillers': ['學院', '室友', '弟兄'],\n",
       "   'example': '昨天他派宦官已經暗示過張延賞，今天將由張延賞來挑主<樑>力促此事，但韓卻看破他的企圖，一上來便釜底抽薪，打亂了他地部署。',\n",
       "   'from': 'vec4gloss',\n",
       "   'definition': '比喻在特定事件中最重要的角色。',\n",
       "   'item_id': 'N-06'}),\n",
       " ('N-07',\n",
       "  {'cwnid': '06586403',\n",
       "   'src': '當<需要>不變但供給減少時均衡價格會上漲。',\n",
       "   'tgt': 'Na。在特定時間、市場，依特定價格而獲得滿足的商品量。',\n",
       "   'pos': 'N',\n",
       "   'target': '需要',\n",
       "   'fillers': ['卡', '撢', '料'],\n",
       "   'example': '當<需要>不變但供給減少時均衡價格會上漲。',\n",
       "   'from': 'vec4gloss',\n",
       "   'definition': '特定對象所需要的所有權。',\n",
       "   'item_id': 'N-07'})]"
      ]
     },
     "execution_count": 7,
     "metadata": {},
     "output_type": "execute_result"
    }
   ],
   "source": [
    "list(nouns.items())[:3]"
   ]
  },
  {
   "cell_type": "code",
   "execution_count": 8,
   "id": "f727e5ae-c9ca-4908-832a-ebbb353032ca",
   "metadata": {},
   "outputs": [
    {
     "name": "stdout",
     "output_type": "stream",
     "text": [
      "Using cpu\n"
     ]
    }
   ],
   "source": [
    "## Loading model\n",
    "use_cuda = torch.cuda.is_available() and \"GeForce\" not in torch.cuda.get_device_name()\n",
    "device = \"cuda\" if use_cuda else \"cpu\"    \n",
    "print(\"Using\", device)\n",
    "\n",
    "model = Vec4GlossModel.from_pretrained(vec4gloss_model_dir).to(device)\n",
    "tokenizer = MT5TokenizerFast.from_pretrained(vec4gloss_model_dir)\n",
    "gen = vec4gloss.gen_func(tokenizer, model)"
   ]
  },
  {
   "cell_type": "markdown",
   "id": "f4cdb3b0-984b-4bc9-8317-f8c4e96390e5",
   "metadata": {},
   "source": [
    "## Computing dependency"
   ]
  },
  {
   "cell_type": "code",
   "execution_count": 9,
   "id": "d7d8fe77-2925-42d0-9ef1-714652264f38",
   "metadata": {},
   "outputs": [
    {
     "name": "stdout",
     "output_type": "stream",
     "text": [
      "(10:10) Na。在特定時間、市場,依\n",
      "( 9:10) Na。在特定時間、市場,Ｏ\n",
      "( 8:10) Na。在特定時間、市場ＯＯ\n",
      "( 7:10) Na。在特定時間、ＯＯＯ\n",
      "( 6:10) Na。在特定時間ＯＯＯＯ\n",
      "( 5:10) Na。在特定ＯＯＯＯＯ\n",
      "( 4:10) Na。在ＯＯＯＯＯＯ\n",
      "( 3:10) Na。ＯＯＯＯＯＯＯ\n",
      "( 3: 9) Na。ＯＯＯＯＯＯ依\n",
      "( 3: 8) Na。ＯＯＯＯＯ,依\n",
      "( 3: 7) Na。ＯＯＯＯ市場,依\n",
      "( 3: 6) Na。ＯＯＯ、市場,依\n",
      "( 3: 5) Na。ＯＯ時間、市場,依\n",
      "( 3: 4) Na。Ｏ特定時間、市場,依\n"
     ]
    }
   ],
   "source": [
    "## test generate_seq_mask\n",
    "entry = nouns[\"N-07\"]\n",
    "tgt_text = entry[\"tgt\"]\n",
    "tgt_seq = tokenizer(tgt_text)[\"input_ids\"]\n",
    "tgt_idx = 9\n",
    "tgt_seq = [0] + tgt_seq[:tgt_idx]\n",
    "_ = generate_seq_masks(tgt_seq, tokenizer, model, dbg=True, max_win=10)"
   ]
  },
  {
   "cell_type": "markdown",
   "id": "8d9f4396-865f-47ef-b0af-38a9418e83f2",
   "metadata": {},
   "source": [
    "## Building decoder data objects"
   ]
  },
  {
   "cell_type": "code",
   "execution_count": 10,
   "id": "d122e1b4-f1fe-441c-831a-9138c1227221",
   "metadata": {},
   "outputs": [
    {
     "data": {
      "application/vnd.jupyter.widget-view+json": {
       "model_id": "f32881b0e61342d1ae60cc733f42ddb0",
       "version_major": 2,
       "version_minor": 0
      },
      "text/plain": [
       "  0%|          | 0/20 [00:00<?, ?it/s]"
      ]
     },
     "metadata": {},
     "output_type": "display_data"
    }
   ],
   "source": [
    "noun_frameinfo_list: List[NounFrameInfo] = []\n",
    "empty_senses = []\n",
    "for entry_id, entry_x in tqdm(nouns.items()):    \n",
    "    try:\n",
    "        annot_depinfo = []\n",
    "        example = entry_x[\"example\"]\n",
    "        mean_vec = compute_mean_vec([example], tokenizer, model)\n",
    "        if mean_vec is None:\n",
    "            empty_senses.append(entry_id)\n",
    "            continue\n",
    "        # print(annot_x.head_word)\n",
    "        tgt_text = entry_x[\"tgt\"]\n",
    "        tgt_seq = tokenizer(tgt_text)[\"input_ids\"]\n",
    "        period_idx = tgt_seq.index(306)\n",
    "        # print(\"Tgt:\", tgt_text)\n",
    "        # print(\"Gen:\", vec4gloss.decode_vector(mean_vec, tokenizer, model))                \n",
    "        for idx in range(period_idx+1, len(tgt_seq)-2):            \n",
    "            depwins = compute_dependents(tgt_seq, idx, mean_vec, tokenizer, model, dbg=False) \n",
    "            # print(\"depwins:\", depwins)\n",
    "            sel_dep_idx = select_highest_lr(depwins)\n",
    "            annot_depinfo.append(AnnotDepInfo(idx, depwins, sel_dep_idx))            \n",
    "        noun_frameinfo_list.append(NounFrameInfo(entry_x, annot_depinfo))        \n",
    "    except Exception as ex:        \n",
    "        import traceback; traceback.print_exc()\n",
    "        print(\"Exception: \", ex)        "
   ]
  },
  {
   "cell_type": "code",
   "execution_count": 11,
   "id": "60686315-5f33-4579-92fb-936efa38c17b",
   "metadata": {},
   "outputs": [
    {
     "data": {
      "text/plain": [
       "<AnnotDepInfo (4) 1.00: ( 3- 5) [ 1.00] 文化 / 昆明的>"
      ]
     },
     "execution_count": 11,
     "metadata": {},
     "output_type": "execute_result"
    }
   ],
   "source": [
    "noun_frameinfo_list[0].dep_info[2]"
   ]
  },
  {
   "cell_type": "code",
   "execution_count": 12,
   "id": "cfa13c9f-1319-4b23-a8e2-67a6f31b9618",
   "metadata": {},
   "outputs": [
    {
     "data": {
      "text/plain": [
       "(0, 20)"
      ]
     },
     "execution_count": 12,
     "metadata": {},
     "output_type": "execute_result"
    }
   ],
   "source": [
    "## empty_senses\n",
    "len(empty_senses), len(noun_frameinfo_list)"
   ]
  },
  {
   "cell_type": "code",
   "execution_count": 13,
   "id": "451de555-eec2-4b62-af78-1f0fc8ef58a3",
   "metadata": {},
   "outputs": [],
   "source": [
    "noun_frameinfo_list_path = \"../data/nouns_vec4gloss_frameinfo_list.pkl\"\n",
    "with open(noun_frameinfo_list_path, \"wb\") as fout:\n",
    "    pickle.dump(noun_frameinfo_list, fout)"
   ]
  },
  {
   "cell_type": "markdown",
   "id": "a6a29899-c1a3-4197-9b03-d68b8ac45a4b",
   "metadata": {},
   "source": [
    "## Output Hashes"
   ]
  },
  {
   "cell_type": "markdown",
   "id": "f01c57ca-e0c0-45d1-b9d0-1b2625c57449",
   "metadata": {},
   "source": [
    "```\n",
    "..\\data\\nouns_vec4gloss_frameinfo_list.pkl 9ad739\n",
    "```"
   ]
  },
  {
   "cell_type": "code",
   "execution_count": 14,
   "id": "9a88d826-42b9-4820-aad1-d30df9520fd8",
   "metadata": {},
   "outputs": [
    {
     "name": "stdout",
     "output_type": "stream",
     "text": [
      "..\\data\\nouns_vec4gloss_frameinfo_list.pkl 9ad739\n"
     ]
    }
   ],
   "source": [
    "_ = check_hashes([noun_frameinfo_list_path])"
   ]
  },
  {
   "cell_type": "code",
   "execution_count": null,
   "id": "a4f25be3-4b83-4f25-b373-9f093ad7509c",
   "metadata": {},
   "outputs": [],
   "source": []
  }
 ],
 "metadata": {
  "kernelspec": {
   "display_name": "Python 3 (ipykernel)",
   "language": "python",
   "name": "python3"
  },
  "language_info": {
   "codemirror_mode": {
    "name": "ipython",
    "version": 3
   },
   "file_extension": ".py",
   "mimetype": "text/x-python",
   "name": "python",
   "nbconvert_exporter": "python",
   "pygments_lexer": "ipython3",
   "version": "3.10.2"
  }
 },
 "nbformat": 4,
 "nbformat_minor": 5
}
