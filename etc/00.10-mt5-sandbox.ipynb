{
 "cells": [
  {
   "cell_type": "markdown",
   "id": "f21c78e1-fc30-458b-9700-25589da8a0cc",
   "metadata": {},
   "source": [
    "# mT5 sandbox"
   ]
  },
  {
   "cell_type": "code",
   "execution_count": 1,
   "id": "3e4d104d-9281-4ac5-9011-fb67f746bdd1",
   "metadata": {},
   "outputs": [],
   "source": [
    "from transformers import MT5ForConditionalGeneration, MT5TokenizerFast\n",
    "from transformers import DataCollatorForSeq2Seq\n",
    "import torch\n",
    "import torch.optim as optim"
   ]
  },
  {
   "cell_type": "code",
   "execution_count": 81,
   "id": "9f8880c9-5810-40bc-aa4a-21691291d607",
   "metadata": {},
   "outputs": [
    {
     "name": "stderr",
     "output_type": "stream",
     "text": [
      "C:\\Python310\\lib\\site-packages\\transformers\\convert_slow_tokenizer.py:434: UserWarning: The sentencepiece tokenizer that you are converting to a fast tokenizer uses the byte fallback option which is not implemented in the fast tokenizers. In practice this means that the fast version of the tokenizer can produce unknown tokens whereas the sentencepiece version would have converted these unknown tokens into a sequence of byte tokens matching the original piece of text.\n",
      "  warnings.warn(\n"
     ]
    }
   ],
   "source": [
    "model = MT5ForConditionalGeneration.from_pretrained(\"google/mt5-small\")\n",
    "tokenizer = MT5TokenizerFast.from_pretrained(\"google/mt5-small\")\n",
    "model.to(\"cuda\")\n",
    "optimizer = optim.AdamW(model.parameters(), lr=1e-5)"
   ]
  },
  {
   "cell_type": "code",
   "execution_count": 3,
   "id": "1b0ad927-1623-4bd5-82a5-6f78accb853e",
   "metadata": {},
   "outputs": [],
   "source": [
    "collator = DataCollatorForSeq2Seq(tokenizer, model=model, padding=\"longest\")"
   ]
  },
  {
   "cell_type": "code",
   "execution_count": 4,
   "id": "05099336-db98-47d2-8da0-c4d029363c6a",
   "metadata": {},
   "outputs": [
    {
     "data": {
      "text/plain": [
       "['▁', '這是', '一個', '故事', '</s>']"
      ]
     },
     "execution_count": 4,
     "metadata": {},
     "output_type": "execute_result"
    }
   ],
   "source": [
    "text = [\"那是一隻狗\", \"鳳凰台上鳳凰遊\"]\n",
    "batch = []\n",
    "for txt in text:\n",
    "    toks = tokenizer(txt, return_tensors=\"pt\")  \n",
    "    with tokenizer.as_target_tokenizer():\n",
    "        label_ids = tokenizer(txt, return_tensors=\"pt\")\n",
    "    batch.append({\n",
    "        \"input_ids\": toks[\"input_ids\"][0], \n",
    "        \"attention_mask\": toks[\"attention_mask\"][0],\n",
    "        \"labels\": label_ids[\"input_ids\"][0]\n",
    "    })"
   ]
  },
  {
   "cell_type": "code",
   "execution_count": 5,
   "id": "366dc671-ee2e-4182-aba6-1aa4b7a05a87",
   "metadata": {},
   "outputs": [
    {
     "data": {
      "text/plain": [
       "{'input_ids': tensor([[   259, 222077,  71285,  66204,      1]]), 'attention_mask': tensor([[1, 1, 1, 1, 1]])}"
      ]
     },
     "execution_count": 5,
     "metadata": {},
     "output_type": "execute_result"
    }
   ],
   "source": [
    "batch = collator(batch).to(\"cuda\")"
   ]
  },
  {
   "cell_type": "code",
   "execution_count": null,
   "id": "c0726909-33ac-4e1f-80f1-a86f649c48d2",
   "metadata": {},
   "outputs": [],
   "source": [
    "for idx in range(1000):\n",
    "    optimizer.zero_grad()\n",
    "    encode_out = model.encoder(input_ids=batch[\"input_ids\"],\n",
    "                               attention_mask=batch[\"attention_mask\"], \n",
    "                               output_hidden_states=True)\n",
    "    # encode_out.last_hidden_state = torch.vstack(encode_out[1][-4:]).mean(axis=0, keepdim=True)\n",
    "    encode_out.last_hidden_state = encode_out.last_hidden_state[:,2,:].unsqueeze(1)\n",
    "    decode_out = model(inputs_embeds=encode_out.last_hidden_state,\n",
    "                       decoder_input_ids=batch[\"decoder_input_ids\"],\n",
    "                       labels=batch[\"labels\"],\n",
    "                       encoder_outputs=encode_out)\n",
    "    if idx % 100 == 0:\n",
    "        print(idx, decode_out.loss.item())\n",
    "        print(tokenizer.batch_decode(decode_out.logits.argmax(2)))    \n",
    "    decode_out.loss.backward()\n",
    "    optimizer.step()"
   ]
  },
  {
   "cell_type": "code",
   "execution_count": null,
   "id": "be727ded-3a84-406c-8bdd-f0c38d6aa980",
   "metadata": {},
   "outputs": [],
   "source": []
  }
 ],
 "metadata": {
  "kernelspec": {
   "display_name": "Python 3 (ipykernel)",
   "language": "python",
   "name": "python3"
  },
  "language_info": {
   "codemirror_mode": {
    "name": "ipython",
    "version": 3
   },
   "file_extension": ".py",
   "mimetype": "text/x-python",
   "name": "python",
   "nbconvert_exporter": "python",
   "pygments_lexer": "ipython3",
   "version": "3.10.2"
  }
 },
 "nbformat": 4,
 "nbformat_minor": 5
}
