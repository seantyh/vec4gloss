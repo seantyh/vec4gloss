{
 "cells": [
  {
   "cell_type": "markdown",
   "id": "0916b8c2-35e3-4650-8949-97a91ed7ae8e",
   "metadata": {},
   "source": [
    "# Build event token param"
   ]
  },
  {
   "cell_type": "code",
   "execution_count": 1,
   "id": "e4706806-a00d-4050-9b2d-af0b789c173b",
   "metadata": {},
   "outputs": [],
   "source": [
    "%load_ext autoreload\n",
    "%autoreload 2\n",
    "import sys\n",
    "if \"../src\" not in sys.path:\n",
    "    sys.path.append(\"../src\")"
   ]
  },
  {
   "cell_type": "code",
   "execution_count": 2,
   "id": "ac3b387c-14bc-42f0-9fad-becd7698459f",
   "metadata": {},
   "outputs": [],
   "source": [
    "import re\n",
    "import pickle\n",
    "import json\n",
    "import random\n",
    "from datetime import datetime\n",
    "from pathlib import Path\n",
    "from dataclasses import dataclass\n",
    "from typing import List, Tuple\n",
    "\n",
    "import numpy as np\n",
    "import torch\n",
    "from tqdm.auto import tqdm\n",
    "\n",
    "from transformers import MT5TokenizerFast\n",
    "\n",
    "from CwnGraph import CwnImage\n",
    "import vec4gloss\n",
    "from vec4gloss import check_hashes\n",
    "from vec4gloss import Vec4GlossModel\n",
    "from vec4gloss import (\n",
    "    AnnotFrame, Scheme, \n",
    "    AnnotDepInfo,\n",
    "    AnnotFrameInfo)\n",
    "\n",
    "from vec4gloss import TokenParam, TokenParamFactory"
   ]
  },
  {
   "cell_type": "markdown",
   "id": "a7e950b7-c21e-407e-9c78-3246ee1465c1",
   "metadata": {},
   "source": [
    "## Data dependencies\n",
    "```\n",
    "..\\data\\annotation.json 2ed250\n",
    "..\\data\\models\\vec4gloss-defgen-220629-1250\\pytorch_model.bin 9f894f\n",
    "```"
   ]
  },
  {
   "cell_type": "code",
   "execution_count": 3,
   "id": "988179fd-ce73-4741-b434-b93c5bf9dc0f",
   "metadata": {},
   "outputs": [
    {
     "name": "stdout",
     "output_type": "stream",
     "text": [
      "..\\data\\annotation.json 2ed250\n",
      "..\\data\\models\\vec4gloss-defgen-220629-1250\\pytorch_model.bin 9f894f\n"
     ]
    }
   ],
   "source": [
    "vec4gloss_model_dir = \"../data/models/vec4gloss-defgen-220629-1250\"\n",
    "_ = check_hashes([\n",
    "    \"../data/annotation.json\",\n",
    "    vec4gloss_model_dir + \"/pytorch_model.bin\",\n",
    "])"
   ]
  },
  {
   "cell_type": "markdown",
   "id": "361e2c7f-2493-464b-80a8-11eef946e23a",
   "metadata": {},
   "source": [
    "## Loading resources"
   ]
  },
  {
   "cell_type": "code",
   "execution_count": 4,
   "id": "cab82139-ddb9-4e57-99ef-06d879707307",
   "metadata": {},
   "outputs": [],
   "source": [
    "annot_data = json.loads(Path(\"../data/annotation.json\").read_text(encoding=\"UTF-8\"))"
   ]
  },
  {
   "cell_type": "code",
   "execution_count": 5,
   "id": "0588b40e-8cae-4c5a-8dae-a29c12258b60",
   "metadata": {},
   "outputs": [
    {
     "data": {
      "text/plain": [
       "(288,\n",
       " {'sense_id': 3048001,\n",
       "  'head_word': '沿街',\n",
       "  'POS': 'D',\n",
       "  'definition': '表同一事件在經過的街道中重複發生。',\n",
       "  'event_role': 'agent',\n",
       "  'schemas': [{'type': 'event', 'start': 1, 'end': 5},\n",
       "   {'type': 'scope', 'start': 5, 'end': 6},\n",
       "   {'type': 'place', 'start': 6, 'end': 11},\n",
       "   {'type': 'scope', 'start': 11, 'end': 12},\n",
       "   {'type': 'mod', 'start': 12, 'end': 14},\n",
       "   {'type': 'action', 'start': 14, 'end': 16}]})"
      ]
     },
     "execution_count": 5,
     "metadata": {},
     "output_type": "execute_result"
    }
   ],
   "source": [
    "len(annot_data), annot_data[45]"
   ]
  },
  {
   "cell_type": "code",
   "execution_count": 6,
   "id": "f727e5ae-c9ca-4908-832a-ebbb353032ca",
   "metadata": {},
   "outputs": [
    {
     "name": "stdout",
     "output_type": "stream",
     "text": [
      "Using cpu\n"
     ]
    }
   ],
   "source": [
    "## Loading modem\n",
    "use_cuda = torch.cuda.is_available() and \"GeForce\" not in torch.cuda.get_device_name()\n",
    "device = \"cuda\" if use_cuda else \"cpu\"    \n",
    "print(\"Using\", device)\n",
    "\n",
    "model = Vec4GlossModel.from_pretrained(vec4gloss_model_dir).to(device)\n",
    "tokenizer = MT5TokenizerFast.from_pretrained(vec4gloss_model_dir)\n",
    "gen = vec4gloss.gen_func(tokenizer, model)"
   ]
  },
  {
   "cell_type": "code",
   "execution_count": 7,
   "id": "d6cc531a-05c5-418a-afe3-9807892cc619",
   "metadata": {},
   "outputs": [],
   "source": [
    "CWN_VER = \"v.2022.06.21\"\n",
    "cwn = CwnImage.load(CWN_VER)"
   ]
  },
  {
   "cell_type": "markdown",
   "id": "3bedb3d6-5f8e-4ce3-ae65-b19badeaccde",
   "metadata": {
    "tags": []
   },
   "source": [
    "## Annotation Frame"
   ]
  },
  {
   "cell_type": "code",
   "execution_count": 8,
   "id": "0a5c53f4-ab5f-4132-a540-9f28d1946652",
   "metadata": {
    "tags": []
   },
   "outputs": [],
   "source": [
    "from collections import Counter\n",
    "annot_frames = []\n",
    "for annot_i, annot_x in enumerate(annot_data):\n",
    "    schemas = [Scheme(**x) for x in annot_x[\"schemas\"]]\n",
    "    annot_y = {k: v for k, v in annot_x.items() if k!=\"schemas\"}    \n",
    "    frame_x = AnnotFrame(**annot_y, schemas=schemas)\n",
    "    annot_frames.append(frame_x)        "
   ]
  },
  {
   "cell_type": "code",
   "execution_count": 9,
   "id": "c9b5ba2e-4f57-41d4-9fe3-c286c51985f9",
   "metadata": {},
   "outputs": [
    {
     "name": "stdout",
     "output_type": "stream",
     "text": [
      "<-->表 <neg>沒有 <noun>足夠的時間 <action>進行 <event>後述事件\n",
      "<-->表 <mod>勉強 <action>去做 <event>後述事件\n",
      "<-->表 <mod>親身 <action>體驗 <event>後述事件\n",
      "<-->表 <event>後述事件 <neg>不 <scope>在 <noun>預期中\n",
      "<-->表 <exist>具備 <action>達到 <event>後述事件 <action>成立 <-->的 <noun>條件\n",
      "<-->表 <event>後述事件 <scope>在 <time>很短的時間內 <action>完成\n",
      "<-->表 <event>後述事件 <action>發生 <-->的 <time>時間 <scope>比 <noun>預期 <value>早\n",
      "<-->表 <action>做 <event>後述事件 <-->的 <degree>程度 <value>非常低\n",
      "<-->表 <action>做 <event>後述事件 <-->的 <degree>程度 <value>非常高\n",
      "<-->表比喻 <scope>只 <action>做 <event>後述事件 <-->而 <neg>沒有 <mod>其他 <-->的 <action.NOM>行動\n",
      "<-->表 <event>後述事件 <neg>不 <scope>在 <noun>預期 <scope>之中 <action>發生\n",
      "<-->表 <exist>有 <noun>足夠的時間 <action>進行 <event>後述事件\n",
      "<-->表 <event>後述事件 <mod>一直 <action>持續\n",
      "<-->表 <action>進行 <event>後述事件 <-->但 <neg>沒有 <action>產生 <noun>預期的效果\n",
      "<-->表 <instrument>以 <noun>相同一致的方法 <action>進行 <event>後述事件\n",
      "<-->表比喻 <neg>未 <mod>經多加考慮地 <action>進行 <event>後述事件\n",
      "<-->表 <action>進行 <event>後述事件 <action>涉及 <-->的 <place>空間範圍 <value>大且數量多\n",
      "<-->表 <neg>不 <scope>對 <event>後述事件 <action>設定 <noun>任何限制\n",
      "<-->表 <instrument>透過 <noun>其他媒介 <-->來 <action>做 <event>後述事件\n",
      "<-->表 <event>後述事件 <mod>很容易 <action>做到\n"
     ]
    }
   ],
   "source": [
    "for i in range(20):\n",
    "    annot_frames[i].show()"
   ]
  },
  {
   "cell_type": "markdown",
   "id": "f4cdb3b0-984b-4bc9-8317-f8c4e96390e5",
   "metadata": {},
   "source": [
    "## Building TokenParams"
   ]
  },
  {
   "cell_type": "code",
   "execution_count": 10,
   "id": "d122e1b4-f1fe-441c-831a-9138c1227221",
   "metadata": {},
   "outputs": [
    {
     "data": {
      "application/vnd.jupyter.widget-view+json": {
       "model_id": "7feecb25209044a09cd679a6f98b5058",
       "version_major": 2,
       "version_minor": 0
      },
      "text/plain": [
       "  0%|          | 0/288 [00:00<?, ?it/s]"
      ]
     },
     "metadata": {},
     "output_type": "display_data"
    },
    {
     "data": {
      "application/vnd.jupyter.widget-view+json": {
       "model_id": "b13249fb94cc460dbeccff0661d8ca08",
       "version_major": 2,
       "version_minor": 0
      },
      "text/plain": [
       "  0%|          | 0/244 [00:00<?, ?it/s]"
      ]
     },
     "metadata": {},
     "output_type": "display_data"
    }
   ],
   "source": [
    "torch.manual_seed(12345)\n",
    "annot_factory_list: List[Tuple[AnnotFrame, TokenParamFactory]] = []\n",
    "annot_frameinfo_list: List[AnnotFrameInfo] = []\n",
    "empty_senses = []\n",
    "\n",
    "for annot_x in tqdm(annot_frames):\n",
    "    try:\n",
    "        example_sentences = cwn.from_sense_id(\"{:08d}\".format(annot_x.sense_id)).examples                \n",
    "        tgt_definition = \"{}。{}\".format(annot_x.POS, annot_x.definition)\n",
    "        factory_x = TokenParamFactory(example_sentences, tgt_definition, tokenizer, model)\n",
    "        annot_factory_list.append((annot_x, factory_x))\n",
    "    except Exception as ex:\n",
    "        empty_senses.append(annot_x.sense_id)\n",
    "\n",
    "rotated_list = list(range(len(annot_factory_list)))\n",
    "rotated_list = rotated_list[-1:] + rotated_list[:-1]\n",
    "\n",
    "for idx, (annot_x, factory_x) in enumerate(tqdm(annot_factory_list)):\n",
    "    replaced_idx = rotated_list[idx]\n",
    "    replaced_vec = annot_factory_list[replaced_idx][1].mean_vec\n",
    "    factory_x.set_replaced_vec(replaced_vec)\n",
    "    token_params = factory_x.build_all_sequences(dbg=False)\n",
    "    annot_frameinfo_list.append((annot_x, token_params))"
   ]
  },
  {
   "cell_type": "code",
   "execution_count": 11,
   "id": "75d1daea-ea92-45a6-98aa-6c3900818c8b",
   "metadata": {},
   "outputs": [
    {
     "data": {
      "text/plain": [
       "(AnnotFrame(sense_id=5166702, POS='D', head_word='額外', definition='表後述事件不在預期中。', event_role='agent', schemas=[Scheme(type='--', start=0, end=1), Scheme(type='event', start=1, end=5), Scheme(type='neg', start=5, end=6), Scheme(type='scope', start=6, end=7), Scheme(type='noun', start=7, end=10)]),\n",
       " [<TokenParam 　表: F/A/D/R/X 1.00/1.00/1.00/1.00/0.00>,\n",
       "  <TokenParam 　後: F/A/D/R/X 0.00/0.00/0.00/0.00/0.00>,\n",
       "  <TokenParam 　述: F/A/D/R/X 1.00/1.00/1.00/1.00/0.00>,\n",
       "  <TokenParam 事件: F/A/D/R/X 0.00/0.00/0.00/0.12/0.00>,\n",
       "  <TokenParam 不在: F/A/D/R/X 0.09/0.04/0.00/0.00/0.00>,\n",
       "  <TokenParam 　預: F/A/D/R/X 0.98/0.99/0.00/0.90/0.00>,\n",
       "  <TokenParam 　期: F/A/D/R/X 1.00/1.00/0.55/0.81/0.00>,\n",
       "  <TokenParam 　中: F/A/D/R/X 0.00/0.00/0.00/0.00/0.00>])"
      ]
     },
     "execution_count": 11,
     "metadata": {},
     "output_type": "execute_result"
    }
   ],
   "source": [
    "annot_frameinfo_list[2]"
   ]
  },
  {
   "cell_type": "code",
   "execution_count": 12,
   "id": "127c28c4-0d12-4809-b00f-afb4fbadfa0d",
   "metadata": {},
   "outputs": [],
   "source": [
    "annot_params_list_path = \"../data/annot_tokenparams_list.pkl\"\n",
    "with open(annot_params_list_path, \"wb\") as fout:\n",
    "    pickle.dump(annot_frameinfo_list, fout)"
   ]
  },
  {
   "cell_type": "code",
   "execution_count": 16,
   "id": "6a29f6cf-cb7e-448e-814e-b6f1c33b7781",
   "metadata": {},
   "outputs": [],
   "source": [
    "from itertools import chain\n",
    "param_iter= chain.from_iterable(x[1] for x in annot_frameinfo_list)\n",
    "sem_tokens = [x for x in param_iter if x.full_prob / x.replaced_prob > 5 and x.full_prob>.8]"
   ]
  },
  {
   "cell_type": "markdown",
   "id": "a6a29899-c1a3-4197-9b03-d68b8ac45a4b",
   "metadata": {},
   "source": [
    "## Output Hashes"
   ]
  },
  {
   "cell_type": "markdown",
   "id": "30dc2e36-183f-4d3f-90ad-70cf4a676905",
   "metadata": {},
   "source": [
    "```\n",
    "..\\data\\annot_tokenparams_list.pkl 1ff297\n",
    "```"
   ]
  },
  {
   "cell_type": "code",
   "execution_count": 13,
   "id": "9a88d826-42b9-4820-aad1-d30df9520fd8",
   "metadata": {},
   "outputs": [
    {
     "name": "stdout",
     "output_type": "stream",
     "text": [
      "..\\data\\annot_tokenparams_list.pkl 1ff297\n"
     ]
    }
   ],
   "source": [
    "\n",
    "_ = check_hashes([annot_params_list_path])"
   ]
  },
  {
   "cell_type": "code",
   "execution_count": null,
   "id": "a4f25be3-4b83-4f25-b373-9f093ad7509c",
   "metadata": {},
   "outputs": [],
   "source": []
  }
 ],
 "metadata": {
  "kernelspec": {
   "display_name": "Python 3 (ipykernel)",
   "language": "python",
   "name": "python3"
  },
  "language_info": {
   "codemirror_mode": {
    "name": "ipython",
    "version": 3
   },
   "file_extension": ".py",
   "mimetype": "text/x-python",
   "name": "python",
   "nbconvert_exporter": "python",
   "pygments_lexer": "ipython3",
   "version": "3.9.5"
  }
 },
 "nbformat": 4,
 "nbformat_minor": 5
}
