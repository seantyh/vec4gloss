{
 "cells": [
  {
   "cell_type": "markdown",
   "id": "2fdbc0e3-af53-4963-9c26-ed3b4ff2f77d",
   "metadata": {},
   "source": [
    "# Token Parameters - Ratings"
   ]
  },
  {
   "cell_type": "code",
   "execution_count": 1,
   "id": "3cc1ed3d-fdce-4214-81f4-39e8dd6d5ed0",
   "metadata": {},
   "outputs": [],
   "source": [
    "%load_ext autoreload\n",
    "%autoreload 2\n",
    "import sys\n",
    "if \"../src\" not in sys.path:\n",
    "    sys.path.append(\"../src\")"
   ]
  },
  {
   "cell_type": "code",
   "execution_count": 2,
   "id": "80054f97-ee91-440c-8cd0-bbcc2104ff7a",
   "metadata": {},
   "outputs": [],
   "source": [
    "import re\n",
    "import pickle\n",
    "import json\n",
    "import random\n",
    "from itertools import islice\n",
    "from pathlib import Path\n",
    "from dataclasses import dataclass\n",
    "from typing import List, Tuple, Union, Dict\n",
    "\n",
    "import numpy as np\n",
    "import pandas as pd\n",
    "import matplotlib.pyplot as plt\n",
    "from tqdm.auto import tqdm\n",
    "\n",
    "import vec4gloss\n",
    "from vec4gloss import check_hashes    \n",
    "from vec4gloss import (\n",
    "    AnnotFrameInfo, RatingFrameInfo, TokenParam\n",
    ")\n",
    "from vec4gloss import TokenStat, SequenceStat"
   ]
  },
  {
   "cell_type": "markdown",
   "id": "4b9ed9c1-1ad1-4d6d-92c4-5954ce25706a",
   "metadata": {},
   "source": [
    "## Data dependencies"
   ]
  },
  {
   "cell_type": "markdown",
   "id": "d03d1af6-738a-43e2-9f51-5b62617f03f8",
   "metadata": {},
   "source": [
    "```\n",
    "30.42 => ..\\data\\rating_tokenparams_list.pkl 7f6db0\n",
    "```"
   ]
  },
  {
   "cell_type": "code",
   "execution_count": 3,
   "id": "828add04-4519-4f24-bd17-d3af20888ded",
   "metadata": {},
   "outputs": [
    {
     "name": "stdout",
     "output_type": "stream",
     "text": [
      "..\\data\\rating_tokenparams_list.pkl 7f6db0\n"
     ]
    }
   ],
   "source": [
    "rating_info_path = \"../data/rating_tokenparams_list.pkl\"\n",
    "_ = check_hashes([rating_info_path])"
   ]
  },
  {
   "cell_type": "markdown",
   "id": "5d80b1e4-1d5d-44bb-a833-3fcc84effb9b",
   "metadata": {},
   "source": [
    "## Load resources"
   ]
  },
  {
   "cell_type": "code",
   "execution_count": 4,
   "id": "9e5052c1-1dfe-42ac-bdbd-0f293a9da0a8",
   "metadata": {},
   "outputs": [],
   "source": [
    "rating_infos = pickle.loads(Path(rating_info_path).read_bytes())"
   ]
  },
  {
   "cell_type": "code",
   "execution_count": 5,
   "id": "1f0b5b9d-1cdf-4133-a1f6-82280d018d6f",
   "metadata": {},
   "outputs": [
    {
     "data": {
      "text/plain": [
       "80"
      ]
     },
     "execution_count": 5,
     "metadata": {},
     "output_type": "execute_result"
    }
   ],
   "source": [
    "len(rating_infos)"
   ]
  },
  {
   "cell_type": "code",
   "execution_count": 6,
   "id": "f3930268-6aff-4af9-8909-7edc815c4acd",
   "metadata": {},
   "outputs": [
    {
     "data": {
      "text/plain": [
       "({'cwnid': '07009803',\n",
       "  'src': '這首回文詩<正>讀、反讀皆可。',\n",
       "  'tgt': 'D。表特定對象的順序與預期的順序形成完全的對比。',\n",
       "  'pos': 'D',\n",
       "  'target': '正',\n",
       "  'fillers': ['即將', '怎麼', '恐'],\n",
       "  'example': '這首回文詩<正>讀、反讀皆可。',\n",
       "  'from': 'vec4gloss',\n",
       "  'definition': '表順著特定對象進行後述事件。',\n",
       "  'item_id': 'D-06'},\n",
       " [<TokenParam 　表: F/A/D/R/X 1.00/1.00/1.00/1.00/0.00>,\n",
       "  <TokenParam 特定: F/A/D/R/X 0.05/0.03/0.04/0.00/0.00>,\n",
       "  <TokenParam 　對: F/A/D/R/X 0.48/0.61/0.43/0.00/0.00>,\n",
       "  <TokenParam 　象: F/A/D/R/X 1.00/1.00/0.00/1.00/0.00>,\n",
       "  <TokenParam 　的: F/A/D/R/X 0.30/0.32/0.01/0.01/0.00>,\n",
       "  <TokenParam 　順: F/A/D/R/X 0.95/0.96/0.03/0.01/0.00>,\n",
       "  <TokenParam 　序: F/A/D/R/X 1.00/1.00/0.08/1.00/0.00>,\n",
       "  <TokenParam 　與: F/A/D/R/X 0.82/0.31/0.01/0.85/0.00>,\n",
       "  <TokenParam 　預: F/A/D/R/X 0.94/0.67/0.01/1.00/0.00>,\n",
       "  <TokenParam 　期: F/A/D/R/X 1.00/1.00/0.04/1.00/0.00>,\n",
       "  <TokenParam 　的: F/A/D/R/X 0.80/0.16/0.01/0.19/0.00>,\n",
       "  <TokenParam 　順: F/A/D/R/X 1.00/0.97/0.04/0.43/0.00>,\n",
       "  <TokenParam 　序: F/A/D/R/X 1.00/1.00/0.06/1.00/0.00>,\n",
       "  <TokenParam 形成: F/A/D/R/X 0.99/0.56/0.00/0.97/0.00>,\n",
       "  <TokenParam 完全: F/A/D/R/X 1.00/0.93/0.00/1.00/0.00>,\n",
       "  <TokenParam 　的: F/A/D/R/X 0.99/0.95/0.00/1.00/0.00>,\n",
       "  <TokenParam 　對: F/A/D/R/X 0.99/0.87/0.01/0.96/0.00>,\n",
       "  <TokenParam 　比: F/A/D/R/X 1.00/0.97/0.00/1.00/0.00>])"
      ]
     },
     "execution_count": 6,
     "metadata": {},
     "output_type": "execute_result"
    }
   ],
   "source": [
    "rating_infos[1]"
   ]
  },
  {
   "cell_type": "code",
   "execution_count": 7,
   "id": "312437e8-ccff-46d0-be87-fb0a7039024f",
   "metadata": {},
   "outputs": [
    {
     "data": {
      "text/plain": [
       "<SequenceStat Full/Masked/Replaced: 0.40/4.06/1.41>"
      ]
     },
     "execution_count": 7,
     "metadata": {},
     "output_type": "execute_result"
    }
   ],
   "source": [
    "entry_x = rating_infos[0]\n",
    "params = entry_x[1]\n",
    "SequenceStat(params)"
   ]
  },
  {
   "cell_type": "code",
   "execution_count": 8,
   "id": "5c2ba374-f78f-4f8a-9a13-b5cd92b26e1b",
   "metadata": {},
   "outputs": [
    {
     "data": {
      "application/vnd.jupyter.widget-view+json": {
       "model_id": "b4673efa9fb947fdb0f29c08fc2db206",
       "version_major": 2,
       "version_minor": 0
      },
      "text/plain": [
       "  0%|          | 0/80 [00:00<?, ?it/s]"
      ]
     },
     "metadata": {},
     "output_type": "display_data"
    }
   ],
   "source": [
    "rating_seq_data = []\n",
    "for rating_x, params_x in tqdm(rating_infos):    \n",
    "    seq_stat = SequenceStat(params_x)\n",
    "    entry_x = {\n",
    "        \"cwnid\": rating_x[\"cwnid\"],\n",
    "        \"pos\": rating_x[\"pos\"],\n",
    "        \"target\": rating_x[\"target\"],\n",
    "        \"full_nll\": seq_stat.full_nll(),\n",
    "        \"masked_nll\": seq_stat.masked_nll(),\n",
    "        \"replaced_nll\": seq_stat.replaced_nll(),\n",
    "        \"semanticness\": seq_stat.replaced_nll() - seq_stat.full_nll(),\n",
    "        \"contextualness\": seq_stat.masked_nll() - seq_stat.full_nll(),\n",
    "        # \"random_pp\": seq_stat.random_pp()\n",
    "    }\n",
    "    rating_seq_data.append(entry_x)    "
   ]
  },
  {
   "cell_type": "code",
   "execution_count": 9,
   "id": "784fca42-e8be-4cc7-9496-175ac85bb9ed",
   "metadata": {},
   "outputs": [
    {
     "data": {
      "text/html": [
       "<div>\n",
       "<style scoped>\n",
       "    .dataframe tbody tr th:only-of-type {\n",
       "        vertical-align: middle;\n",
       "    }\n",
       "\n",
       "    .dataframe tbody tr th {\n",
       "        vertical-align: top;\n",
       "    }\n",
       "\n",
       "    .dataframe thead th {\n",
       "        text-align: right;\n",
       "    }\n",
       "</style>\n",
       "<table border=\"1\" class=\"dataframe\">\n",
       "  <thead>\n",
       "    <tr style=\"text-align: right;\">\n",
       "      <th></th>\n",
       "      <th>full_nll</th>\n",
       "      <th>masked_nll</th>\n",
       "      <th>replaced_nll</th>\n",
       "      <th>semanticness</th>\n",
       "      <th>contextualness</th>\n",
       "    </tr>\n",
       "    <tr>\n",
       "      <th>pos</th>\n",
       "      <th></th>\n",
       "      <th></th>\n",
       "      <th></th>\n",
       "      <th></th>\n",
       "      <th></th>\n",
       "    </tr>\n",
       "  </thead>\n",
       "  <tbody>\n",
       "    <tr>\n",
       "      <th>N</th>\n",
       "      <td>0.593909</td>\n",
       "      <td>3.292894</td>\n",
       "      <td>3.997100</td>\n",
       "      <td>3.104136</td>\n",
       "      <td>2.825332</td>\n",
       "    </tr>\n",
       "    <tr>\n",
       "      <th>V</th>\n",
       "      <td>0.490258</td>\n",
       "      <td>3.728331</td>\n",
       "      <td>3.213390</td>\n",
       "      <td>2.614008</td>\n",
       "      <td>2.998685</td>\n",
       "    </tr>\n",
       "    <tr>\n",
       "      <th>D</th>\n",
       "      <td>0.328676</td>\n",
       "      <td>3.576951</td>\n",
       "      <td>2.220796</td>\n",
       "      <td>1.931385</td>\n",
       "      <td>2.806129</td>\n",
       "    </tr>\n",
       "    <tr>\n",
       "      <th>O</th>\n",
       "      <td>0.344315</td>\n",
       "      <td>3.247282</td>\n",
       "      <td>2.730803</td>\n",
       "      <td>1.978800</td>\n",
       "      <td>2.612857</td>\n",
       "    </tr>\n",
       "  </tbody>\n",
       "</table>\n",
       "</div>"
      ],
      "text/plain": [
       "     full_nll  masked_nll  replaced_nll  semanticness  contextualness\n",
       "pos                                                                  \n",
       "N    0.593909    3.292894      3.997100      3.104136        2.825332\n",
       "V    0.490258    3.728331      3.213390      2.614008        2.998685\n",
       "D    0.328676    3.576951      2.220796      1.931385        2.806129\n",
       "O    0.344315    3.247282      2.730803      1.978800        2.612857"
      ]
     },
     "execution_count": 9,
     "metadata": {},
     "output_type": "execute_result"
    }
   ],
   "source": [
    "cols = \"cwnid,pos,target,full_nll,masked_nll,replaced_nll,semanticness,contextualness\"\n",
    "rating_seq_df = pd.DataFrame.from_records(rating_seq_data, columns=cols.split(\",\"))\n",
    "rating_seq_df = rating_seq_df.sort_values(\"pos\", key=lambda x: x.apply(lambda p: \"NVDO\".index(p)))\n",
    "rating_seq_df.drop([\"cwnid\", \"target\"], axis=1).groupby(\"pos\").median().reindex(list(\"NVDO\"))"
   ]
  },
  {
   "cell_type": "code",
   "execution_count": 10,
   "id": "3b05756b-ed69-45b5-a372-93f701b1b468",
   "metadata": {},
   "outputs": [
    {
     "data": {
      "text/plain": [
       "(-1.0, 10.0)"
      ]
     },
     "execution_count": 10,
     "metadata": {},
     "output_type": "execute_result"
    },
    {
     "data": {
      "image/png": "[encoded data removed]",
      "text/plain": [
       "<Figure size 432x288 with 1 Axes>"
      ]
     },
     "metadata": {
      "needs_background": "light"
     },
     "output_type": "display_data"
    }
   ],
   "source": [
    "import seaborn as sns\n",
    "ax = sns.boxplot(x=\"semanticness\", y='pos', \n",
    "                 data=rating_seq_df)\n",
    "ax.set_xlim((-1,10))"
   ]
  },
  {
   "cell_type": "code",
   "execution_count": 11,
   "id": "ad4e0c7a-ea45-48a9-9ca8-aedfbeb783ca",
   "metadata": {},
   "outputs": [
    {
     "data": {
      "text/plain": [
       "(-1.0, 10.0)"
      ]
     },
     "execution_count": 11,
     "metadata": {},
     "output_type": "execute_result"
    },
    {
     "data": {
      "image/png": "[encoded data removed]",
      "text/plain": [
       "<Figure size 432x288 with 1 Axes>"
      ]
     },
     "metadata": {
      "needs_background": "light"
     },
     "output_type": "display_data"
    }
   ],
   "source": [
    "import seaborn as sns\n",
    "ax = sns.boxplot(x=\"contextualness\", y='pos', \n",
    "                 data=(rating_seq_df\n",
    "                       .sort_values(\"pos\", \n",
    "                                    key=lambda x: x.apply(lambda p: \"NVDO\".index(p)))))\n",
    "ax.set_xlim((-1,10))"
   ]
  },
  {
   "cell_type": "code",
   "execution_count": 12,
   "id": "92c86dd8-eaa8-4119-9a17-97c12b358411",
   "metadata": {},
   "outputs": [],
   "source": [
    "out_path = \"../data/token-params-ratings.csv\"\n",
    "rating_seq_df.to_csv(out_path, index=False)"
   ]
  },
  {
   "cell_type": "markdown",
   "id": "3be1ffeb-b70d-4aea-8ec4-d1caf164bf28",
   "metadata": {},
   "source": [
    "## Output Hashes"
   ]
  },
  {
   "cell_type": "markdown",
   "id": "50e0cd7d-42f5-474c-a90c-53e0c579cd87",
   "metadata": {},
   "source": [
    "```\n",
    "..\\data\\token-params-ratings.csv 9fca28\n",
    "```"
   ]
  },
  {
   "cell_type": "code",
   "execution_count": 13,
   "id": "2863e8d2-ef74-4015-a9a5-3a9552059977",
   "metadata": {},
   "outputs": [
    {
     "name": "stdout",
     "output_type": "stream",
     "text": [
      "..\\data\\token-params-ratings.csv 9fca28\n"
     ]
    }
   ],
   "source": [
    "_ = check_hashes([out_path])"
   ]
  },
  {
   "cell_type": "code",
   "execution_count": null,
   "id": "df47dc01-4bad-46a9-a57d-b296960ab6a5",
   "metadata": {},
   "outputs": [],
   "source": []
  }
 ],
 "metadata": {
  "kernelspec": {
   "display_name": "Python 3 (ipykernel)",
   "language": "python",
   "name": "python3"
  },
  "language_info": {
   "codemirror_mode": {
    "name": "ipython",
    "version": 3
   },
   "file_extension": ".py",
   "mimetype": "text/x-python",
   "name": "python",
   "nbconvert_exporter": "python",
   "pygments_lexer": "ipython3",
   "version": "3.10.2"
  }
 },
 "nbformat": 4,
 "nbformat_minor": 5
}
