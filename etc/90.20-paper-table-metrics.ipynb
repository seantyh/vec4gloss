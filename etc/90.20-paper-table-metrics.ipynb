{
 "cells": [
  {
   "cell_type": "code",
   "execution_count": 1,
   "id": "83644ed9-b6ee-4d63-a096-45b06e3625b9",
   "metadata": {},
   "outputs": [],
   "source": [
    "%load_ext autoreload\n",
    "%autoreload 2\n",
    "import sys\n",
    "if \"../src\" not in sys.path:\n",
    "    sys.path.append(\"../src\")"
   ]
  },
  {
   "cell_type": "code",
   "execution_count": 2,
   "id": "8413e471-00f9-4aa6-a93e-765c509a71e0",
   "metadata": {},
   "outputs": [],
   "source": [
    "import numpy as np\n",
    "import pandas as pd\n",
    "import matplotlib.pyplot as plt\n",
    "from tqdm.auto import tqdm\n",
    "\n",
    "import vec4gloss\n",
    "from vec4gloss import check_hashes  "
   ]
  },
  {
   "cell_type": "markdown",
   "id": "4e0f3a83-00fc-4c91-b030-d302a2330891",
   "metadata": {},
   "source": [
    "## Data Dependencies"
   ]
  },
  {
   "cell_type": "markdown",
   "id": "0e099c96-90e7-47e8-9dfa-287852448f13",
   "metadata": {},
   "source": [
    "```\n",
    "../data/auto_metrics.csv 7930a0\n",
    "```"
   ]
  },
  {
   "cell_type": "code",
   "execution_count": 3,
   "id": "1f705956-ccf1-45c9-b9d3-c48e3f41e8e3",
   "metadata": {},
   "outputs": [
    {
     "name": "stdout",
     "output_type": "stream",
     "text": [
      "..\\data\\auto_metrics.csv 7930a0\n"
     ]
    }
   ],
   "source": [
    "_ = check_hashes(\"../data/auto_metrics.csv\")"
   ]
  },
  {
   "cell_type": "markdown",
   "id": "37a334ff-42eb-4a6d-8a54-33d8894b3f0a",
   "metadata": {},
   "source": [
    "## Load resources"
   ]
  },
  {
   "cell_type": "code",
   "execution_count": 4,
   "id": "92ef199c-afd4-43c0-aa16-5f1853451d74",
   "metadata": {},
   "outputs": [],
   "source": [
    "data = pd.read_csv(\"../data/auto_metrics.csv\")"
   ]
  },
  {
   "cell_type": "code",
   "execution_count": 5,
   "id": "44de6aa8-8680-4c39-8d26-23d0108a67b7",
   "metadata": {},
   "outputs": [
    {
     "data": {
      "text/html": [
       "<div>\n",
       "<style scoped>\n",
       "    .dataframe tbody tr th:only-of-type {\n",
       "        vertical-align: middle;\n",
       "    }\n",
       "\n",
       "    .dataframe tbody tr th {\n",
       "        vertical-align: top;\n",
       "    }\n",
       "\n",
       "    .dataframe thead th {\n",
       "        text-align: right;\n",
       "    }\n",
       "</style>\n",
       "<table border=\"1\" class=\"dataframe\">\n",
       "  <thead>\n",
       "    <tr style=\"text-align: right;\">\n",
       "      <th></th>\n",
       "      <th>n_sample</th>\n",
       "      <th>bleu_mean</th>\n",
       "      <th>meteor_mean</th>\n",
       "      <th>rouge_mean</th>\n",
       "      <th>bleu_se</th>\n",
       "      <th>meteor_se</th>\n",
       "      <th>rouge_se</th>\n",
       "    </tr>\n",
       "    <tr>\n",
       "      <th>pos</th>\n",
       "      <th></th>\n",
       "      <th></th>\n",
       "      <th></th>\n",
       "      <th></th>\n",
       "      <th></th>\n",
       "      <th></th>\n",
       "      <th></th>\n",
       "    </tr>\n",
       "  </thead>\n",
       "  <tbody>\n",
       "    <tr>\n",
       "      <th>N</th>\n",
       "      <td>2801</td>\n",
       "      <td>0.351040</td>\n",
       "      <td>0.586241</td>\n",
       "      <td>0.914749</td>\n",
       "      <td>0.007475</td>\n",
       "      <td>0.005587</td>\n",
       "      <td>0.004216</td>\n",
       "    </tr>\n",
       "    <tr>\n",
       "      <th>V</th>\n",
       "      <td>4376</td>\n",
       "      <td>0.434996</td>\n",
       "      <td>0.625141</td>\n",
       "      <td>0.874232</td>\n",
       "      <td>0.006130</td>\n",
       "      <td>0.004625</td>\n",
       "      <td>0.003787</td>\n",
       "    </tr>\n",
       "    <tr>\n",
       "      <th>D</th>\n",
       "      <td>432</td>\n",
       "      <td>0.408252</td>\n",
       "      <td>0.616829</td>\n",
       "      <td>0.815719</td>\n",
       "      <td>0.021168</td>\n",
       "      <td>0.015840</td>\n",
       "      <td>0.018018</td>\n",
       "    </tr>\n",
       "    <tr>\n",
       "      <th>O</th>\n",
       "      <td>530</td>\n",
       "      <td>0.410067</td>\n",
       "      <td>0.625508</td>\n",
       "      <td>0.757303</td>\n",
       "      <td>0.016867</td>\n",
       "      <td>0.013446</td>\n",
       "      <td>0.017195</td>\n",
       "    </tr>\n",
       "    <tr>\n",
       "      <th>Nb</th>\n",
       "      <td>414</td>\n",
       "      <td>0.632856</td>\n",
       "      <td>0.742545</td>\n",
       "      <td>0.888524</td>\n",
       "      <td>0.021533</td>\n",
       "      <td>0.016441</td>\n",
       "      <td>0.012069</td>\n",
       "    </tr>\n",
       "  </tbody>\n",
       "</table>\n",
       "</div>"
      ],
      "text/plain": [
       "     n_sample  bleu_mean  meteor_mean  rouge_mean   bleu_se  meteor_se  \\\n",
       "pos                                                                      \n",
       "N        2801   0.351040     0.586241    0.914749  0.007475   0.005587   \n",
       "V        4376   0.434996     0.625141    0.874232  0.006130   0.004625   \n",
       "D         432   0.408252     0.616829    0.815719  0.021168   0.015840   \n",
       "O         530   0.410067     0.625508    0.757303  0.016867   0.013446   \n",
       "Nb        414   0.632856     0.742545    0.888524  0.021533   0.016441   \n",
       "\n",
       "     rouge_se  \n",
       "pos            \n",
       "N    0.004216  \n",
       "V    0.003787  \n",
       "D    0.018018  \n",
       "O    0.017195  \n",
       "Nb   0.012069  "
      ]
     },
     "execution_count": 5,
     "metadata": {},
     "output_type": "execute_result"
    }
   ],
   "source": [
    "se = lambda x: np.std(x, ddof=1)/np.sqrt(len(x))\n",
    "eval_results_df = pd.DataFrame.from_records(data)\n",
    "eval_results_df.groupby(\"pos\")\\\n",
    "    .agg(\n",
    "        n_sample = (\"cwnid\", len),\n",
    "        bleu_mean=(\"bleu\", \"mean\"),\n",
    "        meteor_mean=(\"meteor\", \"mean\"),\n",
    "        rouge_mean=(\"rougeL_fmeasure\", \"mean\"),\n",
    "        bleu_se=(\"bleu\", se),\n",
    "        meteor_se=(\"meteor\", se),\n",
    "        rouge_se=(\"rougeL_fmeasure\", se)\n",
    "    ).sort_index(key=lambda x: [\"N,V,D,O,Nb\".split(\",\").index(p) for p in x])"
   ]
  },
  {
   "cell_type": "code",
   "execution_count": 6,
   "id": "1eb221d8-7895-4342-b580-5a1a47dde819",
   "metadata": {},
   "outputs": [
    {
     "data": {
      "text/plain": [
       "bleu      0.414183\n",
       "meteor    0.617687\n",
       "dtype: float64"
      ]
     },
     "execution_count": 6,
     "metadata": {},
     "output_type": "execute_result"
    }
   ],
   "source": [
    "data[[\"bleu\", \"meteor\"]].mean()"
   ]
  },
  {
   "cell_type": "code",
   "execution_count": 8,
   "id": "756550d6-997e-40b1-81f8-cdb47d8f7e1a",
   "metadata": {},
   "outputs": [
    {
     "data": {
      "text/plain": [
       "(0.004426287632642106, 0.003322553312070204)"
      ]
     },
     "execution_count": 8,
     "metadata": {},
     "output_type": "execute_result"
    }
   ],
   "source": [
    "se(data[\"bleu\"]), se(data[\"meteor\"])"
   ]
  },
  {
   "cell_type": "code",
   "execution_count": 7,
   "id": "390e330d-04b1-4f02-b3bb-09d94353be25",
   "metadata": {},
   "outputs": [
    {
     "data": {
      "text/plain": [
       "(8553, 8)"
      ]
     },
     "execution_count": 7,
     "metadata": {},
     "output_type": "execute_result"
    }
   ],
   "source": [
    "data.shape"
   ]
  },
  {
   "cell_type": "markdown",
   "id": "71517d74-8277-4f76-87d1-e56262098af7",
   "metadata": {},
   "source": [
    "## On proper names"
   ]
  },
  {
   "cell_type": "code",
   "execution_count": 13,
   "id": "6f997e94-e0f4-4b8f-ac62-664399579ddf",
   "metadata": {},
   "outputs": [],
   "source": [
    "from CwnGraph import CwnImage\n",
    "cwn = CwnImage.load(\"v.2022.06.21\")\n",
    "nb_cwnids = data.loc[data.pos==\"Nb\"].cwnid.tolist()"
   ]
  },
  {
   "cell_type": "code",
   "execution_count": 16,
   "id": "1f9678a4-1b46-4131-b269-5ab7dc4c5f04",
   "metadata": {},
   "outputs": [
    {
     "data": {
      "text/plain": [
       "[<CwnSense[04087601](伊，Nh): 代指說話者和聽話者以外的個人。>,\n",
       " <CwnSense[05207001](伊，D): 表剛剛。>,\n",
       " <CwnSense[05207101](伊，I): 模擬不易聽懂的說話聲。>,\n",
       " <CwnSense[05207201](伊，Nc): 國名，位於亞洲西部，首都為巴格達。>,\n",
       " <CwnSense[05207202](伊，Nb): 治理伊拉克的政府。>,\n",
       " <CwnSense[05207301](伊，Nc): 國名，位於亞洲西南部，首都為德黑蘭。>,\n",
       " <CwnSense[05207302](伊，Nb): 治理伊朗的政府。>,\n",
       " <CwnSense[05207401](伊，Nb): 姓。>]"
      ]
     },
     "execution_count": 16,
     "metadata": {},
     "output_type": "execute_result"
    }
   ],
   "source": [
    "cwn.find_all_senses(cwn.from_sense_id(nb_cwnids[0]).head_word)"
   ]
  },
  {
   "cell_type": "code",
   "execution_count": 20,
   "id": "babc1ae0-81c3-4b6e-bb71-f124836b1b19",
   "metadata": {},
   "outputs": [],
   "source": [
    "from collections import Counter\n",
    "nb_defs = Counter(cwn.from_sense_id(x).definition for x in nb_cwnids)"
   ]
  },
  {
   "cell_type": "code",
   "execution_count": 22,
   "id": "55ae81c7-dba0-4cb3-ba3e-bc7765011ec5",
   "metadata": {},
   "outputs": [
    {
     "data": {
      "text/plain": [
       "[('姓。', 179),\n",
       " ('外文名字。', 9),\n",
       " ('治理伊朗的政府。', 3),\n",
       " ('中國天文學的星宿，為北方玄武之一。', 3),\n",
       " ('中國近代政治家、軍事家，名中正，字介石，民國三十七年當選中華民國首任總統，民國三十八年帶領國民黨播遷到臺灣。', 3),\n",
       " ('中國天文學的星宿，為東方蒼龍之一。', 3),\n",
       " ('西洋十二星座之一，五月二十一日至六月二十日之間出生者的命宮。', 2),\n",
       " ('用於橋及其周遭區域的名稱。', 2),\n",
       " ('白話章回小說，相傳為元代施耐庵或明初羅貫中作。', 2),\n",
       " ('治理巴黎市的地方政府。', 2)]"
      ]
     },
     "execution_count": 22,
     "metadata": {},
     "output_type": "execute_result"
    }
   ],
   "source": [
    "nb_defs.most_common(10)"
   ]
  },
  {
   "cell_type": "code",
   "execution_count": null,
   "id": "1b26ffa7-a56a-42e4-8a50-84cf47d5f80c",
   "metadata": {},
   "outputs": [],
   "source": [
    "179 / "
   ]
  }
 ],
 "metadata": {
  "kernelspec": {
   "display_name": "Python 3 (ipykernel)",
   "language": "python",
   "name": "python3"
  },
  "language_info": {
   "codemirror_mode": {
    "name": "ipython",
    "version": 3
   },
   "file_extension": ".py",
   "mimetype": "text/x-python",
   "name": "python",
   "nbconvert_exporter": "python",
   "pygments_lexer": "ipython3",
   "version": "3.10.2"
  }
 },
 "nbformat": 4,
 "nbformat_minor": 5
}
