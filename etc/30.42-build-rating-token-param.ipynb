{
 "cells": [
  {
   "cell_type": "markdown",
   "id": "0916b8c2-35e3-4650-8949-97a91ed7ae8e",
   "metadata": {},
   "source": [
    "# Build event token param"
   ]
  },
  {
   "cell_type": "code",
   "execution_count": 3,
   "id": "e4706806-a00d-4050-9b2d-af0b789c173b",
   "metadata": {},
   "outputs": [],
   "source": [
    "%load_ext autoreload\n",
    "%autoreload 2\n",
    "import sys\n",
    "if \"../src\" not in sys.path:\n",
    "    sys.path.append(\"../src\")"
   ]
  },
  {
   "cell_type": "code",
   "execution_count": 12,
   "id": "ac3b387c-14bc-42f0-9fad-becd7698459f",
   "metadata": {},
   "outputs": [],
   "source": [
    "import re\n",
    "import pickle\n",
    "import json\n",
    "import random\n",
    "from datetime import datetime\n",
    "from pathlib import Path\n",
    "from dataclasses import dataclass\n",
    "from typing import List, Tuple, Dict\n",
    "\n",
    "import numpy as np\n",
    "import torch\n",
    "from tqdm.auto import tqdm\n",
    "\n",
    "from transformers import MT5TokenizerFast\n",
    "\n",
    "from CwnGraph import CwnImage\n",
    "import vec4gloss\n",
    "from vec4gloss import check_hashes\n",
    "from vec4gloss import Vec4GlossModel\n",
    "from vec4gloss import RatingFrameInfo\n",
    "\n",
    "from vec4gloss import TokenParam, TokenParamFactory"
   ]
  },
  {
   "cell_type": "markdown",
   "id": "a7e950b7-c21e-407e-9c78-3246ee1465c1",
   "metadata": {},
   "source": [
    "## Data dependencies\n",
    "```\n",
    "..\\data\\rating_materials.n10.raw.pkl 4b7ae3\n",
    "..\\data\\models\\vec4gloss-defgen-220629-1250\\pytorch_model.bin 9f894f\n",
    "```"
   ]
  },
  {
   "cell_type": "code",
   "execution_count": 5,
   "id": "988179fd-ce73-4741-b434-b93c5bf9dc0f",
   "metadata": {},
   "outputs": [
    {
     "name": "stdout",
     "output_type": "stream",
     "text": [
      "..\\data\\rating_materials.n10.raw.pkl 4b7ae3\n",
      "..\\data\\models\\vec4gloss-defgen-220629-1250\\pytorch_model.bin 9f894f\n"
     ]
    }
   ],
   "source": [
    "vec4gloss_model_dir = \"../data/models/vec4gloss-defgen-220629-1250\"\n",
    "_ = check_hashes([\n",
    "    \"../data/rating_materials.n10.raw.pkl\",\n",
    "    vec4gloss_model_dir + \"/pytorch_model.bin\",\n",
    "])"
   ]
  },
  {
   "cell_type": "markdown",
   "id": "361e2c7f-2493-464b-80a8-11eef946e23a",
   "metadata": {},
   "source": [
    "## Loading resources"
   ]
  },
  {
   "cell_type": "code",
   "execution_count": 6,
   "id": "cab82139-ddb9-4e57-99ef-06d879707307",
   "metadata": {},
   "outputs": [],
   "source": [
    "n10_data = pickle.loads(Path(\"../data/rating_materials.n10.raw.pkl\").read_bytes())"
   ]
  },
  {
   "cell_type": "code",
   "execution_count": 7,
   "id": "0588b40e-8cae-4c5a-8dae-a29c12258b60",
   "metadata": {},
   "outputs": [],
   "source": [
    "rating_evals = {k: v for k, v in n10_data.items()         \n",
    "            if v[\"from\"] == \"vec4gloss\"}"
   ]
  },
  {
   "cell_type": "code",
   "execution_count": 8,
   "id": "f727e5ae-c9ca-4908-832a-ebbb353032ca",
   "metadata": {},
   "outputs": [
    {
     "name": "stdout",
     "output_type": "stream",
     "text": [
      "Using cpu\n"
     ]
    }
   ],
   "source": [
    "## Loading modem\n",
    "use_cuda = torch.cuda.is_available() and \"GeForce\" not in torch.cuda.get_device_name()\n",
    "device = \"cuda\" if use_cuda else \"cpu\"    \n",
    "print(\"Using\", device)\n",
    "\n",
    "model = Vec4GlossModel.from_pretrained(vec4gloss_model_dir).to(device)\n",
    "tokenizer = MT5TokenizerFast.from_pretrained(vec4gloss_model_dir)\n",
    "gen = vec4gloss.gen_func(tokenizer, model)"
   ]
  },
  {
   "cell_type": "markdown",
   "id": "f4cdb3b0-984b-4bc9-8317-f8c4e96390e5",
   "metadata": {},
   "source": [
    "## Building TokenParams"
   ]
  },
  {
   "cell_type": "code",
   "execution_count": 13,
   "id": "26749cff-6f81-4eb3-90d9-16764e469193",
   "metadata": {},
   "outputs": [
    {
     "data": {
      "application/vnd.jupyter.widget-view+json": {
       "model_id": "bbe511a0d4e8409aa9a6d0bb598fd2f0",
       "version_major": 2,
       "version_minor": 0
      },
      "text/plain": [
       "  0%|          | 0/80 [00:00<?, ?it/s]"
      ]
     },
     "metadata": {},
     "output_type": "display_data"
    },
    {
     "data": {
      "application/vnd.jupyter.widget-view+json": {
       "model_id": "7d2e7ba894c04b2381f843b48d8d0c6a",
       "version_major": 2,
       "version_minor": 0
      },
      "text/plain": [
       "  0%|          | 0/80 [00:00<?, ?it/s]"
      ]
     },
     "metadata": {},
     "output_type": "display_data"
    }
   ],
   "source": [
    "torch.manual_seed(12345)\n",
    "rating_factory_list: List[Tuple[Dict[str, any], TokenParamFactory]] = []\n",
    "rating_frameinfo_list: List[RatingFrameInfo] = []\n",
    "empty_senses = []\n",
    "\n",
    "for entry_id, entry_x in tqdm(rating_evals.items()):\n",
    "    try:\n",
    "        example_sentences = [entry_x[\"example\"]]\n",
    "        tgt_definition = entry_x[\"tgt\"]\n",
    "        factory_x = TokenParamFactory(example_sentences, tgt_definition, tokenizer, model)\n",
    "        rating_factory_list.append((entry_x, factory_x))\n",
    "    except Exception as ex:\n",
    "        empty_senses.append(entry_id)\n",
    "\n",
    "rotated_list = list(range(len(rating_factory_list)))\n",
    "rotated_list = rotated_list[-1:] + rotated_list[:-1]\n",
    "\n",
    "for idx, (entry_x, factory_x) in enumerate(tqdm(rating_factory_list)):\n",
    "    replaced_idx = rotated_list[idx]\n",
    "    replaced_vec = rating_factory_list[replaced_idx][1].mean_vec\n",
    "    factory_x.set_replaced_vec(replaced_vec)\n",
    "    token_params = factory_x.build_all_sequences(dbg=False)\n",
    "    rating_frameinfo_list.append((entry_x, token_params))"
   ]
  },
  {
   "cell_type": "code",
   "execution_count": 14,
   "id": "75d1daea-ea92-45a6-98aa-6c3900818c8b",
   "metadata": {},
   "outputs": [
    {
     "data": {
      "text/plain": [
       "({'cwnid': '05142101',\n",
       "  'src': '有些人聽外國歌曲，剛開始聽的時候，很喜歡。因為他不太懂外文，<聽起來>很順耳。',\n",
       "  'tgt': 'D。表說話者對所聽到的聲音作評價。',\n",
       "  'pos': 'D',\n",
       "  'target': '聽起來',\n",
       "  'fillers': ['便', '怎能', '換句話說'],\n",
       "  'example': '有些人聽外國歌曲，剛開始聽的時候，很喜歡。因為他不太懂外文，<聽起來>很順耳。',\n",
       "  'from': 'vec4gloss',\n",
       "  'definition': '表說話者主觀的感覺。',\n",
       "  'item_id': 'D-07'},\n",
       " [<TokenParam 　表: F/A/D/R/X 1.00/0.99/1.00/1.00/0.00>,\n",
       "  <TokenParam 　說: F/A/D/R/X 0.91/0.89/0.86/0.00/0.00>,\n",
       "  <TokenParam 　話: F/A/D/R/X 1.00/1.00/1.00/1.00/0.00>,\n",
       "  <TokenParam 　者: F/A/D/R/X 0.97/0.99/0.23/0.99/0.00>,\n",
       "  <TokenParam 　對: F/A/D/R/X 0.34/0.31/0.01/0.17/0.00>,\n",
       "  <TokenParam 　所: F/A/D/R/X 0.03/0.07/0.00/0.00/0.00>,\n",
       "  <TokenParam 　聽: F/A/D/R/X 0.98/0.93/0.12/0.00/0.00>,\n",
       "  <TokenParam 到的: F/A/D/R/X 1.00/0.99/0.00/1.00/0.00>,\n",
       "  <TokenParam 　聲: F/A/D/R/X 0.41/0.58/0.95/0.00/0.00>,\n",
       "  <TokenParam 　音: F/A/D/R/X 1.00/0.99/0.14/0.07/0.00>,\n",
       "  <TokenParam 　作: F/A/D/R/X 0.01/0.00/0.00/0.03/0.00>,\n",
       "  <TokenParam 　評: F/A/D/R/X 1.00/1.00/0.00/0.99/0.00>,\n",
       "  <TokenParam 　價: F/A/D/R/X 0.91/0.88/0.96/0.10/0.00>])"
      ]
     },
     "execution_count": 14,
     "metadata": {},
     "output_type": "execute_result"
    }
   ],
   "source": [
    "rating_frameinfo_list[2]"
   ]
  },
  {
   "cell_type": "code",
   "execution_count": 15,
   "id": "127c28c4-0d12-4809-b00f-afb4fbadfa0d",
   "metadata": {},
   "outputs": [],
   "source": [
    "rating_params_list_path = \"../data/rating_tokenparams_list.pkl\"\n",
    "with open(rating_params_list_path, \"wb\") as fout:\n",
    "    pickle.dump(rating_frameinfo_list, fout)"
   ]
  },
  {
   "cell_type": "code",
   "execution_count": 18,
   "id": "6a29f6cf-cb7e-448e-814e-b6f1c33b7781",
   "metadata": {},
   "outputs": [],
   "source": [
    "from itertools import chain\n",
    "param_iter= chain.from_iterable(x[1] for x in rating_frameinfo_list)\n",
    "sem_tokens = [x for x in param_iter if x.full_prob / x.replaced_prob > 5 and x.full_prob>.8]"
   ]
  },
  {
   "cell_type": "markdown",
   "id": "a6a29899-c1a3-4197-9b03-d68b8ac45a4b",
   "metadata": {},
   "source": [
    "## Output Hashes"
   ]
  },
  {
   "cell_type": "markdown",
   "id": "30dc2e36-183f-4d3f-90ad-70cf4a676905",
   "metadata": {},
   "source": [
    "```\n",
    "..\\data\\rating_tokenparams_list.pkl 7f6db0\n",
    "```"
   ]
  },
  {
   "cell_type": "code",
   "execution_count": 16,
   "id": "9a88d826-42b9-4820-aad1-d30df9520fd8",
   "metadata": {},
   "outputs": [
    {
     "name": "stdout",
     "output_type": "stream",
     "text": [
      "..\\data\\rating_tokenparams_list.pkl 7f6db0\n"
     ]
    }
   ],
   "source": [
    "_ = check_hashes([rating_params_list_path])"
   ]
  },
  {
   "cell_type": "code",
   "execution_count": null,
   "id": "a4f25be3-4b83-4f25-b373-9f093ad7509c",
   "metadata": {},
   "outputs": [],
   "source": []
  }
 ],
 "metadata": {
  "kernelspec": {
   "display_name": "Python 3 (ipykernel)",
   "language": "python",
   "name": "python3"
  },
  "language_info": {
   "codemirror_mode": {
    "name": "ipython",
    "version": 3
   },
   "file_extension": ".py",
   "mimetype": "text/x-python",
   "name": "python",
   "nbconvert_exporter": "python",
   "pygments_lexer": "ipython3",
   "version": "3.10.2"
  }
 },
 "nbformat": 4,
 "nbformat_minor": 5
}
