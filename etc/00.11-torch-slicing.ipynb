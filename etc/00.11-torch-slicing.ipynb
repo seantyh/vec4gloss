{
 "cells": [
  {
   "cell_type": "code",
   "execution_count": 1,
   "id": "60aef837-d57b-4340-8c09-755af0fe5533",
   "metadata": {},
   "outputs": [],
   "source": [
    "%load_ext autoreload\n",
    "%autoreload 2\n",
    "import sys\n",
    "if \"../src\" not in sys.path:\n",
    "    sys.path.append(\"../src\")"
   ]
  },
  {
   "cell_type": "code",
   "execution_count": 6,
   "id": "d16458d2-9c15-4853-871f-78a5a4d274e3",
   "metadata": {},
   "outputs": [],
   "source": [
    "import torch\n",
    "from transformers import MT5Config, MT5TokenizerFast\n",
    "from vec4gloss.vec4gloss_model import Vec4GlossModel"
   ]
  },
  {
   "cell_type": "code",
   "execution_count": 3,
   "id": "2bcc719a-8ecc-4b13-bc8b-a496a4efa2b1",
   "metadata": {},
   "outputs": [
    {
     "name": "stderr",
     "output_type": "stream",
     "text": [
      "C:\\Python310\\lib\\site-packages\\transformers\\convert_slow_tokenizer.py:434: UserWarning: The sentencepiece tokenizer that you are converting to a fast tokenizer uses the byte fallback option which is not implemented in the fast tokenizers. In practice this means that the fast version of the tokenizer can produce unknown tokens whereas the sentencepiece version would have converted these unknown tokens into a sequence of byte tokens matching the original piece of text.\n",
      "  warnings.warn(\n"
     ]
    }
   ],
   "source": [
    "tokenizer = MT5TokenizerFast.from_pretrained(\"google/mt5-small\")"
   ]
  },
  {
   "cell_type": "code",
   "execution_count": 4,
   "id": "3b76541e-8cba-4d95-9226-45f939a790b9",
   "metadata": {},
   "outputs": [],
   "source": [
    "model = Vec4GlossModel(MT5Config.from_pretrained(\"google/mt5-small\"))"
   ]
  },
  {
   "cell_type": "code",
   "execution_count": 36,
   "id": "e6acfd2d-87fa-4b95-b081-1452de3a3d6b",
   "metadata": {},
   "outputs": [
    {
     "data": {
      "text/plain": [
       "{'input_ids': tensor([[   259, 222077,   1374, 200001,      1,      0],\n",
       "        [   259,  98173,   1193,  17481,  21270,      1]]), 'attention_mask': tensor([[1, 1, 1, 1, 1, 0],\n",
       "        [1, 1, 1, 1, 1, 1]]), 'start_markers': tensor([1, 2]), 'end_markers': tensor([2, 4]), 'labels': tensor([[   259,  12869,   1374,      1],\n",
       "        [   259, 146581,      1,      0]]), 'decoder_input_ids': tensor([[     0,    259,  12869,   1374],\n",
       "        [     0,    259, 146581,      1]])}"
      ]
     },
     "execution_count": 36,
     "metadata": {},
     "output_type": "execute_result"
    }
   ],
   "source": [
    "batch = tokenizer([\"這是一本書\", \"沒有人會來\"], return_tensors=\"pt\", padding=True)\n",
    "batch[\"start_markers\"] = torch.tensor([1,2])\n",
    "batch[\"end_markers\"] = torch.tensor([2,4])\n",
    "batch[\"labels\"] = tokenizer([\"初一\", \"十五\"], return_tensors=\"pt\", padding=True)[\"input_ids\"]\n",
    "batch[\"decoder_input_ids\"] = tokenizer([\"<pad>初一\", \"<pad>十五\"], \n",
    "                                       return_tensors=\"pt\", padding=True)[\"input_ids\"][:,:-1]\n",
    "batch"
   ]
  },
  {
   "cell_type": "code",
   "execution_count": 56,
   "id": "2e15d88d-045d-4829-94c4-63b6fc21a3df",
   "metadata": {},
   "outputs": [],
   "source": [
    "out, enc_last_hiddens = model(**batch)"
   ]
  },
  {
   "cell_type": "code",
   "execution_count": 57,
   "id": "35f629f7-64f3-4b2a-a84f-4810a265cf75",
   "metadata": {},
   "outputs": [],
   "source": [
    "model.zero_grad()"
   ]
  },
  {
   "cell_type": "code",
   "execution_count": 58,
   "id": "441fba41-df21-471b-a137-14032620bf72",
   "metadata": {},
   "outputs": [],
   "source": [
    "out.loss.backward()"
   ]
  },
  {
   "cell_type": "code",
   "execution_count": 59,
   "id": "03d4432c-467f-44e1-9b45-fb36ea6693ff",
   "metadata": {},
   "outputs": [
    {
     "data": {
      "text/plain": [
       "tensor([[ 0.5075,  0.0648, -0.4992,  ..., -0.2714, -0.4884,  0.0903],\n",
       "        [-0.4077,  0.5823,  1.0992,  ..., -0.1347, -0.1547,  0.0479],\n",
       "        [ 0.8445, -0.5915, -1.0442,  ..., -0.7448,  0.6044,  0.1048],\n",
       "        ...,\n",
       "        [ 0.6859, -0.9926, -1.7471,  ...,  0.2514, -0.3003,  0.0679],\n",
       "        [ 0.4580, -0.3477, -0.7394,  ...,  0.5804, -0.0328, -0.1260],\n",
       "        [ 0.2325, -0.5248, -0.2878,  ..., -1.0013, -0.3535,  0.2592]])"
      ]
     },
     "execution_count": 59,
     "metadata": {},
     "output_type": "execute_result"
    }
   ],
   "source": [
    "# looks like the gradient doesn't break\n",
    "list(model.encoder.named_parameters())[3][1].grad"
   ]
  },
  {
   "cell_type": "code",
   "execution_count": null,
   "id": "45339551-83b2-4b8e-904c-b3e0cd9ddc8d",
   "metadata": {},
   "outputs": [],
   "source": []
  }
 ],
 "metadata": {
  "kernelspec": {
   "display_name": "Python 3 (ipykernel)",
   "language": "python",
   "name": "python3"
  },
  "language_info": {
   "codemirror_mode": {
    "name": "ipython",
    "version": 3
   },
   "file_extension": ".py",
   "mimetype": "text/x-python",
   "name": "python",
   "nbconvert_exporter": "python",
   "pygments_lexer": "ipython3",
   "version": "3.10.2"
  }
 },
 "nbformat": 4,
 "nbformat_minor": 5
}
