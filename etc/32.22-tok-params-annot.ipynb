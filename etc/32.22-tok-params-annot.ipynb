{
 "cells": [
  {
   "cell_type": "markdown",
   "id": "2fdbc0e3-af53-4963-9c26-ed3b4ff2f77d",
   "metadata": {},
   "source": [
    "# Token Parameters - Annotation"
   ]
  },
  {
   "cell_type": "code",
   "execution_count": 1,
   "id": "3cc1ed3d-fdce-4214-81f4-39e8dd6d5ed0",
   "metadata": {},
   "outputs": [],
   "source": [
    "%load_ext autoreload\n",
    "%autoreload 2\n",
    "import sys\n",
    "if \"../src\" not in sys.path:\n",
    "    sys.path.append(\"../src\")"
   ]
  },
  {
   "cell_type": "code",
   "execution_count": 2,
   "id": "80054f97-ee91-440c-8cd0-bbcc2104ff7a",
   "metadata": {},
   "outputs": [],
   "source": [
    "import re\n",
    "import pickle\n",
    "import json\n",
    "import random\n",
    "from itertools import islice\n",
    "from pathlib import Path\n",
    "from dataclasses import dataclass\n",
    "from typing import List, Tuple, Union, Dict\n",
    "\n",
    "import numpy as np\n",
    "import pandas as pd\n",
    "import matplotlib.pyplot as plt\n",
    "from tqdm.auto import tqdm\n",
    "\n",
    "import vec4gloss\n",
    "from vec4gloss import check_hashes    \n",
    "from vec4gloss import (\n",
    "    AnnotFrameInfo, RatingFrameInfo, TokenParam\n",
    ")\n",
    "from vec4gloss import TokenStat, SequenceStat"
   ]
  },
  {
   "cell_type": "markdown",
   "id": "4b9ed9c1-1ad1-4d6d-92c4-5954ce25706a",
   "metadata": {},
   "source": [
    "## Data dependencies"
   ]
  },
  {
   "cell_type": "markdown",
   "id": "d03d1af6-738a-43e2-9f51-5b62617f03f8",
   "metadata": {},
   "source": [
    "```\n",
    "30.41 => ..\\data\\annot_tokenparams_list.pkl 1ff297\n",
    "```"
   ]
  },
  {
   "cell_type": "code",
   "execution_count": 3,
   "id": "828add04-4519-4f24-bd17-d3af20888ded",
   "metadata": {},
   "outputs": [
    {
     "name": "stdout",
     "output_type": "stream",
     "text": [
      "..\\data\\annot_tokenparams_list.pkl 1ff297\n"
     ]
    }
   ],
   "source": [
    "annot_info_path = \"../data/annot_tokenparams_list.pkl\"\n",
    "_ = check_hashes([annot_info_path])"
   ]
  },
  {
   "cell_type": "markdown",
   "id": "5d80b1e4-1d5d-44bb-a833-3fcc84effb9b",
   "metadata": {},
   "source": [
    "## Load resources"
   ]
  },
  {
   "cell_type": "code",
   "execution_count": 4,
   "id": "9e5052c1-1dfe-42ac-bdbd-0f293a9da0a8",
   "metadata": {},
   "outputs": [],
   "source": [
    "annot_infos = pickle.loads(Path(annot_info_path).read_bytes())"
   ]
  },
  {
   "cell_type": "code",
   "execution_count": 5,
   "id": "1f0b5b9d-1cdf-4133-a1f6-82280d018d6f",
   "metadata": {},
   "outputs": [
    {
     "data": {
      "text/plain": [
       "244"
      ]
     },
     "execution_count": 5,
     "metadata": {},
     "output_type": "execute_result"
    }
   ],
   "source": [
    "len(annot_infos)"
   ]
  },
  {
   "cell_type": "code",
   "execution_count": 6,
   "id": "f3930268-6aff-4af9-8909-7edc815c4acd",
   "metadata": {},
   "outputs": [
    {
     "data": {
      "text/plain": [
       "(AnnotFrame(sense_id=5071201, POS='D', head_word='實地', definition='表親身體驗後述事件。', event_role='patient ', schemas=[Scheme(type='--', start=0, end=1), Scheme(type='mod', start=1, end=3), Scheme(type='action', start=3, end=5), Scheme(type='event', start=5, end=9)]),\n",
       " [<TokenParam 　表: F/A/D/R/X 1.00/1.00/1.00/1.00/0.00>,\n",
       "  <TokenParam 　親: F/A/D/R/X 0.00/0.00/0.00/0.00/0.00>,\n",
       "  <TokenParam 　身: F/A/D/R/X 0.91/0.67/0.39/0.04/0.00>,\n",
       "  <TokenParam 　體: F/A/D/R/X 0.02/0.04/0.76/0.86/0.00>,\n",
       "  <TokenParam 　驗: F/A/D/R/X 1.00/1.00/0.01/0.92/0.00>,\n",
       "  <TokenParam 　後: F/A/D/R/X 0.00/0.00/0.00/0.00/0.00>,\n",
       "  <TokenParam 　述: F/A/D/R/X 0.02/0.37/1.00/0.15/0.00>,\n",
       "  <TokenParam 事件: F/A/D/R/X 0.38/0.08/0.12/0.67/0.00>])"
      ]
     },
     "execution_count": 6,
     "metadata": {},
     "output_type": "execute_result"
    }
   ],
   "source": [
    "annot_infos[1]"
   ]
  },
  {
   "cell_type": "code",
   "execution_count": 7,
   "id": "3d48e585-be9f-41ec-9fd7-89775ec02626",
   "metadata": {},
   "outputs": [],
   "source": [
    "frame_x = annot_infos[1]"
   ]
  },
  {
   "cell_type": "code",
   "execution_count": null,
   "id": "5ecf5735-8dbf-4d46-9cff-635aaecec4ce",
   "metadata": {},
   "outputs": [],
   "source": []
  },
  {
   "cell_type": "code",
   "execution_count": 8,
   "id": "c91f16fc-f8ff-4e71-9fa2-3fb84c7b8d8d",
   "metadata": {},
   "outputs": [
    {
     "data": {
      "application/vnd.jupyter.widget-view+json": {
       "model_id": "a54573024d484c069f15501b33fefddd",
       "version_major": 2,
       "version_minor": 0
      },
      "text/plain": [
       "  0%|          | 0/244 [00:00<?, ?it/s]"
      ]
     },
     "metadata": {},
     "output_type": "display_data"
    }
   ],
   "source": [
    "chunk_stats = []\n",
    "for frame_i, frame_x in enumerate(tqdm(annot_infos)):\n",
    "    annot = frame_x[0]\n",
    "    params = frame_x[1]\n",
    "    ## adverb only\n",
    "    if annot.POS != \"D\":\n",
    "        continue\n",
    "\n",
    "    bychar_stats = []    \n",
    "    for param_x in params:\n",
    "        stat_x = TokenStat(param_x)\n",
    "        bychar_stats.extend([stat_x]*len(param_x.token_text))\n",
    "    for schema_x in annot.schemas:    \n",
    "        schema_type = schema_x.type\n",
    "        s, e = schema_x.start, schema_x.end\n",
    "        semanticness_x = np.median([x.semanticness() for x in bychar_stats[s:e]])\n",
    "        contextualness_x = np.median([x.contextualness() for x in bychar_stats[s:e]])\n",
    "        chunk_stats.append({\n",
    "            \"frame_idx\": frame_i,\n",
    "            \"text\": annot.definition[s:e],\n",
    "            \"event_role\": annot.event_role,\n",
    "            \"type\": schema_type,\n",
    "            \"semanticness\": semanticness_x,\n",
    "            \"contextualness\": contextualness_x\n",
    "        })"
   ]
  },
  {
   "cell_type": "code",
   "execution_count": 9,
   "id": "3794ba1f-5987-47e6-bcc2-07e4fb11f452",
   "metadata": {},
   "outputs": [],
   "source": [
    "chunk_stats_df = pd.DataFrame.from_records(chunk_stats)"
   ]
  },
  {
   "cell_type": "code",
   "execution_count": 10,
   "id": "aa020d9e-b6ac-4a56-bdab-f9142d855e43",
   "metadata": {},
   "outputs": [
    {
     "data": {
      "text/plain": [
       "244"
      ]
     },
     "execution_count": 10,
     "metadata": {},
     "output_type": "execute_result"
    }
   ],
   "source": [
    "## only include schema types occured in more than 10% of the sequences\n",
    "len(annot_infos)"
   ]
  },
  {
   "cell_type": "code",
   "execution_count": 11,
   "id": "0b8b42f6-7644-4db7-9aed-173d82111729",
   "metadata": {},
   "outputs": [],
   "source": [
    "type_stats = chunk_stats_df.drop([\"frame_idx\", \"text\", \"event_role\"], axis=1)\\\n",
    "    .groupby(\"type\")\\\n",
    "    .agg(n=('semanticness', len), \n",
    "         semanticness=('semanticness', np.median),\n",
    "         contextualness=('contextualness', np.median),)\\\n",
    "    .query(\"n>24.4 and type!='--'\")\\\n",
    "    .sort_values(\"semanticness\", ascending=False)"
   ]
  },
  {
   "cell_type": "code",
   "execution_count": 12,
   "id": "91a04326-e155-47bb-a6b2-f74a34828ee1",
   "metadata": {},
   "outputs": [
    {
     "data": {
      "text/html": [
       "<div>\n",
       "<style scoped>\n",
       "    .dataframe tbody tr th:only-of-type {\n",
       "        vertical-align: middle;\n",
       "    }\n",
       "\n",
       "    .dataframe tbody tr th {\n",
       "        vertical-align: top;\n",
       "    }\n",
       "\n",
       "    .dataframe thead th {\n",
       "        text-align: right;\n",
       "    }\n",
       "</style>\n",
       "<table border=\"1\" class=\"dataframe\">\n",
       "  <thead>\n",
       "    <tr style=\"text-align: right;\">\n",
       "      <th></th>\n",
       "      <th>n</th>\n",
       "      <th>semanticness</th>\n",
       "      <th>contextualness</th>\n",
       "    </tr>\n",
       "    <tr>\n",
       "      <th>type</th>\n",
       "      <th></th>\n",
       "      <th></th>\n",
       "      <th></th>\n",
       "    </tr>\n",
       "  </thead>\n",
       "  <tbody>\n",
       "    <tr>\n",
       "      <th>neg</th>\n",
       "      <td>34</td>\n",
       "      <td>1.447938</td>\n",
       "      <td>1.651243</td>\n",
       "    </tr>\n",
       "    <tr>\n",
       "      <th>noun</th>\n",
       "      <td>48</td>\n",
       "      <td>0.908329</td>\n",
       "      <td>3.152485</td>\n",
       "    </tr>\n",
       "    <tr>\n",
       "      <th>scope</th>\n",
       "      <td>67</td>\n",
       "      <td>0.753869</td>\n",
       "      <td>1.540626</td>\n",
       "    </tr>\n",
       "    <tr>\n",
       "      <th>mod</th>\n",
       "      <td>67</td>\n",
       "      <td>0.728925</td>\n",
       "      <td>0.688785</td>\n",
       "    </tr>\n",
       "    <tr>\n",
       "      <th>action</th>\n",
       "      <td>159</td>\n",
       "      <td>0.237417</td>\n",
       "      <td>2.720058</td>\n",
       "    </tr>\n",
       "    <tr>\n",
       "      <th>event</th>\n",
       "      <td>162</td>\n",
       "      <td>0.024563</td>\n",
       "      <td>0.295381</td>\n",
       "    </tr>\n",
       "  </tbody>\n",
       "</table>\n",
       "</div>"
      ],
      "text/plain": [
       "          n  semanticness  contextualness\n",
       "type                                     \n",
       "neg      34      1.447938        1.651243\n",
       "noun     48      0.908329        3.152485\n",
       "scope    67      0.753869        1.540626\n",
       "mod      67      0.728925        0.688785\n",
       "action  159      0.237417        2.720058\n",
       "event   162      0.024563        0.295381"
      ]
     },
     "execution_count": 12,
     "metadata": {},
     "output_type": "execute_result"
    }
   ],
   "source": [
    "type_stats"
   ]
  },
  {
   "cell_type": "code",
   "execution_count": 13,
   "id": "9336d0d4-662c-4272-b074-ec50f156432a",
   "metadata": {},
   "outputs": [
    {
     "data": {
      "text/plain": [
       "Text(0.5, 1.0, 'Event annotations types')"
      ]
     },
     "execution_count": 13,
     "metadata": {},
     "output_type": "execute_result"
    },
    {
     "data": {
      "image/png": "[encoded data removed]",
      "text/plain": [
       "<Figure size 432x288 with 1 Axes>"
      ]
     },
     "metadata": {
      "needs_background": "light"
     },
     "output_type": "display_data"
    }
   ],
   "source": [
    "plt.plot(type_stats.semanticness, type_stats.contextualness, '.')\n",
    "for i in range(type_stats.shape[0]):\n",
    "    plt.text(type_stats.semanticness[i], type_stats.contextualness[i], \n",
    "             type_stats.index.values[i], fontsize=14)\n",
    "plt.xlabel(\"semanticness\")\n",
    "plt.ylabel(\"contextualness\")\n",
    "plt.title(\"Event annotations types\", fontsize=16)"
   ]
  },
  {
   "cell_type": "code",
   "execution_count": 14,
   "id": "adaf7c6f-71dc-4bf0-b4a5-340efb642a7b",
   "metadata": {},
   "outputs": [],
   "source": [
    "def list_type_text(schema_type):\n",
    "    return \" \".join(chunk_stats_df.loc[chunk_stats_df.type==schema_type, \"text\"].tolist())"
   ]
  },
  {
   "cell_type": "code",
   "execution_count": 15,
   "id": "8fc7abdd-6f09-4ef3-8042-e45d53ea3369",
   "metadata": {},
   "outputs": [
    {
     "data": {
      "text/plain": [
       "'不 沒有 不 沒有 未 不 不 不 不 不必 沒有 不 沒有 非 非 不 不 無法 不 不 不長 還沒 不 不 不 不 無法 沒有 不 沒有 不 沒有 不 否定'"
      ]
     },
     "execution_count": 15,
     "metadata": {},
     "output_type": "execute_result"
    }
   ],
   "source": [
    "list_type_text(\"neg\")"
   ]
  },
  {
   "cell_type": "code",
   "execution_count": 16,
   "id": "20c1fe4a-dede-4071-99ed-70609204b546",
   "metadata": {},
   "outputs": [
    {
     "data": {
      "text/plain": [
       "'去做 體驗 達到 成立 完成 發生 做 做 做 發生 進行 持續 進行 產生 進行 進行 涉及 設定 做 做到 做 進行 從事 進行 接 發生 做 進行 他人知道 達到 成立 做 做 發生 做 出現 發生 發生 發生 確定 詢問原因 持續 發生 發生 發生 涵蓋 改變 發展 造成 包含 直接參與 發生 進行 觀察到 做 發展 做 發生 發生 發生 發生 發生 驚訝 完成 影響 進行 發生 做 預測 發生 強調 繼續 開始 令人感到意外 同時 發生 發生 發生 發生過 發生 發生 經過 成立 變化 實際 持續 間斷 達到 發展到 發生 實現 牽涉 強調 發生 已達成 發生 發生 發生 表達 發生 競爭以取得 做 做 做 肯定 完成 進展 完成 想辦法 完成 利用 進行 進行 提出 進行 進行 說話 發生或完成 預期 發生 發生 存在 進行 達到 做 允許 發生 發生 發生過 導致 做 做 經歷 堅持進行 進行 進行 進行 進行 做 發生 做 做 完成 實現 做 做 認為 做 做 完成 影響到 成立 進行 進行 請求 進行 接續 作評價 肯定'"
      ]
     },
     "execution_count": 16,
     "metadata": {},
     "output_type": "execute_result"
    }
   ],
   "source": [
    "list_type_text(\"action\")"
   ]
  },
  {
   "cell_type": "code",
   "execution_count": 17,
   "id": "eed663f7-3347-44ef-b36b-67fe922b5d51",
   "metadata": {},
   "outputs": [
    {
     "data": {
      "text/plain": [
       "'很短的時間內 時間 發生時間點 過去 現在 始 終 最後 後述時段 開始 結束 特定時間參考點 時間 一段時間 發生 同一時段 未來 期限 很短的時間 過去到現在 現在 時段'"
      ]
     },
     "execution_count": 17,
     "metadata": {},
     "output_type": "execute_result"
    }
   ],
   "source": [
    "list_type_text(\"time\")"
   ]
  },
  {
   "cell_type": "code",
   "execution_count": 18,
   "id": "3bb9e251-96ae-46ac-a992-0922332b52a5",
   "metadata": {},
   "outputs": [
    {
     "data": {
      "text/plain": [
       "'預期中 條件 預期 預期 足夠的時間 預期的效果 任何限制 其他媒介 受特定條件的限制 能力或條件不夠的情況 條件 其他媒介 趣味 頻率 疑問 肯定 現場 道理 相同動作 時段 間隔 預期 合理條件 假設的時間 主觀評價 前述描述 後述描述 目的 後述變化 立場 比例 機會 個人意願 能力 能力 後述時間或狀況 要求 重要影響 預期效果 能力 需要的時候 必要條件 可能性 願望 必要 條件 他人 語氣'"
      ]
     },
     "execution_count": 18,
     "metadata": {},
     "output_type": "execute_result"
    }
   ],
   "source": [
    "list_type_text(\"noun\")"
   ]
  },
  {
   "cell_type": "code",
   "execution_count": null,
   "id": "f3100ade-daf4-4395-8ebf-bc0dbf7be4ca",
   "metadata": {},
   "outputs": [],
   "source": []
  }
 ],
 "metadata": {
  "kernelspec": {
   "display_name": "Python 3 (ipykernel)",
   "language": "python",
   "name": "python3"
  },
  "language_info": {
   "codemirror_mode": {
    "name": "ipython",
    "version": 3
   },
   "file_extension": ".py",
   "mimetype": "text/x-python",
   "name": "python",
   "nbconvert_exporter": "python",
   "pygments_lexer": "ipython3",
   "version": "3.10.2"
  }
 },
 "nbformat": 4,
 "nbformat_minor": 5
}
