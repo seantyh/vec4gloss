{
 "cells": [
  {
   "cell_type": "code",
   "execution_count": 1,
   "id": "e4706806-a00d-4050-9b2d-af0b789c173b",
   "metadata": {},
   "outputs": [],
   "source": [
    "%load_ext autoreload\n",
    "%autoreload 2\n",
    "import sys\n",
    "if \"../src\" not in sys.path:\n",
    "    sys.path.append(\"../src\")"
   ]
  },
  {
   "cell_type": "code",
   "execution_count": 2,
   "id": "ac3b387c-14bc-42f0-9fad-becd7698459f",
   "metadata": {},
   "outputs": [],
   "source": [
    "import re\n",
    "import pickle\n",
    "import json\n",
    "import random\n",
    "from datetime import datetime\n",
    "from pathlib import Path\n",
    "from dataclasses import dataclass\n",
    "from typing import List\n",
    "\n",
    "import numpy as np\n",
    "import torch\n",
    "from tqdm.auto import tqdm\n",
    "\n",
    "from transformers import MT5TokenizerFast\n",
    "\n",
    "from CwnGraph import CwnImage\n",
    "import vec4gloss\n",
    "from vec4gloss import check_hashes\n",
    "from vec4gloss import Vec4GlossModel"
   ]
  },
  {
   "cell_type": "markdown",
   "id": "a7e950b7-c21e-407e-9c78-3246ee1465c1",
   "metadata": {},
   "source": [
    "## Data dependencies\n",
    "```\n",
    "..\\data\\annotation.json 2ed250\n",
    "..\\data\\models\\vec4gloss-defgen-220629-1250\\pytorch_model.bin 9f894f\n",
    "```"
   ]
  },
  {
   "cell_type": "code",
   "execution_count": 3,
   "id": "988179fd-ce73-4741-b434-b93c5bf9dc0f",
   "metadata": {},
   "outputs": [
    {
     "name": "stdout",
     "output_type": "stream",
     "text": [
      "..\\data\\annotation.json 2ed250\n",
      "..\\data\\models\\vec4gloss-defgen-220629-1250\\pytorch_model.bin 9f894f\n"
     ]
    }
   ],
   "source": [
    "vec4gloss_model_dir = \"../data/models/vec4gloss-defgen-220629-1250\"\n",
    "_ = check_hashes([\n",
    "    \"../data/annotation.json\",\n",
    "    vec4gloss_model_dir + \"/pytorch_model.bin\",\n",
    "])"
   ]
  },
  {
   "cell_type": "markdown",
   "id": "361e2c7f-2493-464b-80a8-11eef946e23a",
   "metadata": {},
   "source": [
    "## Loading resources"
   ]
  },
  {
   "cell_type": "code",
   "execution_count": 4,
   "id": "cab82139-ddb9-4e57-99ef-06d879707307",
   "metadata": {},
   "outputs": [],
   "source": [
    "annot_data = json.loads(Path(\"../data/annotation.json\").read_text(encoding=\"UTF-8\"))"
   ]
  },
  {
   "cell_type": "code",
   "execution_count": 5,
   "id": "0588b40e-8cae-4c5a-8dae-a29c12258b60",
   "metadata": {},
   "outputs": [
    {
     "data": {
      "text/plain": [
       "(288,\n",
       " {'sense_id': 3048001,\n",
       "  'head_word': '沿街',\n",
       "  'POS': 'D',\n",
       "  'definition': '表同一事件在經過的街道中重複發生。',\n",
       "  'event_role': 'agent',\n",
       "  'schemas': [{'type': 'event', 'start': 1, 'end': 5},\n",
       "   {'type': 'scope', 'start': 5, 'end': 6},\n",
       "   {'type': 'place', 'start': 6, 'end': 11},\n",
       "   {'type': 'scope', 'start': 11, 'end': 12},\n",
       "   {'type': 'mod', 'start': 12, 'end': 14},\n",
       "   {'type': 'action', 'start': 14, 'end': 16}]})"
      ]
     },
     "execution_count": 5,
     "metadata": {},
     "output_type": "execute_result"
    }
   ],
   "source": [
    "len(annot_data), annot_data[45]"
   ]
  },
  {
   "cell_type": "code",
   "execution_count": 6,
   "id": "f727e5ae-c9ca-4908-832a-ebbb353032ca",
   "metadata": {},
   "outputs": [
    {
     "name": "stdout",
     "output_type": "stream",
     "text": [
      "Using cpu\n"
     ]
    }
   ],
   "source": [
    "## Loading modem\n",
    "use_cuda = torch.cuda.is_available() and \"GeForce\" not in torch.cuda.get_device_name()\n",
    "device = \"cuda\" if use_cuda else \"cpu\"    \n",
    "print(\"Using\", device)\n",
    "\n",
    "model = Vec4GlossModel.from_pretrained(vec4gloss_model_dir).to(device)\n",
    "tokenizer = MT5TokenizerFast.from_pretrained(vec4gloss_model_dir)\n",
    "gen = vec4gloss.gen_func(tokenizer, model)"
   ]
  },
  {
   "cell_type": "code",
   "execution_count": 7,
   "id": "d6cc531a-05c5-418a-afe3-9807892cc619",
   "metadata": {},
   "outputs": [],
   "source": [
    "CWN_VER = \"v.2022.06.21\"\n",
    "cwn = CwnImage.load(CWN_VER)"
   ]
  },
  {
   "cell_type": "markdown",
   "id": "3bedb3d6-5f8e-4ce3-ae65-b19badeaccde",
   "metadata": {
    "tags": []
   },
   "source": [
    "## Annotation Frame"
   ]
  },
  {
   "cell_type": "code",
   "execution_count": 9,
   "id": "f586b202-f518-43ef-b27f-d762427e62aa",
   "metadata": {},
   "outputs": [],
   "source": [
    "from dataclasses import dataclass\n",
    "@dataclass\n",
    "class Scheme:\n",
    "    type: str; start: int; end: int\n",
    "@dataclass\n",
    "class AnnotFrame:\n",
    "    sense_id: str;    POS: str; head_word: str\n",
    "    definition: str;  event_role: str\n",
    "    schemas: List[Scheme]\n",
    "    \n",
    "    def __post_init__(self):\n",
    "        self.schemas = self.preprocess()\n",
    "        \n",
    "    def get_frame(self, frame_idx):\n",
    "        frame_x = self.schemas[frame_idx]\n",
    "        s, e = frame_x.start, frame_x.end\n",
    "        return (frame_x.type, self.definition[s:e])\n",
    "    \n",
    "    def preprocess(self):        \n",
    "        new_frames = []\n",
    "        idx = 0\n",
    "        for frame_x in self.schemas:\n",
    "            if idx < frame_x.start:\n",
    "                new_frames.append(Scheme('--', idx, frame_x.start))                \n",
    "            elif idx > frame_x.start:\n",
    "                assert(\"shouldn't happen\")\n",
    "            new_frames.append(frame_x)\n",
    "            idx = frame_x.end\n",
    "        return new_frames\n",
    "    \n",
    "    def show(self):\n",
    "        print(\" \".join([\n",
    "            \"<{}>{}\".format(\n",
    "                x.type, self.definition[x.start:x.end]) \n",
    "            for x in self.schemas\n",
    "        ]))"
   ]
  },
  {
   "cell_type": "code",
   "execution_count": 10,
   "id": "0a5c53f4-ab5f-4132-a540-9f28d1946652",
   "metadata": {
    "tags": []
   },
   "outputs": [],
   "source": [
    "from collections import Counter\n",
    "annot_frames = []\n",
    "for annot_i, annot_x in enumerate(annot_data):\n",
    "    schemas = [Scheme(**x) for x in annot_x[\"schemas\"]]\n",
    "    annot_y = {k: v for k, v in annot_x.items() if k!=\"schemas\"}    \n",
    "    frame_x = AnnotFrame(**annot_y, schemas=schemas)\n",
    "    annot_frames.append(frame_x)        "
   ]
  },
  {
   "cell_type": "code",
   "execution_count": 11,
   "id": "c9b5ba2e-4f57-41d4-9fe3-c286c51985f9",
   "metadata": {},
   "outputs": [
    {
     "name": "stdout",
     "output_type": "stream",
     "text": [
      "<-->表 <reason>為同一特定原因 <-->而 <mod>一起 <action>做 <event>後述事件\n"
     ]
    }
   ],
   "source": [
    "annot_frames[20].show()"
   ]
  },
  {
   "cell_type": "markdown",
   "id": "f4cdb3b0-984b-4bc9-8317-f8c4e96390e5",
   "metadata": {},
   "source": [
    "## Decoding"
   ]
  },
  {
   "cell_type": "code",
   "execution_count": 12,
   "id": "674cd4bf-6ae4-4687-966e-9b671be81dc8",
   "metadata": {},
   "outputs": [],
   "source": [
    "@dataclass\n",
    "class DepWinOutput:\n",
    "    dep_win: int\n",
    "    lratio: float\n",
    "    token_probs: List[float]\n",
    "    lratios: List[float]\n",
    "    token_text: str\n",
    "    dep_text: str\n",
    "    \n",
    "    def __repr__(self):\n",
    "        return \"[{:5.2f}] {:\\u3000>2s} <- {}\".format(\n",
    "            self.lratio, self.token_text, self.dep_text)"
   ]
  },
  {
   "cell_type": "code",
   "execution_count": 13,
   "id": "4a00d723-c268-4d11-8316-a40a1dd4f81c",
   "metadata": {},
   "outputs": [],
   "source": [
    "def compute_mean_vec(examples):       \n",
    "    enc_vecs = []\n",
    "    for ex in examples:\n",
    "        try:\n",
    "            with torch.no_grad():\n",
    "                enc_vecs.append(vec4gloss.extract_encoder_vector(ex, tokenizer, model))\n",
    "        except AssertionError:\n",
    "            pass\n",
    "    return torch.cat(enc_vecs).mean(0, keepdim=True).to(device)"
   ]
  },
  {
   "cell_type": "code",
   "execution_count": 14,
   "id": "af7b4e4a-1e02-4655-b8af-d599000bbfbb",
   "metadata": {},
   "outputs": [],
   "source": [
    "def compute_dependents(tgt_seq, tgt_idx, dbg=False):\n",
    "    assert tgt_idx < len(tgt_seq)\n",
    "    token_probs = []    \n",
    "    generated = [0] + tgt_seq[:tgt_idx]\n",
    "    tgt_token = tgt_seq[tgt_idx]\n",
    "    ret_lr = 0    \n",
    "    lrs = []\n",
    "    \n",
    "    def dbg_print(*x):\n",
    "        if dbg: print(*x)\n",
    "        \n",
    "    dbg_print(\"target: \", tokenizer.decode([tgt_token]))\n",
    "    for cursor in range(min(4, len(generated))):\n",
    "        seq_mask = torch.ones(1, len(generated), dtype=torch.long)\n",
    "        seq_mask[0, len(generated)-cursor:] = 0\n",
    "        seq_mask.to(device)        \n",
    "        input_ids = torch.tensor([generated]).to(device)     \n",
    "        with torch.no_grad():        \n",
    "            out = model(decoder_encoder_vector=mean_vec, \n",
    "                        decoder_input_ids=input_ids,\n",
    "                        decoder_attention_mask=seq_mask)                \n",
    "        token_prob = out.logits.softmax(-1)[0, -1, tgt_token].item()        \n",
    "        token_probs.append(token_prob)\n",
    "        mask_text = tokenizer.decode(torch.mul(input_ids, seq_mask)[0, 1:])\n",
    "        mask_text = mask_text.replace(\"<pad>\", \"□\")        \n",
    "                \n",
    "        if len(token_probs) > 1:                  \n",
    "            lr = token_probs[0]/token_probs[-1]\n",
    "        else:\n",
    "            lr = 0\n",
    "        lrs.append(lr)\n",
    "        dbg_print(\"({:>2d}) [{:.4f}] {} ({:.2f})\".format(cursor, token_prob, mask_text, lr))\n",
    "    \n",
    "    win = len(lrs)-1\n",
    "    ret_lr = lrs[-1]\n",
    "    for lr_i, lr_x in enumerate(lrs):\n",
    "        if lr_x > 2:            \n",
    "            win = lr_i\n",
    "            ret_lr = lr_x\n",
    "            break                \n",
    "    return DepWinOutput(win, ret_lr, token_probs, lrs, dep_text=None, token_text=None)"
   ]
  },
  {
   "cell_type": "markdown",
   "id": "8d9f4396-865f-47ef-b0af-38a9418e83f2",
   "metadata": {},
   "source": [
    "## Building decoder data objects"
   ]
  },
  {
   "cell_type": "code",
   "execution_count": null,
   "id": "d122e1b4-f1fe-441c-831a-9138c1227221",
   "metadata": {},
   "outputs": [],
   "source": [
    "annot_dec_objects = []\n",
    "for annot_x in tqdm(annot_frames):    \n",
    "    try:\n",
    "        example_sentences = cwn.from_sense_id(\"{:08d}\".format(annot_x.sense_id)).examples        \n",
    "        mean_vec = compute_mean_vec(example_sentences)\n",
    "        # print(annot_x.head_word)\n",
    "        tgt_text = \"{}。{}\".format(annot_x.POS, annot_x.definition)\n",
    "        tgt_seq = tokenizer(tgt_text)[\"input_ids\"]\n",
    "        # print(\"Tgt:\", tgt_text)\n",
    "        # print(\"Gen:\", vec4gloss.decode_vector(mean_vec, tokenizer, model))\n",
    "        dec_info = []\n",
    "        for idx in range(2, len(tgt_seq)-2):    \n",
    "            token_text = tokenizer.convert_ids_to_tokens(tgt_seq[idx])    \n",
    "            dep_out = compute_dependents(tgt_seq, idx, dbg=False)    \n",
    "            dep_text = tokenizer.decode(tgt_seq[idx-dep_out.dep_win:idx])\n",
    "            dep_out.dep_text = dep_text\n",
    "            dep_out.token_text = token_text\n",
    "            dec_info.append(dep_out)\n",
    "        annot_dec_objects.append((annot_x, dec_info))    \n",
    "    except Exception as ex:\n",
    "        print(ex)        "
   ]
  },
  {
   "cell_type": "code",
   "execution_count": 17,
   "id": "212b6e07-c52e-408c-8c49-c10f3eeef11f",
   "metadata": {},
   "outputs": [],
   "source": [
    "annot_dec_objects_path = \"../data/annot_dec_objects.pkl\"\n",
    "with open(annot_dec_objects_path, \"wb\") as fout:\n",
    "    pickle.dump(annot_dec_objects, fout)"
   ]
  },
  {
   "cell_type": "code",
   "execution_count": 21,
   "id": "cf8de190-402e-4f60-986e-d25ea783bf6a",
   "metadata": {},
   "outputs": [
    {
     "data": {
      "application/vnd.jupyter.widget-view+json": {
       "model_id": "2c5e04c062564282beaca15311ca101f",
       "version_major": 2,
       "version_minor": 0
      },
      "text/plain": [
       "  0%|          | 0/288 [00:00<?, ?it/s]"
      ]
     },
     "metadata": {},
     "output_type": "display_data"
    },
    {
     "data": {
      "text/plain": [
       "20"
      ]
     },
     "execution_count": 21,
     "metadata": {},
     "output_type": "execute_result"
    }
   ],
   "source": [
    "## there are senses having no example sentences\n",
    "empty_senses = []\n",
    "for annot_x in tqdm(annot_frames):        \n",
    "    example_sentences = cwn.from_sense_id(\"{:08d}\".format(annot_x.sense_id)).examples        \n",
    "    if not example_sentences:\n",
    "        empty_senses.append(annot_x.sense_id)\n",
    "len(empty_senses)"
   ]
  },
  {
   "cell_type": "code",
   "execution_count": 19,
   "id": "cfa13c9f-1319-4b23-a8e2-67a6f31b9618",
   "metadata": {},
   "outputs": [
    {
     "data": {
      "text/plain": [
       "265"
      ]
     },
     "execution_count": 19,
     "metadata": {},
     "output_type": "execute_result"
    }
   ],
   "source": [
    "len(annot_dec_objects)"
   ]
  },
  {
   "cell_type": "markdown",
   "id": "a6a29899-c1a3-4197-9b03-d68b8ac45a4b",
   "metadata": {},
   "source": [
    "## Output Hashes"
   ]
  },
  {
   "cell_type": "markdown",
   "id": "6bc1cd7f-d520-490d-b147-be9d8f9a0392",
   "metadata": {},
   "source": [
    "```\n",
    "..\\data\\annot_dec_objects.pkl 68ef27\n",
    "```"
   ]
  },
  {
   "cell_type": "code",
   "execution_count": 22,
   "id": "9a88d826-42b9-4820-aad1-d30df9520fd8",
   "metadata": {},
   "outputs": [
    {
     "name": "stdout",
     "output_type": "stream",
     "text": [
      "..\\data\\annot_dec_objects.pkl 68ef27\n"
     ]
    }
   ],
   "source": [
    "_ = check_hashes([annot_dec_objects_path])"
   ]
  },
  {
   "cell_type": "code",
   "execution_count": null,
   "id": "821dbf9b-e254-4dc9-bc72-4332a008884b",
   "metadata": {},
   "outputs": [],
   "source": [
    "annot_frames[20].show()"
   ]
  },
  {
   "cell_type": "code",
   "execution_count": null,
   "id": "24aa9819-ea8c-4af0-9847-ab9f34f93874",
   "metadata": {},
   "outputs": [],
   "source": [
    "dep_out = compute_dependents(tgt_seq, 7, dbg=True)"
   ]
  },
  {
   "cell_type": "code",
   "execution_count": null,
   "id": "a4f25be3-4b83-4f25-b373-9f093ad7509c",
   "metadata": {},
   "outputs": [],
   "source": []
  }
 ],
 "metadata": {
  "kernelspec": {
   "display_name": "Python 3 (ipykernel)",
   "language": "python",
   "name": "python3"
  },
  "language_info": {
   "codemirror_mode": {
    "name": "ipython",
    "version": 3
   },
   "file_extension": ".py",
   "mimetype": "text/x-python",
   "name": "python",
   "nbconvert_exporter": "python",
   "pygments_lexer": "ipython3",
   "version": "3.10.2"
  }
 },
 "nbformat": 4,
 "nbformat_minor": 5
}
