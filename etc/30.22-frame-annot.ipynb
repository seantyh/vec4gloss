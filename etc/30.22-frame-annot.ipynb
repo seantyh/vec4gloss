{
 "cells": [
  {
   "cell_type": "code",
   "execution_count": 1,
   "id": "e4706806-a00d-4050-9b2d-af0b789c173b",
   "metadata": {},
   "outputs": [],
   "source": [
    "%load_ext autoreload\n",
    "%autoreload 2\n",
    "import sys\n",
    "if \"../src\" not in sys.path:\n",
    "    sys.path.append(\"../src\")"
   ]
  },
  {
   "cell_type": "code",
   "execution_count": 266,
   "id": "ac3b387c-14bc-42f0-9fad-becd7698459f",
   "metadata": {},
   "outputs": [],
   "source": [
    "import re\n",
    "import pickle\n",
    "import json\n",
    "import random\n",
    "from datetime import datetime\n",
    "from pathlib import Path\n",
    "from dataclasses import dataclass\n",
    "from typing import List\n",
    "\n",
    "import numpy as np\n",
    "import torch\n",
    "from tqdm.auto import tqdm\n",
    "\n",
    "from transformers import MT5TokenizerFast\n",
    "\n",
    "from CwnGraph import CwnImage\n",
    "import vec4gloss\n",
    "from vec4gloss import check_hashes\n",
    "from vec4gloss import Vec4GlossModel"
   ]
  },
  {
   "cell_type": "markdown",
   "id": "a7e950b7-c21e-407e-9c78-3246ee1465c1",
   "metadata": {},
   "source": [
    "## Data dependencies\n",
    "```\n",
    "..\\data\\annotation.json 2ed250\n",
    "..\\data\\models\\vec4gloss-defgen-220629-1250\\pytorch_model.bin 9f894f\n",
    "```"
   ]
  },
  {
   "cell_type": "code",
   "execution_count": 3,
   "id": "988179fd-ce73-4741-b434-b93c5bf9dc0f",
   "metadata": {},
   "outputs": [
    {
     "name": "stdout",
     "output_type": "stream",
     "text": [
      "..\\data\\annotation.json 2ed250\n",
      "..\\data\\models\\vec4gloss-defgen-220629-1250\\pytorch_model.bin 9f894f\n"
     ]
    }
   ],
   "source": [
    "vec4gloss_model_dir = \"../data/models/vec4gloss-defgen-220629-1250\"\n",
    "_ = check_hashes([\n",
    "    \"../data/annotation.json\",\n",
    "    vec4gloss_model_dir + \"/pytorch_model.bin\",\n",
    "])"
   ]
  },
  {
   "cell_type": "markdown",
   "id": "361e2c7f-2493-464b-80a8-11eef946e23a",
   "metadata": {},
   "source": [
    "## Loading resources"
   ]
  },
  {
   "cell_type": "code",
   "execution_count": 4,
   "id": "cab82139-ddb9-4e57-99ef-06d879707307",
   "metadata": {},
   "outputs": [],
   "source": [
    "annot_data = json.loads(Path(\"../data/annotation.json\").read_text(encoding=\"UTF-8\"))"
   ]
  },
  {
   "cell_type": "code",
   "execution_count": 5,
   "id": "0588b40e-8cae-4c5a-8dae-a29c12258b60",
   "metadata": {},
   "outputs": [
    {
     "data": {
      "text/plain": [
       "(288,\n",
       " {'sense_id': 3048001,\n",
       "  'head_word': '沿街',\n",
       "  'POS': 'D',\n",
       "  'definition': '表同一事件在經過的街道中重複發生。',\n",
       "  'event_role': 'agent',\n",
       "  'schemas': [{'type': 'event', 'start': 1, 'end': 5},\n",
       "   {'type': 'scope', 'start': 5, 'end': 6},\n",
       "   {'type': 'place', 'start': 6, 'end': 11},\n",
       "   {'type': 'scope', 'start': 11, 'end': 12},\n",
       "   {'type': 'mod', 'start': 12, 'end': 14},\n",
       "   {'type': 'action', 'start': 14, 'end': 16}]})"
      ]
     },
     "execution_count": 5,
     "metadata": {},
     "output_type": "execute_result"
    }
   ],
   "source": [
    "len(annot_data), annot_data[45]"
   ]
  },
  {
   "cell_type": "code",
   "execution_count": 6,
   "id": "f727e5ae-c9ca-4908-832a-ebbb353032ca",
   "metadata": {},
   "outputs": [
    {
     "name": "stdout",
     "output_type": "stream",
     "text": [
      "Using cpu\n"
     ]
    }
   ],
   "source": [
    "## Loading modem\n",
    "use_cuda = torch.cuda.is_available() and \"GeForce\" not in torch.cuda.get_device_name()\n",
    "device = \"cuda\" if use_cuda else \"cpu\"    \n",
    "print(\"Using\", device)\n",
    "\n",
    "model = Vec4GlossModel.from_pretrained(vec4gloss_model_dir).to(device)\n",
    "tokenizer = MT5TokenizerFast.from_pretrained(vec4gloss_model_dir)\n",
    "gen = vec4gloss.gen_func(tokenizer, model)"
   ]
  },
  {
   "cell_type": "code",
   "execution_count": 7,
   "id": "d6cc531a-05c5-418a-afe3-9807892cc619",
   "metadata": {},
   "outputs": [],
   "source": [
    "CWN_VER = \"v.2022.06.21\"\n",
    "cwn = CwnImage.load(CWN_VER)"
   ]
  },
  {
   "cell_type": "markdown",
   "id": "f4cdb3b0-984b-4bc9-8317-f8c4e96390e5",
   "metadata": {},
   "source": [
    "## Decoding"
   ]
  },
  {
   "cell_type": "code",
   "execution_count": 267,
   "id": "674cd4bf-6ae4-4687-966e-9b671be81dc8",
   "metadata": {},
   "outputs": [],
   "source": [
    "@dataclass\n",
    "class DepWinOutput:\n",
    "    dep_win: int\n",
    "    lratio: float\n",
    "    token_probs: List[float]\n",
    "    lratios: List[float]"
   ]
  },
  {
   "cell_type": "code",
   "execution_count": 268,
   "id": "4a00d723-c268-4d11-8316-a40a1dd4f81c",
   "metadata": {},
   "outputs": [],
   "source": [
    "def compute_mean_vec(examples):       \n",
    "    enc_vecs = []\n",
    "    for ex in examples:\n",
    "        try:\n",
    "            with torch.no_grad():\n",
    "                enc_vecs.append(vec4gloss.extract_encoder_vector(ex, tokenizer, model))\n",
    "        except AssertionError:\n",
    "            pass\n",
    "    return torch.cat(enc_vecs).mean(0, keepdim=True).to(device)"
   ]
  },
  {
   "cell_type": "code",
   "execution_count": 329,
   "id": "af7b4e4a-1e02-4655-b8af-d599000bbfbb",
   "metadata": {},
   "outputs": [],
   "source": [
    "def compute_dependents(tgt_seq, tgt_idx, dbg=False):\n",
    "    assert tgt_idx < len(tgt_seq)\n",
    "    token_probs = []    \n",
    "    generated = [0] + tgt_seq[:tgt_idx]\n",
    "    tgt_token = tgt_seq[tgt_idx]\n",
    "    ret_lr = 0    \n",
    "    lrs = []\n",
    "    \n",
    "    def dbg_print(*x):\n",
    "        if dbg: print(*x)\n",
    "        \n",
    "    dbg_print(\"target: \", tokenizer.decode([tgt_token]))\n",
    "    for cursor in range(min(8, len(generated))):\n",
    "        seq_mask = torch.ones(1, len(generated), dtype=torch.long)\n",
    "        seq_mask[0, len(generated)-cursor:] = 0\n",
    "        seq_mask.to(device)        \n",
    "        input_ids = torch.tensor([generated]).to(device)     \n",
    "        with torch.no_grad():        \n",
    "            out = model(decoder_encoder_vector=mean_vec, \n",
    "                        decoder_input_ids=input_ids,\n",
    "                        decoder_attention_mask=seq_mask)                \n",
    "        token_prob = out.logits.softmax(-1)[0, -1, tgt_token].item()        \n",
    "        token_probs.append(token_prob)\n",
    "        mask_text = tokenizer.decode(torch.mul(input_ids, seq_mask)[0, 1:])\n",
    "        mask_text = mask_text.replace(\"<pad>\", \"□\")        \n",
    "                \n",
    "        if len(token_probs) > 1:            \n",
    "            lr = -2*np.log(token_probs[-1] / token_probs[-2])\n",
    "        else:\n",
    "            lr = 0\n",
    "        lrs.append(lr)\n",
    "        dbg_print(\"({:>2d}) [{:.4f}] {} ({:.2f})\".format(cursor, token_prob, mask_text, lr))\n",
    "    \n",
    "    win = len(lrs)-1\n",
    "    ret_lr = lrs[-1]\n",
    "    for lr_i, lr_x in enumerate(lrs):\n",
    "        if lr_x > 0.2:            \n",
    "            win = lr_i\n",
    "            ret_lr = lr_x\n",
    "            break                \n",
    "    return DepWinOutput(win, ret_lr, token_probs, lrs)"
   ]
  },
  {
   "cell_type": "markdown",
   "id": "8d9f4396-865f-47ef-b0af-38a9418e83f2",
   "metadata": {},
   "source": [
    "## Finding dependent span"
   ]
  },
  {
   "cell_type": "code",
   "execution_count": 334,
   "id": "d122e1b4-f1fe-441c-831a-9138c1227221",
   "metadata": {},
   "outputs": [
    {
     "name": "stdout",
     "output_type": "stream",
     "text": [
      "豈料\n",
      "Tgt: D。表後述事件不在預期之中發生。\n",
      "Gen: Dk。表後述事件不在預期之中發生。\n"
     ]
    }
   ],
   "source": [
    "annot_x = annot_data[10] \n",
    "example_sentences = cwn.from_sense_id(\"{:08d}\".format(annot_x[\"sense_id\"])).examples\n",
    "mean_vec = compute_mean_vec(example_sentences)\n",
    "print(annot_x[\"head_word\"])\n",
    "tgt_text = \"{}。{}\".format(annot_x[\"POS\"], annot_x[\"definition\"])\n",
    "tgt_seq = tokenizer(tgt_text)[\"input_ids\"]\n",
    "print(\"Tgt:\", tgt_text)\n",
    "print(\"Gen:\", vec4gloss.decode_vector(mean_vec, tokenizer, model))"
   ]
  },
  {
   "cell_type": "code",
   "execution_count": 335,
   "id": "695b8f08-1283-4792-a8e2-fff9a9901300",
   "metadata": {},
   "outputs": [
    {
     "name": "stdout",
     "output_type": "stream",
     "text": [
      " 2. [ 3.29] 　表 <- D。\n",
      " 3. [ 0.23] 　後 <- 表\n",
      " 4. [ 0.34] 　述 <- 。表後\n",
      " 5. [ 2.78] 事件 <- D。表後述\n",
      " 6. [ 0.85] 不在 <- 述事件\n",
      " 7. [ 0.22] 　預 <- 後述事件不在\n",
      " 8. [-0.08] 　期 <- 。表後述事件不在預\n",
      " 9. [13.63] 之中 <- 預期\n",
      "10. [ 1.37] 　發 <- 不在預期之中\n",
      "11. [ 3.35] 　生 <- 之中發\n"
     ]
    }
   ],
   "source": [
    "for idx in range(2, len(tgt_seq)-2):    \n",
    "    token_text = tokenizer.convert_ids_to_tokens(tgt_seq[idx])    \n",
    "    dep_out = compute_dependents(tgt_seq, idx, dbg=False)\n",
    "    dep_text = tokenizer.decode(tgt_seq[idx-dep_out.dep_win:idx])\n",
    "    print(\"{:>2d}. [{:5.2f}] {:\\u3000>2s} <- {}\".format(idx, dep_out.lratio, token_text, dep_text))"
   ]
  },
  {
   "cell_type": "code",
   "execution_count": 336,
   "id": "06930618-e6f4-4f41-9ef0-1987587959b5",
   "metadata": {},
   "outputs": [
    {
     "data": {
      "text/plain": [
       "[31875]"
      ]
     },
     "execution_count": 336,
     "metadata": {},
     "output_type": "execute_result"
    }
   ],
   "source": [
    "tgt_seq[11-1:11]"
   ]
  },
  {
   "cell_type": "code",
   "execution_count": 338,
   "id": "24aa9819-ea8c-4af0-9847-ab9f34f93874",
   "metadata": {},
   "outputs": [
    {
     "name": "stdout",
     "output_type": "stream",
     "text": [
      "target:  生\n",
      "( 0) [0.9972] D。表後述事件不在預期之中發 (0.00)\n",
      "( 1) [0.9985] D。表後述事件不在預期之中□ (-0.00)\n",
      "( 2) [0.1868] D。表後述事件不在預期□□ (3.35)\n",
      "( 3) [0.1659] D。表後述事件不在預□□□ (0.24)\n",
      "( 4) [0.4924] D。表後述事件不在□□□□ (-2.18)\n",
      "( 5) [0.2968] D。表後述事件□□□□□ (1.01)\n",
      "( 6) [0.8529] D。表後述□□□□□□ (-2.11)\n",
      "( 7) [0.9953] D。表後□□□□□□□ (-0.31)\n"
     ]
    }
   ],
   "source": [
    "dep_out = compute_dependents(tgt_seq, 11, dbg=True)"
   ]
  },
  {
   "cell_type": "code",
   "execution_count": null,
   "id": "c9feb89b-b69f-4f41-a13f-e9ff30502418",
   "metadata": {},
   "outputs": [],
   "source": []
  }
 ],
 "metadata": {
  "kernelspec": {
   "display_name": "Python 3 (ipykernel)",
   "language": "python",
   "name": "python3"
  },
  "language_info": {
   "codemirror_mode": {
    "name": "ipython",
    "version": 3
   },
   "file_extension": ".py",
   "mimetype": "text/x-python",
   "name": "python",
   "nbconvert_exporter": "python",
   "pygments_lexer": "ipython3",
   "version": "3.10.2"
  }
 },
 "nbformat": 4,
 "nbformat_minor": 5
}
